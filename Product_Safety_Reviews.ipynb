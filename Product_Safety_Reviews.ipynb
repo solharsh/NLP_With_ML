{
  "nbformat": 4,
  "nbformat_minor": 0,
  "metadata": {
    "colab": {
      "name": "Product_Safety_Reviews.ipynb",
      "provenance": [],
      "mount_file_id": "1PomDNkelUAJsujpYvXZj6m4RiMqkUH2E",
      "authorship_tag": "ABX9TyPJhpA2wJkFunG7+fgOZ32W",
      "include_colab_link": true
    },
    "kernelspec": {
      "name": "python3",
      "display_name": "Python 3"
    }
  },
  "cells": [
    {
      "cell_type": "markdown",
      "metadata": {
        "id": "view-in-github",
        "colab_type": "text"
      },
      "source": [
        "<a href=\"https://colab.research.google.com/github/solharsh/NLP_With_ML/blob/master/Product_Safety_Reviews.ipynb\" target=\"_parent\"><img src=\"https://colab.research.google.com/assets/colab-badge.svg\" alt=\"Open In Colab\"/></a>"
      ]
    },
    {
      "cell_type": "markdown",
      "metadata": {
        "id": "aUVvhyDHs430",
        "colab_type": "text"
      },
      "source": [
        "## Business Problem: \n",
        "\n",
        "Amazon Retail receives billions of reviews on its products every year. Some of these reviews indicate a safety issue and a need to potentially suppress the product (ASIN). In these cases, review text is sent to annotation teams worldwide that decide whether there is a product safety issue or not. \n",
        "\n",
        "The team responsible for this annotation is looking at a potential Machine Learning solution to automate this process given the extensive dataset created.\n",
        "\n",
        "## ML Problem:\n",
        "\n",
        "This is a binary classification problem of using review text, review title, star rating and date information to predict if a product is a Product Safety Issue (1) or Not Product Safety Issue (0). We will be using F1 score as our evaluation metric. \n",
        "\n",
        "## Task and Deliverables:\n",
        "\n",
        "Use your model to predict on the public_test_features and submit to Leaderboard. You can submit as many times to Leaderboard as you like. Each student must individually submit.\n",
        "\n",
        "## Dataset Description\n",
        "\n",
        "There are seven features in the dataset, five that are useful. \n",
        "\n",
        "    ID: Unique ID created by Leaderboard when splitting the dataset. Numeric\n",
        "    doc_id: Amazon ID for the review instance. Numeric.\n",
        "    Text: raw review text as it appeared on the Amazon site. Text.\n",
        "    date: time stamp for the review. Text.\n",
        "    star_rating: 0-5. Numeric.\n",
        "    title: raw review title as it appeared on the Amazon site. Text.\n",
        "    human_tag: Ground truth if Amazon's human annotators determined if the review was a Product Safety Issue or Not Product Safety Issue. Binary."
      ]
    },
    {
      "cell_type": "code",
      "metadata": {
        "id": "DMw01Y6CzGZs",
        "colab_type": "code",
        "colab": {}
      },
      "source": [
        "#getting more RAM from google colab\n",
        "a = []\n",
        "while(1):\n",
        "    a.append('1')"
      ],
      "execution_count": 0,
      "outputs": []
    },
    {
      "cell_type": "code",
      "metadata": {
        "id": "PFVIX5d0rvBi",
        "colab_type": "code",
        "colab": {
          "base_uri": "https://localhost:8080/",
          "height": 67
        },
        "outputId": "342b2309-c914-49c4-81cc-8396a7d06256"
      },
      "source": [
        "import nltk\n",
        "nltk.download('stopwords')"
      ],
      "execution_count": 1,
      "outputs": [
        {
          "output_type": "stream",
          "text": [
            "[nltk_data] Downloading package stopwords to /root/nltk_data...\n",
            "[nltk_data]   Package stopwords is already up-to-date!\n"
          ],
          "name": "stdout"
        },
        {
          "output_type": "execute_result",
          "data": {
            "text/plain": [
              "True"
            ]
          },
          "metadata": {
            "tags": []
          },
          "execution_count": 1
        }
      ]
    },
    {
      "cell_type": "code",
      "metadata": {
        "id": "iKSER76Crzjo",
        "colab_type": "code",
        "colab": {
          "base_uri": "https://localhost:8080/",
          "height": 33
        },
        "outputId": "c6b7e375-fee8-4c36-c72e-d909c55e6f49"
      },
      "source": [
        "pip install vaderSentiment"
      ],
      "execution_count": 2,
      "outputs": [
        {
          "output_type": "stream",
          "text": [
            "Requirement already satisfied: vaderSentiment in /usr/local/lib/python3.6/dist-packages (3.3.1)\n"
          ],
          "name": "stdout"
        }
      ]
    },
    {
      "cell_type": "code",
      "metadata": {
        "id": "CZpd-Dg1r6O2",
        "colab_type": "code",
        "colab": {
          "base_uri": "https://localhost:8080/",
          "height": 83
        },
        "outputId": "d2f88286-38f4-454b-f34e-6631e7f04141"
      },
      "source": [
        "pip install contractions"
      ],
      "execution_count": 3,
      "outputs": [
        {
          "output_type": "stream",
          "text": [
            "Requirement already satisfied: contractions in /usr/local/lib/python3.6/dist-packages (0.0.24)\n",
            "Requirement already satisfied: textsearch in /usr/local/lib/python3.6/dist-packages (from contractions) (0.0.17)\n",
            "Requirement already satisfied: Unidecode in /usr/local/lib/python3.6/dist-packages (from textsearch->contractions) (1.1.1)\n",
            "Requirement already satisfied: pyahocorasick in /usr/local/lib/python3.6/dist-packages (from textsearch->contractions) (1.4.0)\n"
          ],
          "name": "stdout"
        }
      ]
    },
    {
      "cell_type": "code",
      "metadata": {
        "id": "ePOWotqurkmO",
        "colab_type": "code",
        "colab": {
          "base_uri": "https://localhost:8080/",
          "height": 170
        },
        "outputId": "c81bb3c0-2d45-439b-f7f5-8bc506037c6d"
      },
      "source": [
        "import os\n",
        "import numpy as np\n",
        "import pandas as pd\n",
        "import re\n",
        "import spacy\n",
        "nlp = spacy.load(\"en_core_web_sm\")\n",
        "from spacy import displacy\n",
        "import nltk\n",
        "from nltk.tokenize import word_tokenize\n",
        "from nltk.tokenize import sent_tokenize\n",
        "nltk.download('averaged_perceptron_tagger')\n",
        "stopword = nltk.corpus.stopwords.words('english')\n",
        "from nltk.corpus import stopwords\n",
        "nltk.download('words')\n",
        "from nltk.text import Text\n",
        "import string, re\n",
        "from sklearn.feature_extraction.text import CountVectorizer\n",
        "string.punctuation\n",
        "wn = nltk.WordNetLemmatizer()\n",
        "import matplotlib.pyplot as plt\n",
        "%matplotlib inline\n",
        "import spacy\n",
        "#nlp = spacy.load('en')\n",
        "from textblob import TextBlob, Word, Blobber\n",
        "from textblob.classifiers import NaiveBayesClassifier\n",
        "from textblob.taggers import NLTKTagger\n",
        "from vaderSentiment.vaderSentiment import SentimentIntensityAnalyzer\n",
        "from tqdm import tqdm_notebook as tqdm\n",
        "from tqdm import trange\n",
        "analyzer = SentimentIntensityAnalyzer()\n",
        "# more common imports\n",
        "import pandas as pd\n",
        "import numpy as np\n",
        "from collections import Counter\n",
        "import re\n",
        "\n",
        "# languange processing imports\n",
        "import nltk\n",
        "from gensim.corpora import Dictionary\n",
        "# preprocessing imports\n",
        "from sklearn.preprocessing import LabelEncoder\n",
        "\n",
        "# model imports\n",
        "from gensim.models.ldamulticore import LdaMulticore\n",
        "from gensim.models.word2vec import Word2Vec\n",
        "from sklearn.ensemble import RandomForestClassifier, AdaBoostClassifier\n",
        "from sklearn.linear_model import LogisticRegression\n",
        "# hyperparameter training imports\n",
        "from sklearn.model_selection import GridSearchCV\n",
        "\n",
        "# visualization imports\n",
        "from IPython.display import display\n",
        "import seaborn as sns\n",
        "import matplotlib.pyplot as plt\n",
        "import matplotlib.image as mpimg\n",
        "import base64\n",
        "import io\n",
        "%matplotlib inline\n",
        "sns.set()  # defines the style of the plots to be seaborn style\n",
        "\n",
        "import spacy\n",
        "import pandas as pd\n",
        "import numpy as np\n",
        "import nltk\n",
        "from nltk.tokenize.toktok import ToktokTokenizer\n",
        "import re\n",
        "from bs4 import BeautifulSoup\n",
        "from contractions import contractions_dict\n",
        "import unicodedata\n",
        "\n",
        "nlp = spacy.load('en', parse = False, tag=False, entity=False)\n",
        "tokenizer = ToktokTokenizer()\n",
        "stopword_list = nltk.corpus.stopwords.words('english')\n",
        "stopword_list.remove('no')\n",
        "stopword_list.remove('not')"
      ],
      "execution_count": 4,
      "outputs": [
        {
          "output_type": "stream",
          "text": [
            "[nltk_data] Downloading package averaged_perceptron_tagger to\n",
            "[nltk_data]     /root/nltk_data...\n",
            "[nltk_data]   Package averaged_perceptron_tagger is already up-to-\n",
            "[nltk_data]       date!\n",
            "[nltk_data] Downloading package words to /root/nltk_data...\n",
            "[nltk_data]   Package words is already up-to-date!\n"
          ],
          "name": "stdout"
        },
        {
          "output_type": "stream",
          "text": [
            "/usr/local/lib/python3.6/dist-packages/statsmodels/tools/_testing.py:19: FutureWarning: pandas.util.testing is deprecated. Use the functions in the public API at pandas.testing instead.\n",
            "  import pandas.util.testing as tm\n"
          ],
          "name": "stderr"
        }
      ]
    },
    {
      "cell_type": "code",
      "metadata": {
        "id": "SDrNW2a7rm3W",
        "colab_type": "code",
        "colab": {}
      },
      "source": [
        "dataset = pd.read_csv(\"/content/training.csv\")"
      ],
      "execution_count": 0,
      "outputs": []
    },
    {
      "cell_type": "code",
      "metadata": {
        "id": "XUclWLNDsssp",
        "colab_type": "code",
        "colab": {
          "base_uri": "https://localhost:8080/",
          "height": 197
        },
        "outputId": "c8d19c70-1300-4463-b555-6bce76a4c63f"
      },
      "source": [
        "dataset.head()"
      ],
      "execution_count": 6,
      "outputs": [
        {
          "output_type": "execute_result",
          "data": {
            "text/html": [
              "<div>\n",
              "<style scoped>\n",
              "    .dataframe tbody tr th:only-of-type {\n",
              "        vertical-align: middle;\n",
              "    }\n",
              "\n",
              "    .dataframe tbody tr th {\n",
              "        vertical-align: top;\n",
              "    }\n",
              "\n",
              "    .dataframe thead th {\n",
              "        text-align: right;\n",
              "    }\n",
              "</style>\n",
              "<table border=\"1\" class=\"dataframe\">\n",
              "  <thead>\n",
              "    <tr style=\"text-align: right;\">\n",
              "      <th></th>\n",
              "      <th>ID</th>\n",
              "      <th>doc_id</th>\n",
              "      <th>text</th>\n",
              "      <th>date</th>\n",
              "      <th>star_rating</th>\n",
              "      <th>title</th>\n",
              "      <th>human_tag</th>\n",
              "    </tr>\n",
              "  </thead>\n",
              "  <tbody>\n",
              "    <tr>\n",
              "      <th>0</th>\n",
              "      <td>47490</td>\n",
              "      <td>15808037321</td>\n",
              "      <td>I ordered a sample of the Dietspotlight Burn, ...</td>\n",
              "      <td>6/25/2018 17:51</td>\n",
              "      <td>1</td>\n",
              "      <td>DO NOT BUY!</td>\n",
              "      <td>0</td>\n",
              "    </tr>\n",
              "    <tr>\n",
              "      <th>1</th>\n",
              "      <td>16127</td>\n",
              "      <td>16042300811</td>\n",
              "      <td>This coffee tasts terrible as if it got burnt ...</td>\n",
              "      <td>2/8/2018 15:59</td>\n",
              "      <td>2</td>\n",
              "      <td>Coffee not good</td>\n",
              "      <td>0</td>\n",
              "    </tr>\n",
              "    <tr>\n",
              "      <th>2</th>\n",
              "      <td>51499</td>\n",
              "      <td>16246716471</td>\n",
              "      <td>I've been buying lightly salted Planters cashe...</td>\n",
              "      <td>3/22/2018 17:53</td>\n",
              "      <td>2</td>\n",
              "      <td>Poor Quality - Burnt, Shriveled Nuts With Blac...</td>\n",
              "      <td>0</td>\n",
              "    </tr>\n",
              "    <tr>\n",
              "      <th>3</th>\n",
              "      <td>36725</td>\n",
              "      <td>14460351031</td>\n",
              "      <td>This product is great in so many ways. It goes...</td>\n",
              "      <td>12/7/2017 8:49</td>\n",
              "      <td>4</td>\n",
              "      <td>Very lovey product, good sunscreen, but strong...</td>\n",
              "      <td>0</td>\n",
              "    </tr>\n",
              "    <tr>\n",
              "      <th>4</th>\n",
              "      <td>49041</td>\n",
              "      <td>15509997211</td>\n",
              "      <td>My skin did not agree with this product, it wo...</td>\n",
              "      <td>3/21/2018 13:51</td>\n",
              "      <td>1</td>\n",
              "      <td>Not for everyone. Reactions can be harsh.</td>\n",
              "      <td>1</td>\n",
              "    </tr>\n",
              "  </tbody>\n",
              "</table>\n",
              "</div>"
            ],
            "text/plain": [
              "      ID  ...  human_tag\n",
              "0  47490  ...          0\n",
              "1  16127  ...          0\n",
              "2  51499  ...          0\n",
              "3  36725  ...          0\n",
              "4  49041  ...          1\n",
              "\n",
              "[5 rows x 7 columns]"
            ]
          },
          "metadata": {
            "tags": []
          },
          "execution_count": 6
        }
      ]
    },
    {
      "cell_type": "code",
      "metadata": {
        "id": "Bld452AvxNqv",
        "colab_type": "code",
        "colab": {
          "base_uri": "https://localhost:8080/",
          "height": 287
        },
        "outputId": "7674681b-6563-4378-a3f0-7c83403d9fe9"
      },
      "source": [
        "dataset.describe()"
      ],
      "execution_count": 7,
      "outputs": [
        {
          "output_type": "execute_result",
          "data": {
            "text/html": [
              "<div>\n",
              "<style scoped>\n",
              "    .dataframe tbody tr th:only-of-type {\n",
              "        vertical-align: middle;\n",
              "    }\n",
              "\n",
              "    .dataframe tbody tr th {\n",
              "        vertical-align: top;\n",
              "    }\n",
              "\n",
              "    .dataframe thead th {\n",
              "        text-align: right;\n",
              "    }\n",
              "</style>\n",
              "<table border=\"1\" class=\"dataframe\">\n",
              "  <thead>\n",
              "    <tr style=\"text-align: right;\">\n",
              "      <th></th>\n",
              "      <th>ID</th>\n",
              "      <th>doc_id</th>\n",
              "      <th>star_rating</th>\n",
              "      <th>human_tag</th>\n",
              "    </tr>\n",
              "  </thead>\n",
              "  <tbody>\n",
              "    <tr>\n",
              "      <th>count</th>\n",
              "      <td>63134.000000</td>\n",
              "      <td>6.313400e+04</td>\n",
              "      <td>63134.000000</td>\n",
              "      <td>63134.000000</td>\n",
              "    </tr>\n",
              "    <tr>\n",
              "      <th>mean</th>\n",
              "      <td>39385.880350</td>\n",
              "      <td>1.538390e+10</td>\n",
              "      <td>2.191054</td>\n",
              "      <td>0.154576</td>\n",
              "    </tr>\n",
              "    <tr>\n",
              "      <th>std</th>\n",
              "      <td>22793.375868</td>\n",
              "      <td>1.248762e+09</td>\n",
              "      <td>1.236112</td>\n",
              "      <td>0.361503</td>\n",
              "    </tr>\n",
              "    <tr>\n",
              "      <th>min</th>\n",
              "      <td>0.000000</td>\n",
              "      <td>1.421766e+09</td>\n",
              "      <td>1.000000</td>\n",
              "      <td>0.000000</td>\n",
              "    </tr>\n",
              "    <tr>\n",
              "      <th>25%</th>\n",
              "      <td>19601.250000</td>\n",
              "      <td>1.458434e+10</td>\n",
              "      <td>1.000000</td>\n",
              "      <td>0.000000</td>\n",
              "    </tr>\n",
              "    <tr>\n",
              "      <th>50%</th>\n",
              "      <td>39342.500000</td>\n",
              "      <td>1.557187e+10</td>\n",
              "      <td>2.000000</td>\n",
              "      <td>0.000000</td>\n",
              "    </tr>\n",
              "    <tr>\n",
              "      <th>75%</th>\n",
              "      <td>59123.750000</td>\n",
              "      <td>1.625501e+10</td>\n",
              "      <td>3.000000</td>\n",
              "      <td>0.000000</td>\n",
              "    </tr>\n",
              "    <tr>\n",
              "      <th>max</th>\n",
              "      <td>78917.000000</td>\n",
              "      <td>1.812219e+10</td>\n",
              "      <td>5.000000</td>\n",
              "      <td>1.000000</td>\n",
              "    </tr>\n",
              "  </tbody>\n",
              "</table>\n",
              "</div>"
            ],
            "text/plain": [
              "                 ID        doc_id   star_rating     human_tag\n",
              "count  63134.000000  6.313400e+04  63134.000000  63134.000000\n",
              "mean   39385.880350  1.538390e+10      2.191054      0.154576\n",
              "std    22793.375868  1.248762e+09      1.236112      0.361503\n",
              "min        0.000000  1.421766e+09      1.000000      0.000000\n",
              "25%    19601.250000  1.458434e+10      1.000000      0.000000\n",
              "50%    39342.500000  1.557187e+10      2.000000      0.000000\n",
              "75%    59123.750000  1.625501e+10      3.000000      0.000000\n",
              "max    78917.000000  1.812219e+10      5.000000      1.000000"
            ]
          },
          "metadata": {
            "tags": []
          },
          "execution_count": 7
        }
      ]
    },
    {
      "cell_type": "code",
      "metadata": {
        "id": "6oEDDNz-0_GN",
        "colab_type": "code",
        "colab": {
          "base_uri": "https://localhost:8080/",
          "height": 250
        },
        "outputId": "0d50cb78-1326-4452-ed11-7d620db215a5"
      },
      "source": [
        "dataset.info()"
      ],
      "execution_count": 8,
      "outputs": [
        {
          "output_type": "stream",
          "text": [
            "<class 'pandas.core.frame.DataFrame'>\n",
            "RangeIndex: 63134 entries, 0 to 63133\n",
            "Data columns (total 7 columns):\n",
            " #   Column       Non-Null Count  Dtype \n",
            "---  ------       --------------  ----- \n",
            " 0   ID           63134 non-null  int64 \n",
            " 1   doc_id       63134 non-null  int64 \n",
            " 2   text         63128 non-null  object\n",
            " 3   date         63134 non-null  object\n",
            " 4   star_rating  63134 non-null  int64 \n",
            " 5   title        63133 non-null  object\n",
            " 6   human_tag    63134 non-null  int64 \n",
            "dtypes: int64(4), object(3)\n",
            "memory usage: 3.4+ MB\n"
          ],
          "name": "stdout"
        }
      ]
    },
    {
      "cell_type": "code",
      "metadata": {
        "id": "yXjrwzdN1GGf",
        "colab_type": "code",
        "colab": {
          "base_uri": "https://localhost:8080/",
          "height": 281
        },
        "outputId": "bbbd37f8-7a27-4b98-a082-e7a4b8421ee9"
      },
      "source": [
        "dataset['new_text'] = dataset[['text','title']].apply(lambda x: ':'.join(str(s) for s in x), axis=1)\n",
        "dataset.head()"
      ],
      "execution_count": 9,
      "outputs": [
        {
          "output_type": "execute_result",
          "data": {
            "text/html": [
              "<div>\n",
              "<style scoped>\n",
              "    .dataframe tbody tr th:only-of-type {\n",
              "        vertical-align: middle;\n",
              "    }\n",
              "\n",
              "    .dataframe tbody tr th {\n",
              "        vertical-align: top;\n",
              "    }\n",
              "\n",
              "    .dataframe thead th {\n",
              "        text-align: right;\n",
              "    }\n",
              "</style>\n",
              "<table border=\"1\" class=\"dataframe\">\n",
              "  <thead>\n",
              "    <tr style=\"text-align: right;\">\n",
              "      <th></th>\n",
              "      <th>ID</th>\n",
              "      <th>doc_id</th>\n",
              "      <th>text</th>\n",
              "      <th>date</th>\n",
              "      <th>star_rating</th>\n",
              "      <th>title</th>\n",
              "      <th>human_tag</th>\n",
              "      <th>new_text</th>\n",
              "    </tr>\n",
              "  </thead>\n",
              "  <tbody>\n",
              "    <tr>\n",
              "      <th>0</th>\n",
              "      <td>47490</td>\n",
              "      <td>15808037321</td>\n",
              "      <td>I ordered a sample of the Dietspotlight Burn, ...</td>\n",
              "      <td>6/25/2018 17:51</td>\n",
              "      <td>1</td>\n",
              "      <td>DO NOT BUY!</td>\n",
              "      <td>0</td>\n",
              "      <td>I ordered a sample of the Dietspotlight Burn, ...</td>\n",
              "    </tr>\n",
              "    <tr>\n",
              "      <th>1</th>\n",
              "      <td>16127</td>\n",
              "      <td>16042300811</td>\n",
              "      <td>This coffee tasts terrible as if it got burnt ...</td>\n",
              "      <td>2/8/2018 15:59</td>\n",
              "      <td>2</td>\n",
              "      <td>Coffee not good</td>\n",
              "      <td>0</td>\n",
              "      <td>This coffee tasts terrible as if it got burnt ...</td>\n",
              "    </tr>\n",
              "    <tr>\n",
              "      <th>2</th>\n",
              "      <td>51499</td>\n",
              "      <td>16246716471</td>\n",
              "      <td>I've been buying lightly salted Planters cashe...</td>\n",
              "      <td>3/22/2018 17:53</td>\n",
              "      <td>2</td>\n",
              "      <td>Poor Quality - Burnt, Shriveled Nuts With Blac...</td>\n",
              "      <td>0</td>\n",
              "      <td>I've been buying lightly salted Planters cashe...</td>\n",
              "    </tr>\n",
              "    <tr>\n",
              "      <th>3</th>\n",
              "      <td>36725</td>\n",
              "      <td>14460351031</td>\n",
              "      <td>This product is great in so many ways. It goes...</td>\n",
              "      <td>12/7/2017 8:49</td>\n",
              "      <td>4</td>\n",
              "      <td>Very lovey product, good sunscreen, but strong...</td>\n",
              "      <td>0</td>\n",
              "      <td>This product is great in so many ways. It goes...</td>\n",
              "    </tr>\n",
              "    <tr>\n",
              "      <th>4</th>\n",
              "      <td>49041</td>\n",
              "      <td>15509997211</td>\n",
              "      <td>My skin did not agree with this product, it wo...</td>\n",
              "      <td>3/21/2018 13:51</td>\n",
              "      <td>1</td>\n",
              "      <td>Not for everyone. Reactions can be harsh.</td>\n",
              "      <td>1</td>\n",
              "      <td>My skin did not agree with this product, it wo...</td>\n",
              "    </tr>\n",
              "  </tbody>\n",
              "</table>\n",
              "</div>"
            ],
            "text/plain": [
              "      ID  ...                                           new_text\n",
              "0  47490  ...  I ordered a sample of the Dietspotlight Burn, ...\n",
              "1  16127  ...  This coffee tasts terrible as if it got burnt ...\n",
              "2  51499  ...  I've been buying lightly salted Planters cashe...\n",
              "3  36725  ...  This product is great in so many ways. It goes...\n",
              "4  49041  ...  My skin did not agree with this product, it wo...\n",
              "\n",
              "[5 rows x 8 columns]"
            ]
          },
          "metadata": {
            "tags": []
          },
          "execution_count": 9
        }
      ]
    },
    {
      "cell_type": "code",
      "metadata": {
        "id": "SWBdnwBX3mvm",
        "colab_type": "code",
        "colab": {
          "base_uri": "https://localhost:8080/",
          "height": 170
        },
        "outputId": "f774baf3-523f-4750-c7bb-1a02ce6392be"
      },
      "source": [
        "wpt = nltk.WordPunctTokenizer()\n",
        "stop_words = nltk.corpus.stopwords.words('english')\n",
        "\n",
        "def normalize_document(doc):\n",
        "    # lower case and remove special characters\\whitespaces\n",
        "    doc = re.sub(r'[^a-zA-Z0-9\\s]', '', doc, re.I)\n",
        "    doc = doc.lower()\n",
        "    doc = doc.strip()\n",
        "    # tokenize document\n",
        "    tokens = wpt.tokenize(doc)\n",
        "    # filter stopwords out of document\n",
        "    filtered_tokens = [token for token in tokens if token not in stop_words]\n",
        "    # re-create document from filtered tokens\n",
        "    doc = ' '.join(filtered_tokens)\n",
        "    return doc\n",
        "\n",
        "normalize_corpus = np.vectorize(normalize_document)\n",
        "norm_corpus = normalize_corpus(dataset.new_text)\n",
        "norm_corpus"
      ],
      "execution_count": 10,
      "outputs": [
        {
          "output_type": "execute_result",
          "data": {
            "text/plain": [
              "array([\"ordered sample dietspotlight burn 4 days taking directed started making sick point vomiting quit taking sent another bottle even sample , thinking part sample threw . month later received another bottle ' order . looked credit card statement day came realized charged two times $ 65 . 90 . aware sign sample automatically start charging credit card sending monthly orders . provide packing slips emails . unfortunately ' realize two charges made one credit card billing cycles . disguise phone number credit card bill putting dashes listing phone number twice row making one long 20 digit number . would recommend buying product , first hard digestive system , second shady billing system . able get $ 30 $ 131 . 80 charged unable return product .: buy !\",\n",
              "       'coffee tasts terrible got burnt roasting process generally love smooth costa rician coffeecoffee good',\n",
              "       \"ive buying lightly salted planters cashews long time latest orders really disappointing . nuts look shriveled , black spots taste acrid , like ' burnt . ' pick way around bad ones thrown away 1 / 4 1 / 3 pieces bad inedible . ' know changed , case three cans received recently . love nuts normally ' hesitating whether continue buying -- ' want waste money .: poor quality - burnt , shriveled nuts black spots\",\n",
              "       ...,\n",
              "       \"second pair issue months 2 - 3 ) control part earphone becomes incredibly hot plugged power buttons stop working altogether . charge , pair , totaly dead . hot mean burnt finger tips . thankfully area small , damage done yowza . first time happened got replacement pair form customer service , though nice , took 2 weeks emailing back forth service ticket #, pictures , explanations explanations replacement set mailed . thing happening replacement set . overheating longer working . want go another 2 week daily email company hold customer service ( 51 : 37 far human yet ...). sound snob , ' get . sound fine , worked . ear pieces little difficult figure customize , one sit ear comfortably gym workout magnet feature nice ' fall . however , worked less 50 % time ' owned , price unacceptable .: overheat stop working , original pair replacement\",\n",
              "       'feet slide walk starts burn heal time outer side right foot starts hurt 5 minutes walking wife also never stops saying retarded look either . fan .: slide somewhat hurt time',\n",
              "       \"really excited 34 ; holy grail &# 34 ; sunburn product . bought headed cancun , unfortunately getting sunburn day two trip . applied cream religiously ' get much relief see difference burn . think going stick aloe gel - gel ' sticky aloe gel ' impressed . skin still hot ' notice speeding healing . hope works decide buy .: ' ok , might work someone else\"],\n",
              "      dtype='<U27505')"
            ]
          },
          "metadata": {
            "tags": []
          },
          "execution_count": 10
        }
      ]
    },
    {
      "cell_type": "code",
      "metadata": {
        "id": "DBr7YdnB33Dd",
        "colab_type": "code",
        "colab": {}
      },
      "source": [
        "#Cleaning Text - strip HTML\n",
        "def strip_html_tags(text):\n",
        "    soup = BeautifulSoup(text, \"html.parser\")\n",
        "    stripped_text = soup.get_text()\n",
        "    return stripped_text\n",
        "#Removing accented characters\n",
        "def remove_accented_chars(text):\n",
        "    text = unicodedata.normalize('NFKD', text).encode('ascii', 'ignore').decode('utf-8', 'ignore')\n",
        "    return text\n",
        "#Expanding Contractions\n",
        "def expand_contractions(phrase):\n",
        "    # specific\n",
        "    phrase = re.sub(r\"won\\'t\", \"will not\", phrase)\n",
        "    phrase = re.sub(r\"can\\'t\", \"can not\", phrase)\n",
        "    # general\n",
        "    phrase = re.sub(r\"n\\'t\", \" not\", phrase)\n",
        "    phrase = re.sub(r\"\\'re\", \" are\", phrase)\n",
        "    phrase = re.sub(r\"\\'s\", \" is\", phrase)\n",
        "    phrase = re.sub(r\"\\'d\", \" would\", phrase)\n",
        "    phrase = re.sub(r\"\\'ll\", \" will\", phrase)\n",
        "    phrase = re.sub(r\"\\'t\", \" not\", phrase)\n",
        "    phrase = re.sub(r\"\\'ve\", \" have\", phrase)\n",
        "    phrase = re.sub(r\"\\'m\", \" am\", phrase)\n",
        "    return phrase\n",
        "#Removing Special Characters\n",
        "def remove_special_characters(text):\n",
        "    text = re.sub('[^a-zA-z0-9\\s]', '', text)\n",
        "    return text\n",
        "#Lemmatizing text\n",
        "def lemmatize_text(text):\n",
        "    text = nlp(text)\n",
        "    text = ' '.join([word.lemma_ if word.lemma_ != '-PRON-' else word.text for word in text])\n",
        "    return text\n",
        "#Removing Stopwords\n",
        "# These words are important for our problem. We don't want to remove them.\n",
        "stopword_list = nltk.corpus.stopwords.words('english')\n",
        "stopword_list.remove('no')\n",
        "stopword_list.remove('not')\n",
        "\n",
        "excluding = ['against', 'not', 'don', \"don't\",'ain', 'aren', \"aren't\", 'couldn', \"couldn't\",\n",
        "             'didn', \"didn't\", 'doesn', \"doesn't\", 'hadn', \"hadn't\", 'hasn', \"hasn't\", \n",
        "             'haven', \"haven't\", 'isn', \"isn't\", 'mightn', \"mightn't\", 'mustn', \"mustn't\",\n",
        "             'needn', \"needn't\",'shouldn', \"shouldn't\", 'wasn', \"wasn't\", 'weren', \n",
        "             \"weren't\", 'won', \"won't\", 'wouldn', \"wouldn't\"]\n",
        "stop_words = [word for word in stopword_list if word not in excluding]\n",
        "\n",
        "def remove_stopwords(text, is_lower_case=False):\n",
        "    tokens = tokenizer.tokenize(text)\n",
        "    tokens = [token.strip() for token in tokens]\n",
        "    if is_lower_case:\n",
        "        filtered_tokens = [token for token in tokens if token not in stop_words]\n",
        "    else:\n",
        "        filtered_tokens = [token for token in tokens if token.lower() not in stop_words]\n",
        "    filtered_text = ' '.join(filtered_tokens)    \n",
        "    return filtered_text"
      ],
      "execution_count": 0,
      "outputs": []
    },
    {
      "cell_type": "code",
      "metadata": {
        "id": "3EIGk-HX357d",
        "colab_type": "code",
        "colab": {}
      },
      "source": [
        "def normalize_corpus(corpus, html_stripping=True, contraction_expansion=True,\n",
        "                     accented_char_removal=True, text_lower_case=True, \n",
        "                     text_lemmatization=True, special_char_removal=True, \n",
        "                     stopword_removal=True):\n",
        "    \n",
        "    normalized_corpus = []\n",
        "    \n",
        "    # normalize each document in the corpus\n",
        "    for doc in corpus:\n",
        "        # strip HTML\n",
        "        if html_stripping:\n",
        "            doc = strip_html_tags(doc)\n",
        "        # remove accented characters\n",
        "        if accented_char_removal:\n",
        "            doc = remove_accented_chars(doc)\n",
        "        # expand contractions    \n",
        "        if contraction_expansion:\n",
        "            doc = expand_contractions(doc)\n",
        "        # lowercase the text    \n",
        "        if text_lower_case:\n",
        "            doc = doc.lower()\n",
        "        # remove extra newlines\n",
        "        doc = re.sub(r'[\\r|\\n|\\r\\n]+', ' ',doc)\n",
        "        # insert spaces between special characters to isolate them    \n",
        "        special_char_pattern = re.compile(r'([{.(-)!}])')\n",
        "        doc = special_char_pattern.sub(\" \\\\1 \", doc)\n",
        "        # lemmatize text\n",
        "        if text_lemmatization:\n",
        "            doc = lemmatize_text(doc)\n",
        "        # remove special characters    \n",
        "        if special_char_removal:\n",
        "            doc = remove_special_characters(doc)  \n",
        "        # remove extra whitespace\n",
        "        doc = re.sub(' +', ' ', doc)\n",
        "        # Remove leading/trailing whitespace\n",
        "        doc = re.sub('\\s+', ' ', doc)\n",
        "        # Removing numbers\n",
        "        doc = re.sub(r\"\\d+\",\"\",doc)\n",
        "        # Remove URLs\n",
        "        doc = re.sub(r'http\\S+', '', doc) \n",
        "        # Remove extra space and tabs\n",
        "        doc = re.sub('\\s+', ' ', doc) \n",
        "        # Reove accronyms\n",
        "        doc = re.sub(r\"\\b[A-Z]{2,}\\b\", \"\", doc)\n",
        "        # remove stopwords\n",
        "        if stopword_removal:\n",
        "            doc = remove_stopwords(doc, is_lower_case=text_lower_case)\n",
        "        normalized_corpus.append(doc)\n",
        "        \n",
        "    return normalized_corpus"
      ],
      "execution_count": 0,
      "outputs": []
    },
    {
      "cell_type": "code",
      "metadata": {
        "id": "DKjSeUq437iX",
        "colab_type": "code",
        "colab": {
          "base_uri": "https://localhost:8080/",
          "height": 33
        },
        "outputId": "5fbf0439-b69c-4d95-d346-58f1eb625706"
      },
      "source": [
        "print(\"Pre-processing the Speech field with use of Lemmatization\")\n",
        "dataset.new_text = normalize_corpus(dataset.new_text.tolist()) "
      ],
      "execution_count": 14,
      "outputs": [
        {
          "output_type": "stream",
          "text": [
            "Pre-processing the Speech field with use of Lemmatization\n"
          ],
          "name": "stdout"
        }
      ]
    },
    {
      "cell_type": "code",
      "metadata": {
        "id": "nS7dhBGmAo4-",
        "colab_type": "code",
        "colab": {}
      },
      "source": [
        "#Saving the df with all the stopwords removed\n",
        "from google.colab import files\n",
        "dataset.to_csv('Product_Safety_Amazon_cleaned.csv') \n",
        "files.download('Product_Safety_Amazon_cleaned.csv')"
      ],
      "execution_count": 0,
      "outputs": []
    },
    {
      "cell_type": "markdown",
      "metadata": {
        "id": "Sllii5Drtgww",
        "colab_type": "text"
      },
      "source": [
        "# 1-Pre-processing Training Data:"
      ]
    },
    {
      "cell_type": "code",
      "metadata": {
        "id": "4tVA8Wd0st65",
        "colab_type": "code",
        "colab": {
          "base_uri": "https://localhost:8080/",
          "height": 300
        },
        "outputId": "a8c00daa-8b29-42d2-eed3-8abdc3441e77"
      },
      "source": [
        "# Let's see how many nan values in our data frame\n",
        "print(train.isna().sum())\n",
        "# Let's remove them\n",
        "train.dropna(inplace=True)\n",
        "print(\"------------nan rows removed!-------------\")\n",
        "# Let's see how many nan values in our data frame\n",
        "print(train.isna().sum())"
      ],
      "execution_count": 27,
      "outputs": [
        {
          "output_type": "stream",
          "text": [
            "ID             0\n",
            "doc_id         0\n",
            "text           6\n",
            "date           0\n",
            "star_rating    0\n",
            "title          1\n",
            "human_tag      0\n",
            "dtype: int64\n",
            "------------nan rows removed!-------------\n",
            "ID             0\n",
            "doc_id         0\n",
            "text           0\n",
            "date           0\n",
            "star_rating    0\n",
            "title          0\n",
            "human_tag      0\n",
            "dtype: int64\n"
          ],
          "name": "stdout"
        }
      ]
    },
    {
      "cell_type": "code",
      "metadata": {
        "id": "ByCokINF1hXy",
        "colab_type": "code",
        "colab": {
          "base_uri": "https://localhost:8080/",
          "height": 67
        },
        "outputId": "13255825-9918-46b4-d43c-f0b7067148fd"
      },
      "source": [
        "nltk.download('punkt')"
      ],
      "execution_count": 28,
      "outputs": [
        {
          "output_type": "stream",
          "text": [
            "[nltk_data] Downloading package punkt to /root/nltk_data...\n",
            "[nltk_data]   Package punkt is already up-to-date!\n"
          ],
          "name": "stdout"
        },
        {
          "output_type": "execute_result",
          "data": {
            "text/plain": [
              "True"
            ]
          },
          "metadata": {
            "tags": []
          },
          "execution_count": 28
        }
      ]
    },
    {
      "cell_type": "code",
      "metadata": {
        "id": "5MsaAxjRuUAM",
        "colab_type": "code",
        "colab": {}
      },
      "source": [
        "# build train and test datasets\n",
        "reviews = dataset['new_text'].values\n",
        "sentiments = dataset['human_tag'].values\n",
        "\n",
        "train_reviews = reviews[:45000]\n",
        "train_sentiments = sentiments[:45000]\n",
        "\n",
        "test_reviews = reviews[45000:]\n",
        "test_sentiments = sentiments[45000:]"
      ],
      "execution_count": 0,
      "outputs": []
    },
    {
      "cell_type": "code",
      "metadata": {
        "id": "_k2Rl7YBwtYU",
        "colab_type": "code",
        "colab": {
          "base_uri": "https://localhost:8080/",
          "height": 50
        },
        "outputId": "5e45616f-ef77-478d-bd14-5d3adecdb0f5"
      },
      "source": [
        "%%time\n",
        "\n",
        "from sklearn.feature_extraction.text import CountVectorizer, TfidfVectorizer\n",
        "\n",
        "# build BOW features on train reviews\n",
        "cv = CountVectorizer(binary=False, min_df=5, max_df=1.0, ngram_range=(1,2))\n",
        "cv_train_features = cv.fit_transform(train_reviews)\n",
        "\n",
        "\n",
        "# build TFIDF features on train reviews\n",
        "tv = TfidfVectorizer(use_idf=True, min_df=5, max_df=1.0, ngram_range=(1,2),\n",
        "                     sublinear_tf=True)\n",
        "tv_train_features = tv.fit_transform(train_reviews)"
      ],
      "execution_count": 17,
      "outputs": [
        {
          "output_type": "stream",
          "text": [
            "CPU times: user 14.3 s, sys: 387 ms, total: 14.7 s\n",
            "Wall time: 14.7 s\n"
          ],
          "name": "stdout"
        }
      ]
    },
    {
      "cell_type": "code",
      "metadata": {
        "id": "ntpEyQHTwXaw",
        "colab_type": "code",
        "colab": {
          "base_uri": "https://localhost:8080/",
          "height": 50
        },
        "outputId": "d70a65a6-79fb-4db9-f67c-772b58d7e136"
      },
      "source": [
        "%%time\n",
        "\n",
        "# transform test reviews into features\n",
        "cv_test_features = cv.transform(test_reviews)\n",
        "tv_test_features = tv.transform(test_reviews)"
      ],
      "execution_count": 18,
      "outputs": [
        {
          "output_type": "stream",
          "text": [
            "CPU times: user 2.69 s, sys: 6.98 ms, total: 2.7 s\n",
            "Wall time: 2.71 s\n"
          ],
          "name": "stdout"
        }
      ]
    },
    {
      "cell_type": "code",
      "metadata": {
        "id": "k91ZavFcB1Y2",
        "colab_type": "code",
        "colab": {
          "base_uri": "https://localhost:8080/",
          "height": 50
        },
        "outputId": "6c5af308-8a5e-4a9f-b087-95ad4fca077b"
      },
      "source": [
        "print('BOW model:> Train features shape:', cv_train_features.shape, ' Test features shape:', cv_test_features.shape)\n",
        "print('TFIDF model:> Train features shape:', tv_train_features.shape, ' Test features shape:', tv_test_features.shape)"
      ],
      "execution_count": 19,
      "outputs": [
        {
          "output_type": "stream",
          "text": [
            "BOW model:> Train features shape: (45000, 62655)  Test features shape: (18134, 62655)\n",
            "TFIDF model:> Train features shape: (45000, 62655)  Test features shape: (18134, 62655)\n"
          ],
          "name": "stdout"
        }
      ]
    },
    {
      "cell_type": "markdown",
      "metadata": {
        "id": "crLwM90ituSV",
        "colab_type": "text"
      },
      "source": [
        "# Model Training, Prediction and Performance Evaluation"
      ]
    },
    {
      "cell_type": "code",
      "metadata": {
        "id": "txF7c0APtt84",
        "colab_type": "code",
        "colab": {
          "base_uri": "https://localhost:8080/",
          "height": 50
        },
        "outputId": "5c281133-2576-4ed7-e9d8-c3ff4422e0ad"
      },
      "source": [
        "#Try out Logistic Regression\n",
        "%%time\n",
        "\n",
        "# Logistic Regression model on BOW features\n",
        "from sklearn.linear_model import LogisticRegression\n",
        "\n",
        "# instantiate model\n",
        "lr = LogisticRegression(penalty='l2', max_iter=500, C=1, solver='lbfgs', random_state=42)\n",
        "\n",
        "# train model\n",
        "lr.fit(cv_train_features, train_sentiments)\n",
        "\n",
        "# predict on test data\n",
        "lr_bow_predictions = lr.predict(cv_test_features)"
      ],
      "execution_count": 20,
      "outputs": [
        {
          "output_type": "stream",
          "text": [
            "CPU times: user 11 s, sys: 7.54 s, total: 18.6 s\n",
            "Wall time: 9.52 s\n"
          ],
          "name": "stdout"
        }
      ]
    },
    {
      "cell_type": "code",
      "metadata": {
        "id": "2KMKcrMDwsdn",
        "colab_type": "code",
        "colab": {}
      },
      "source": [
        "def get_metrics(true_labels, predicted_labels):\n",
        "    \n",
        "    print('Accuracy:', np.round(\n",
        "                        metrics.accuracy_score(true_labels, \n",
        "                                               predicted_labels),\n",
        "                        4))\n",
        "    print('Precision:', np.round(\n",
        "                        metrics.precision_score(true_labels, \n",
        "                                               predicted_labels,\n",
        "                                               average='weighted'),\n",
        "                        4))\n",
        "    print('Recall:', np.round(\n",
        "                        metrics.recall_score(true_labels, \n",
        "                                               predicted_labels,\n",
        "                                               average='weighted'),\n",
        "                        4))\n",
        "    print('F1 Score:', np.round(\n",
        "                        metrics.f1_score(true_labels, \n",
        "                                               predicted_labels,\n",
        "                                               average='weighted'),\n",
        "                        4))"
      ],
      "execution_count": 0,
      "outputs": []
    },
    {
      "cell_type": "code",
      "metadata": {
        "id": "qs2fZQrztmGf",
        "colab_type": "code",
        "colab": {
          "base_uri": "https://localhost:8080/",
          "height": 83
        },
        "outputId": "624cbba7-1ddd-4393-b758-6df6c7cd29f8"
      },
      "source": [
        "get_metrics(test_sentiments,lr_bow_predictions)"
      ],
      "execution_count": 25,
      "outputs": [
        {
          "output_type": "stream",
          "text": [
            "Accuracy: 0.8748\n",
            "Precision: 0.8648\n",
            "Recall: 0.8748\n",
            "F1 Score: 0.8682\n"
          ],
          "name": "stdout"
        }
      ]
    },
    {
      "cell_type": "code",
      "metadata": {
        "id": "JOqPLsK3Dbta",
        "colab_type": "code",
        "colab": {
          "base_uri": "https://localhost:8080/",
          "height": 167
        },
        "outputId": "6653088e-3f0e-4a26-f175-3072d6ff3ba5"
      },
      "source": [
        "from sklearn.metrics import classification_report, accuracy_score\n",
        "print(classification_report(test_sentiments, lr_bow_predictions)) "
      ],
      "execution_count": 35,
      "outputs": [
        {
          "output_type": "stream",
          "text": [
            "              precision    recall  f1-score   support\n",
            "\n",
            "           0       0.91      0.95      0.93     15343\n",
            "           1       0.62      0.48      0.54      2791\n",
            "\n",
            "    accuracy                           0.87     18134\n",
            "   macro avg       0.76      0.71      0.73     18134\n",
            "weighted avg       0.86      0.87      0.87     18134\n",
            "\n"
          ],
          "name": "stdout"
        }
      ]
    },
    {
      "cell_type": "code",
      "metadata": {
        "id": "XDU3Z8KWDfcE",
        "colab_type": "code",
        "colab": {
          "base_uri": "https://localhost:8080/",
          "height": 301
        },
        "outputId": "e26d5550-b080-4440-ec9a-238e94c200c3"
      },
      "source": [
        "import matplotlib.pyplot as plt\n",
        "from sklearn.metrics import precision_recall_curve\n",
        "precisions, recalls, thresholds = precision_recall_curve(test_sentiments, lr_bow_predictions[:])\n",
        "# Let's plot the Precision-Recall curve, precision on the y axis and recall on the x axis\n",
        "# plot no skill\n",
        "plt.plot([0, 1], [0.5, 0.5], linestyle='--')\n",
        "# plot the roc curve for the model\n",
        "plt.plot(recalls, precisions, marker='.')\n",
        "plt.title('Precision-Recall Curve')\n",
        "plt.xlabel('Recall')\n",
        "plt.ylabel('Precision')\t\n",
        "# show the plot\n",
        "plt.show()"
      ],
      "execution_count": 37,
      "outputs": [
        {
          "output_type": "display_data",
          "data": {
            "image/png": "[encoded data removed]",
            "text/plain": [
              "<Figure size 432x288 with 1 Axes>"
            ]
          },
          "metadata": {
            "tags": []
          }
        }
      ]
    },
    {
      "cell_type": "code",
      "metadata": {
        "id": "ZyVqzpHuG4_U",
        "colab_type": "code",
        "colab": {
          "base_uri": "https://localhost:8080/",
          "height": 50
        },
        "outputId": "6e0595c4-a243-4a4b-d200-0b801724737f"
      },
      "source": [
        "cm = metrics.confusion_matrix(y_true=test_sentiments, y_pred=lr_bow_predictions)\n",
        "print(cm)                                  "
      ],
      "execution_count": 52,
      "outputs": [
        {
          "output_type": "stream",
          "text": [
            "[[14518   825]\n",
            " [ 1446  1345]]\n"
          ],
          "name": "stdout"
        }
      ]
    },
    {
      "cell_type": "code",
      "metadata": {
        "id": "fEbss0LuEiy4",
        "colab_type": "code",
        "colab": {
          "base_uri": "https://localhost:8080/",
          "height": 33
        },
        "outputId": "a1d00fba-fade-4165-e53d-5e700fe67a72"
      },
      "source": [
        "highest_f1 = 0\n",
        "threshold_highest_f1 = 0\n",
        "for id, threhold in enumerate(thresholds):\n",
        "    f1_score = 2*precisions[id]*recalls[id]/(precisions[id]+recalls[id])\n",
        "    if(f1_score > highest_f1):\n",
        "        highest_f1 = f1_score\t\n",
        "        threshold_highest_f1 = threhold\n",
        "print(\"Highest F1:\", highest_f1, \", Threshold for the highest F1:\", threshold_highest_f1)"
      ],
      "execution_count": 38,
      "outputs": [
        {
          "output_type": "stream",
          "text": [
            "Highest F1: 0.5422293892360411 , Threshold for the highest F1: 1\n"
          ],
          "name": "stdout"
        }
      ]
    },
    {
      "cell_type": "code",
      "metadata": {
        "id": "1YWrKqA7IgWx",
        "colab_type": "code",
        "colab": {
          "base_uri": "https://localhost:8080/",
          "height": 50
        },
        "outputId": "c9da44a7-83d5-43b6-dd40-ec4ae1ca57ea"
      },
      "source": [
        "%%time\n",
        "\n",
        "# Logistic Regression model on TF-IDF features\n",
        "\n",
        "# train model\n",
        "lr.fit(tv_train_features, train_sentiments)\n",
        "\n",
        "# predict on test data\n",
        "lr_tfidf_predictions = lr.predict(tv_test_features)"
      ],
      "execution_count": 54,
      "outputs": [
        {
          "output_type": "stream",
          "text": [
            "CPU times: user 3.8 s, sys: 2.55 s, total: 6.36 s\n",
            "Wall time: 3.25 s\n"
          ],
          "name": "stdout"
        }
      ]
    },
    {
      "cell_type": "code",
      "metadata": {
        "id": "JEvzsFBaJBSa",
        "colab_type": "code",
        "colab": {
          "base_uri": "https://localhost:8080/",
          "height": 83
        },
        "outputId": "98bedded-009b-41fe-c436-e5e3edcef5ba"
      },
      "source": [
        "get_metrics(test_sentiments,lr_bow_predictions)"
      ],
      "execution_count": 55,
      "outputs": [
        {
          "output_type": "stream",
          "text": [
            "Accuracy: 0.8748\n",
            "Precision: 0.8648\n",
            "Recall: 0.8748\n",
            "F1 Score: 0.8682\n"
          ],
          "name": "stdout"
        }
      ]
    },
    {
      "cell_type": "markdown",
      "metadata": {
        "id": "6OLMFhr7JIwi",
        "colab_type": "text"
      },
      "source": [
        "## RANDOM FOREST"
      ]
    },
    {
      "cell_type": "code",
      "metadata": {
        "id": "sj2V36A0JK2V",
        "colab_type": "code",
        "colab": {
          "base_uri": "https://localhost:8080/",
          "height": 50
        },
        "outputId": "7d71b605-8f53-4909-95dd-76182d448176"
      },
      "source": [
        "%%time\n",
        "\n",
        "# Random Forest model on BOW features\n",
        "from sklearn.ensemble import RandomForestClassifier\n",
        "\n",
        "# instantiate model\n",
        "rf = RandomForestClassifier(n_estimators=500, n_jobs=-1, random_state=42)\n",
        "\n",
        "# train model\n",
        "rf.fit(cv_train_features, train_sentiments)\n",
        "\n",
        "# predict on test data\n",
        "rf_bow_predictions = rf.predict(cv_test_features)"
      ],
      "execution_count": 56,
      "outputs": [
        {
          "output_type": "stream",
          "text": [
            "CPU times: user 19min 2s, sys: 1.65 s, total: 19min 3s\n",
            "Wall time: 9min 39s\n"
          ],
          "name": "stdout"
        }
      ]
    },
    {
      "cell_type": "code",
      "metadata": {
        "id": "F8TbFqarJS5g",
        "colab_type": "code",
        "colab": {
          "base_uri": "https://localhost:8080/",
          "height": 83
        },
        "outputId": "ceef1cf9-e1aa-41c4-ff01-08e5a85f2dac"
      },
      "source": [
        "get_metrics(test_sentiments,lr_bow_predictions)"
      ],
      "execution_count": 57,
      "outputs": [
        {
          "output_type": "stream",
          "text": [
            "Accuracy: 0.8748\n",
            "Precision: 0.8648\n",
            "Recall: 0.8748\n",
            "F1 Score: 0.8682\n"
          ],
          "name": "stdout"
        }
      ]
    },
    {
      "cell_type": "markdown",
      "metadata": {
        "id": "YSseQBchJT9p",
        "colab_type": "text"
      },
      "source": [
        "## Random Forest model on TF-IDF features"
      ]
    },
    {
      "cell_type": "code",
      "metadata": {
        "id": "PBsr-N3JJWZ_",
        "colab_type": "code",
        "colab": {}
      },
      "source": [
        "# train model\n",
        "rf.fit(tv_train_features, train_sentiments)\n",
        "\n",
        "# predict on test data\n",
        "rf_tfidf_predictions = rf.predict(tv_test_features)"
      ],
      "execution_count": 0,
      "outputs": []
    },
    {
      "cell_type": "code",
      "metadata": {
        "id": "vztBRQKFJZWX",
        "colab_type": "code",
        "colab": {
          "base_uri": "https://localhost:8080/",
          "height": 83
        },
        "outputId": "a9e9e080-2ad7-4aa9-8bc1-82ef51814642"
      },
      "source": [
        "get_metrics(test_sentiments,lr_bow_predictions)"
      ],
      "execution_count": 59,
      "outputs": [
        {
          "output_type": "stream",
          "text": [
            "Accuracy: 0.8748\n",
            "Precision: 0.8648\n",
            "Recall: 0.8748\n",
            "F1 Score: 0.8682\n"
          ],
          "name": "stdout"
        }
      ]
    },
    {
      "cell_type": "markdown",
      "metadata": {
        "id": "ZNyV3bYSOo0o",
        "colab_type": "text"
      },
      "source": [
        "##Deep Learning Models"
      ]
    },
    {
      "cell_type": "code",
      "metadata": {
        "id": "SP55F9LkOp4y",
        "colab_type": "code",
        "colab": {
          "base_uri": "https://localhost:8080/",
          "height": 33
        },
        "outputId": "892ee296-83a6-4b84-edf0-4c6bf0679203"
      },
      "source": [
        "import gensim\n",
        "import keras\n",
        "from keras.models import Sequential\n",
        "from keras.layers import Dropout, Activation, Dense\n",
        "from sklearn.preprocessing import LabelEncoder\n",
        "from keras.layers.normalization import BatchNormalization"
      ],
      "execution_count": 60,
      "outputs": [
        {
          "output_type": "stream",
          "text": [
            "Using TensorFlow backend.\n"
          ],
          "name": "stderr"
        }
      ]
    },
    {
      "cell_type": "code",
      "metadata": {
        "id": "VLBDQ91bOvLF",
        "colab_type": "code",
        "colab": {}
      },
      "source": [
        "tokenized_train = [nltk.word_tokenize(text)\n",
        "                       for text in dataset.new_text]\n",
        "\n",
        "# build word2vec model\n",
        "w2v_num_features = 512\n",
        "w2v_model = gensim.models.Word2Vec(tokenized_train, size=w2v_num_features, window=150,\n",
        "                                   min_count=10, sample=1e-3, workers=16)"
      ],
      "execution_count": 0,
      "outputs": []
    },
    {
      "cell_type": "code",
      "metadata": {
        "id": "NtJ9h5rMPmxu",
        "colab_type": "code",
        "colab": {}
      },
      "source": [
        "def averaged_word2vec_vectorizer(corpus, model, num_features):\n",
        "    vocabulary = set(model.wv.index2word)\n",
        "    \n",
        "    def average_word_vectors(words, model, vocabulary, num_features):\n",
        "        feature_vector = np.zeros((num_features,), dtype=\"float64\")\n",
        "        nwords = 0.\n",
        "        \n",
        "        for word in words:\n",
        "            if word in vocabulary: \n",
        "                nwords = nwords + 1.\n",
        "                feature_vector = np.add(feature_vector, model.wv[word])\n",
        "        if nwords:\n",
        "            feature_vector = np.divide(feature_vector, nwords)\n",
        "\n",
        "        return feature_vector\n",
        "\n",
        "    features = [average_word_vectors(tokenized_sentence, model, vocabulary, num_features)\n",
        "                    for tokenized_sentence in corpus]\n",
        "    return np.array(features)"
      ],
      "execution_count": 0,
      "outputs": []
    },
    {
      "cell_type": "code",
      "metadata": {
        "id": "gBZVoeKUPvFB",
        "colab_type": "code",
        "colab": {}
      },
      "source": [
        "# generate averaged word vector features from word2vec model\n",
        "avg_wv_train_features = averaged_word2vec_vectorizer(corpus=tokenized_train, model=w2v_model,\n",
        "                                                     num_features=w2v_num_features)"
      ],
      "execution_count": 0,
      "outputs": []
    },
    {
      "cell_type": "code",
      "metadata": {
        "id": "jDPFCczhEsxz",
        "colab_type": "code",
        "colab": {}
      },
      "source": [
        "# Read the test data (It doesn't have the human_tag label, we are trying to predict that :D )\n",
        "test_df = pd.read_csv('/content/test.csv', encoding='utf-8', header=0)"
      ],
      "execution_count": 0,
      "outputs": []
    },
    {
      "cell_type": "code",
      "metadata": {
        "id": "y_bhU7DrE0tu",
        "colab_type": "code",
        "colab": {}
      },
      "source": [
        "# Fill missing text and title values\n",
        "test_df['text'] = test_df['text'].fillna(\"\")\n",
        "test_df['title'] = test_df['title'].fillna(\"\")"
      ],
      "execution_count": 0,
      "outputs": []
    },
    {
      "cell_type": "code",
      "metadata": {
        "id": "YRSoa2LqFzYI",
        "colab_type": "code",
        "colab": {
          "base_uri": "https://localhost:8080/",
          "height": 281
        },
        "outputId": "3abdedf6-abbb-4606-98a1-fd155ce8dcf3"
      },
      "source": [
        "test_df['new_text'] = test_df[['text','title']].apply(lambda x: ':'.join(str(s) for s in x), axis=1)\n",
        "test_df.head()"
      ],
      "execution_count": 44,
      "outputs": [
        {
          "output_type": "execute_result",
          "data": {
            "text/html": [
              "<div>\n",
              "<style scoped>\n",
              "    .dataframe tbody tr th:only-of-type {\n",
              "        vertical-align: middle;\n",
              "    }\n",
              "\n",
              "    .dataframe tbody tr th {\n",
              "        vertical-align: top;\n",
              "    }\n",
              "\n",
              "    .dataframe thead th {\n",
              "        text-align: right;\n",
              "    }\n",
              "</style>\n",
              "<table border=\"1\" class=\"dataframe\">\n",
              "  <thead>\n",
              "    <tr style=\"text-align: right;\">\n",
              "      <th></th>\n",
              "      <th>ID</th>\n",
              "      <th>doc_id</th>\n",
              "      <th>text</th>\n",
              "      <th>date</th>\n",
              "      <th>star_rating</th>\n",
              "      <th>title</th>\n",
              "      <th>new_text</th>\n",
              "    </tr>\n",
              "  </thead>\n",
              "  <tbody>\n",
              "    <tr>\n",
              "      <th>0</th>\n",
              "      <td>62199</td>\n",
              "      <td>15449606311</td>\n",
              "      <td>Quality of material is great, however, the bac...</td>\n",
              "      <td>3/7/2018 19:47</td>\n",
              "      <td>3</td>\n",
              "      <td>great backpack with strange fit</td>\n",
              "      <td>Quality of material is great, however, the bac...</td>\n",
              "    </tr>\n",
              "    <tr>\n",
              "      <th>1</th>\n",
              "      <td>76123</td>\n",
              "      <td>15307152511</td>\n",
              "      <td>The product was okay but wasn't refined campho...</td>\n",
              "      <td>43135.875</td>\n",
              "      <td>2</td>\n",
              "      <td>Not refined</td>\n",
              "      <td>The product was okay but wasn't refined campho...</td>\n",
              "    </tr>\n",
              "    <tr>\n",
              "      <th>2</th>\n",
              "      <td>78742</td>\n",
              "      <td>12762748321</td>\n",
              "      <td>I normally read the reviews before buying some...</td>\n",
              "      <td>42997.37708</td>\n",
              "      <td>1</td>\n",
              "      <td>Doesnt work, wouldnt recommend</td>\n",
              "      <td>I normally read the reviews before buying some...</td>\n",
              "    </tr>\n",
              "    <tr>\n",
              "      <th>3</th>\n",
              "      <td>64010</td>\n",
              "      <td>15936405041</td>\n",
              "      <td>These pads are completely worthless. The light...</td>\n",
              "      <td>43313.25417</td>\n",
              "      <td>1</td>\n",
              "      <td>The lighter colored side of the pads smells li...</td>\n",
              "      <td>These pads are completely worthless. The light...</td>\n",
              "    </tr>\n",
              "    <tr>\n",
              "      <th>4</th>\n",
              "      <td>17058</td>\n",
              "      <td>13596875291</td>\n",
              "      <td>The saw works great but the blade oiler does n...</td>\n",
              "      <td>12/5/2017 20:17</td>\n",
              "      <td>2</td>\n",
              "      <td>The saw works great but the blade oiler does n...</td>\n",
              "      <td>The saw works great but the blade oiler does n...</td>\n",
              "    </tr>\n",
              "  </tbody>\n",
              "</table>\n",
              "</div>"
            ],
            "text/plain": [
              "      ID  ...                                           new_text\n",
              "0  62199  ...  Quality of material is great, however, the bac...\n",
              "1  76123  ...  The product was okay but wasn't refined campho...\n",
              "2  78742  ...  I normally read the reviews before buying some...\n",
              "3  64010  ...  These pads are completely worthless. The light...\n",
              "4  17058  ...  The saw works great but the blade oiler does n...\n",
              "\n",
              "[5 rows x 7 columns]"
            ]
          },
          "metadata": {
            "tags": []
          },
          "execution_count": 44
        }
      ]
    },
    {
      "cell_type": "code",
      "metadata": {
        "id": "zu5dGemCE3Ro",
        "colab_type": "code",
        "colab": {
          "base_uri": "https://localhost:8080/",
          "height": 33
        },
        "outputId": "dd97ac7b-faaa-45f0-f678-40c8a2017124"
      },
      "source": [
        "print(\"Pre-processing the Speech field with use of Lemmatization\")\n",
        "test_df.new_text = normalize_corpus(test_df.new_text.tolist()) "
      ],
      "execution_count": 45,
      "outputs": [
        {
          "output_type": "stream",
          "text": [
            "Pre-processing the Speech field with use of Lemmatization\n"
          ],
          "name": "stdout"
        }
      ]
    },
    {
      "cell_type": "code",
      "metadata": {
        "id": "XN8zkR6EIRxe",
        "colab_type": "code",
        "colab": {}
      },
      "source": [
        "#Saving the df with all the stopwords removed\n",
        "from google.colab import files\n",
        "dataset.to_csv('Product_Safety_Amazon_test_df.csv') \n",
        "files.download('Product_Safety_Amazon_test_df.csv')"
      ],
      "execution_count": 0,
      "outputs": []
    },
    {
      "cell_type": "code",
      "metadata": {
        "id": "IcmHIoB4FHqo",
        "colab_type": "code",
        "colab": {}
      },
      "source": [
        "#Get TF-IDF feaures:\n",
        "#X_test_title_vectors = tfidf_title_vectorizer.transform(X_test_title_processed)\n",
        "tv_test_features = tv.transform(test_df.new_text)"
      ],
      "execution_count": 0,
      "outputs": []
    },
    {
      "cell_type": "code",
      "metadata": {
        "id": "ME-xxt5pFPLN",
        "colab_type": "code",
        "colab": {}
      },
      "source": [
        "# ------Test data -----------\n",
        "# Normalize star rating\n",
        "X_test_star_rating_norm = test_df[\"star_rating\"] / test_df[\"star_rating\"].max()\n",
        "# Let's use the star rating and the tf-idf vectors together \n",
        "test_prediction_probs = lr.predict_proba(tv_test_features)[:, 1]"
      ],
      "execution_count": 0,
      "outputs": []
    },
    {
      "cell_type": "code",
      "metadata": {
        "id": "yXWyrr7JRSZX",
        "colab_type": "code",
        "colab": {}
      },
      "source": [
        "test_prediction = np.where(test_prediction_probs > threshold_highest_f1, 1, 0)"
      ],
      "execution_count": 0,
      "outputs": []
    },
    {
      "cell_type": "code",
      "metadata": {
        "id": "bmgU6b1USVO1",
        "colab_type": "code",
        "colab": {}
      },
      "source": [
        "import pandas as pd\n",
        "result_df = pd.DataFrame()\n",
        "result_df[\"ID\"] = test_df[\"ID\"]\n",
        "result_df[\"human_tag\"] = test_prediction\n",
        "result_df.to_csv(\"/content/project_day2_result.csv\", encoding='utf-8', index=False)"
      ],
      "execution_count": 0,
      "outputs": []
    },
    {
      "cell_type": "code",
      "metadata": {
        "id": "IIVJQADsSnhc",
        "colab_type": "code",
        "colab": {
          "base_uri": "https://localhost:8080/",
          "height": 1000
        },
        "outputId": "7627d796-0a84-4cf2-83a2-f7204ff98ac5"
      },
      "source": [
        "predict = pd.read_csv(\"/content/project_day2_result.csv\")\n",
        "predict.tail(50)"
      ],
      "execution_count": 86,
      "outputs": [
        {
          "output_type": "execute_result",
          "data": {
            "text/html": [
              "<div>\n",
              "<style scoped>\n",
              "    .dataframe tbody tr th:only-of-type {\n",
              "        vertical-align: middle;\n",
              "    }\n",
              "\n",
              "    .dataframe tbody tr th {\n",
              "        vertical-align: top;\n",
              "    }\n",
              "\n",
              "    .dataframe thead th {\n",
              "        text-align: right;\n",
              "    }\n",
              "</style>\n",
              "<table border=\"1\" class=\"dataframe\">\n",
              "  <thead>\n",
              "    <tr style=\"text-align: right;\">\n",
              "      <th></th>\n",
              "      <th>ID</th>\n",
              "      <th>human_tag</th>\n",
              "    </tr>\n",
              "  </thead>\n",
              "  <tbody>\n",
              "    <tr>\n",
              "      <th>15734</th>\n",
              "      <td>8461</td>\n",
              "      <td>0</td>\n",
              "    </tr>\n",
              "    <tr>\n",
              "      <th>15735</th>\n",
              "      <td>35737</td>\n",
              "      <td>0</td>\n",
              "    </tr>\n",
              "    <tr>\n",
              "      <th>15736</th>\n",
              "      <td>41169</td>\n",
              "      <td>0</td>\n",
              "    </tr>\n",
              "    <tr>\n",
              "      <th>15737</th>\n",
              "      <td>43085</td>\n",
              "      <td>0</td>\n",
              "    </tr>\n",
              "    <tr>\n",
              "      <th>15738</th>\n",
              "      <td>35264</td>\n",
              "      <td>0</td>\n",
              "    </tr>\n",
              "    <tr>\n",
              "      <th>15739</th>\n",
              "      <td>58140</td>\n",
              "      <td>0</td>\n",
              "    </tr>\n",
              "    <tr>\n",
              "      <th>15740</th>\n",
              "      <td>77763</td>\n",
              "      <td>0</td>\n",
              "    </tr>\n",
              "    <tr>\n",
              "      <th>15741</th>\n",
              "      <td>68918</td>\n",
              "      <td>0</td>\n",
              "    </tr>\n",
              "    <tr>\n",
              "      <th>15742</th>\n",
              "      <td>2427</td>\n",
              "      <td>0</td>\n",
              "    </tr>\n",
              "    <tr>\n",
              "      <th>15743</th>\n",
              "      <td>61618</td>\n",
              "      <td>0</td>\n",
              "    </tr>\n",
              "    <tr>\n",
              "      <th>15744</th>\n",
              "      <td>346</td>\n",
              "      <td>0</td>\n",
              "    </tr>\n",
              "    <tr>\n",
              "      <th>15745</th>\n",
              "      <td>76522</td>\n",
              "      <td>0</td>\n",
              "    </tr>\n",
              "    <tr>\n",
              "      <th>15746</th>\n",
              "      <td>33149</td>\n",
              "      <td>0</td>\n",
              "    </tr>\n",
              "    <tr>\n",
              "      <th>15747</th>\n",
              "      <td>10298</td>\n",
              "      <td>0</td>\n",
              "    </tr>\n",
              "    <tr>\n",
              "      <th>15748</th>\n",
              "      <td>26036</td>\n",
              "      <td>0</td>\n",
              "    </tr>\n",
              "    <tr>\n",
              "      <th>15749</th>\n",
              "      <td>47688</td>\n",
              "      <td>0</td>\n",
              "    </tr>\n",
              "    <tr>\n",
              "      <th>15750</th>\n",
              "      <td>36316</td>\n",
              "      <td>0</td>\n",
              "    </tr>\n",
              "    <tr>\n",
              "      <th>15751</th>\n",
              "      <td>29087</td>\n",
              "      <td>0</td>\n",
              "    </tr>\n",
              "    <tr>\n",
              "      <th>15752</th>\n",
              "      <td>63334</td>\n",
              "      <td>0</td>\n",
              "    </tr>\n",
              "    <tr>\n",
              "      <th>15753</th>\n",
              "      <td>50436</td>\n",
              "      <td>0</td>\n",
              "    </tr>\n",
              "    <tr>\n",
              "      <th>15754</th>\n",
              "      <td>47545</td>\n",
              "      <td>0</td>\n",
              "    </tr>\n",
              "    <tr>\n",
              "      <th>15755</th>\n",
              "      <td>9761</td>\n",
              "      <td>0</td>\n",
              "    </tr>\n",
              "    <tr>\n",
              "      <th>15756</th>\n",
              "      <td>38140</td>\n",
              "      <td>0</td>\n",
              "    </tr>\n",
              "    <tr>\n",
              "      <th>15757</th>\n",
              "      <td>28202</td>\n",
              "      <td>0</td>\n",
              "    </tr>\n",
              "    <tr>\n",
              "      <th>15758</th>\n",
              "      <td>75212</td>\n",
              "      <td>0</td>\n",
              "    </tr>\n",
              "    <tr>\n",
              "      <th>15759</th>\n",
              "      <td>55557</td>\n",
              "      <td>0</td>\n",
              "    </tr>\n",
              "    <tr>\n",
              "      <th>15760</th>\n",
              "      <td>61651</td>\n",
              "      <td>0</td>\n",
              "    </tr>\n",
              "    <tr>\n",
              "      <th>15761</th>\n",
              "      <td>10952</td>\n",
              "      <td>0</td>\n",
              "    </tr>\n",
              "    <tr>\n",
              "      <th>15762</th>\n",
              "      <td>27819</td>\n",
              "      <td>0</td>\n",
              "    </tr>\n",
              "    <tr>\n",
              "      <th>15763</th>\n",
              "      <td>13162</td>\n",
              "      <td>0</td>\n",
              "    </tr>\n",
              "    <tr>\n",
              "      <th>15764</th>\n",
              "      <td>70554</td>\n",
              "      <td>0</td>\n",
              "    </tr>\n",
              "    <tr>\n",
              "      <th>15765</th>\n",
              "      <td>11989</td>\n",
              "      <td>0</td>\n",
              "    </tr>\n",
              "    <tr>\n",
              "      <th>15766</th>\n",
              "      <td>3352</td>\n",
              "      <td>0</td>\n",
              "    </tr>\n",
              "    <tr>\n",
              "      <th>15767</th>\n",
              "      <td>47270</td>\n",
              "      <td>0</td>\n",
              "    </tr>\n",
              "    <tr>\n",
              "      <th>15768</th>\n",
              "      <td>20689</td>\n",
              "      <td>0</td>\n",
              "    </tr>\n",
              "    <tr>\n",
              "      <th>15769</th>\n",
              "      <td>1538</td>\n",
              "      <td>0</td>\n",
              "    </tr>\n",
              "    <tr>\n",
              "      <th>15770</th>\n",
              "      <td>70462</td>\n",
              "      <td>0</td>\n",
              "    </tr>\n",
              "    <tr>\n",
              "      <th>15771</th>\n",
              "      <td>40852</td>\n",
              "      <td>0</td>\n",
              "    </tr>\n",
              "    <tr>\n",
              "      <th>15772</th>\n",
              "      <td>76290</td>\n",
              "      <td>0</td>\n",
              "    </tr>\n",
              "    <tr>\n",
              "      <th>15773</th>\n",
              "      <td>1642</td>\n",
              "      <td>0</td>\n",
              "    </tr>\n",
              "    <tr>\n",
              "      <th>15774</th>\n",
              "      <td>72982</td>\n",
              "      <td>0</td>\n",
              "    </tr>\n",
              "    <tr>\n",
              "      <th>15775</th>\n",
              "      <td>63251</td>\n",
              "      <td>0</td>\n",
              "    </tr>\n",
              "    <tr>\n",
              "      <th>15776</th>\n",
              "      <td>60564</td>\n",
              "      <td>0</td>\n",
              "    </tr>\n",
              "    <tr>\n",
              "      <th>15777</th>\n",
              "      <td>77113</td>\n",
              "      <td>0</td>\n",
              "    </tr>\n",
              "    <tr>\n",
              "      <th>15778</th>\n",
              "      <td>48698</td>\n",
              "      <td>0</td>\n",
              "    </tr>\n",
              "    <tr>\n",
              "      <th>15779</th>\n",
              "      <td>57736</td>\n",
              "      <td>0</td>\n",
              "    </tr>\n",
              "    <tr>\n",
              "      <th>15780</th>\n",
              "      <td>51967</td>\n",
              "      <td>0</td>\n",
              "    </tr>\n",
              "    <tr>\n",
              "      <th>15781</th>\n",
              "      <td>63217</td>\n",
              "      <td>0</td>\n",
              "    </tr>\n",
              "    <tr>\n",
              "      <th>15782</th>\n",
              "      <td>77549</td>\n",
              "      <td>0</td>\n",
              "    </tr>\n",
              "    <tr>\n",
              "      <th>15783</th>\n",
              "      <td>43036</td>\n",
              "      <td>0</td>\n",
              "    </tr>\n",
              "  </tbody>\n",
              "</table>\n",
              "</div>"
            ],
            "text/plain": [
              "          ID  human_tag\n",
              "15734   8461          0\n",
              "15735  35737          0\n",
              "15736  41169          0\n",
              "15737  43085          0\n",
              "15738  35264          0\n",
              "15739  58140          0\n",
              "15740  77763          0\n",
              "15741  68918          0\n",
              "15742   2427          0\n",
              "15743  61618          0\n",
              "15744    346          0\n",
              "15745  76522          0\n",
              "15746  33149          0\n",
              "15747  10298          0\n",
              "15748  26036          0\n",
              "15749  47688          0\n",
              "15750  36316          0\n",
              "15751  29087          0\n",
              "15752  63334          0\n",
              "15753  50436          0\n",
              "15754  47545          0\n",
              "15755   9761          0\n",
              "15756  38140          0\n",
              "15757  28202          0\n",
              "15758  75212          0\n",
              "15759  55557          0\n",
              "15760  61651          0\n",
              "15761  10952          0\n",
              "15762  27819          0\n",
              "15763  13162          0\n",
              "15764  70554          0\n",
              "15765  11989          0\n",
              "15766   3352          0\n",
              "15767  47270          0\n",
              "15768  20689          0\n",
              "15769   1538          0\n",
              "15770  70462          0\n",
              "15771  40852          0\n",
              "15772  76290          0\n",
              "15773   1642          0\n",
              "15774  72982          0\n",
              "15775  63251          0\n",
              "15776  60564          0\n",
              "15777  77113          0\n",
              "15778  48698          0\n",
              "15779  57736          0\n",
              "15780  51967          0\n",
              "15781  63217          0\n",
              "15782  77549          0\n",
              "15783  43036          0"
            ]
          },
          "metadata": {
            "tags": []
          },
          "execution_count": 86
        }
      ]
    },
    {
      "cell_type": "code",
      "metadata": {
        "id": "n1KnGolYS85D",
        "colab_type": "code",
        "colab": {}
      },
      "source": [
        ""
      ],
      "execution_count": 0,
      "outputs": []
    }
  ]
}
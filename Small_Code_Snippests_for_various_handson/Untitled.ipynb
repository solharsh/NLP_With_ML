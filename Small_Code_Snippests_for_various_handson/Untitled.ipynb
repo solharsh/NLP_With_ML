{
 "cells": [
  {
   "cell_type": "code",
   "execution_count": 3,
   "metadata": {},
   "outputs": [],
   "source": [
    "from __future__ import print_function\n",
    "\n",
    "\n",
    "import re\n",
    "import pandas as pd\n",
    "import requests\n",
    "import bs4\n",
    "import os\n",
    "\n",
    "base_url = \"http://www.presidency.ucsb.edu/\"\n",
    "speech_list = \"http://www.presidency.ucsb.edu/2016_election_speeches.php?candidate=45&campaign=2016TRUMP&doctype=5000\"\n",
    "if not os.path.isdir('data'):\n",
    "   os.mkdir('data')\n",
    "\n",
    "# Grab page\n",
    "res = requests.get(speech_list)\n",
    "scrape = bs4.BeautifulSoup(res.text, 'lxml')\n",
    "\n",
    "# Get list of speeches\n",
    "elems = scrape.select('td.listdate a')\n",
    "links = []\n",
    "\n",
    "for e in elems:\n",
    "    links.append((e.text, e.attrs['href']))\n",
    "\n",
    "# Grab individual speeches\n",
    "speeches = []\n",
    "for idx, link in enumerate(links):\n",
    "    print(\"Grabbing speech: \", idx + 1)\n",
    "    url = base_url + link[1][3:]\n",
    "    res = requests.get(url)\n",
    "    cleaned_text = res.text.replace(\"<p>\", \" <p>\")\n",
    "    if type(cleaned_text) != str:\n",
    "      cleaned_text = cleaned_text.decode()\n",
    "    cleaned_text = re.sub(\"\\[(\\s|\\w|<i>|</i>)*\\]\", \"\", cleaned_text)\n",
    "    cleaned_text = re.sub(\"(<i>)(\\w|\\s)+(</i>)\\s*(.|:)\", \"\", cleaned_text)\n",
    "    cleaned_text = re.sub(\"(<span)(\\w|\\s|\\\"|>|=)*Remarks(\\w|\\s|\\\"|>|=|,|\\d)*(</span>)\",\n",
    "                          \"\", cleaned_text)\n",
    "\n",
    "    scrape = bs4.BeautifulSoup(cleaned_text, 'lxml')\n",
    "    speech = scrape.select('span.displaytext')[0].text.encode('utf-8')\n",
    "    speeches.append(speech)\n",
    "    with open(os.path.join(\"data\", \n",
    "                           \"speech_\" + str(idx).rjust(2, \"0\") + \".txt\"), \"w\") as text_file:\n",
    "        text_file.write(link[0])\n",
    "        text_file.write('\\n')\n",
    "        if type(speech) != str:\n",
    "          speech = speech.decode()\n",
    "        text_file.write(speech)\n",
    "\n",
    "# Create dataframe\n",
    "d = {'title' : pd.Series([l[0] for l in links]),\n",
    "     'link' : pd.Series([base_url + l[1][3:] for l in links]),\n",
    "     'speech': pd.Series(speeches)}\n",
    "df = pd.DataFrame(d)\n",
    "\n",
    "with open(os.path.join(\"data\", \"full_speech.txt\"), \"w\") as txt:\n",
    "          for s in speeches:\n",
    "            txt.write(\"%s\\n\" % s)\n",
    "if __name__ == '__main__':\n",
    "    df"
   ]
  },
  {
   "cell_type": "code",
   "execution_count": 4,
   "metadata": {},
   "outputs": [
    {
     "data": {
      "text/html": [
       "<div>\n",
       "<style scoped>\n",
       "    .dataframe tbody tr th:only-of-type {\n",
       "        vertical-align: middle;\n",
       "    }\n",
       "\n",
       "    .dataframe tbody tr th {\n",
       "        vertical-align: top;\n",
       "    }\n",
       "\n",
       "    .dataframe thead th {\n",
       "        text-align: right;\n",
       "    }\n",
       "</style>\n",
       "<table border=\"1\" class=\"dataframe\">\n",
       "  <thead>\n",
       "    <tr style=\"text-align: right;\">\n",
       "      <th></th>\n",
       "      <th>title</th>\n",
       "      <th>link</th>\n",
       "      <th>speech</th>\n",
       "    </tr>\n",
       "  </thead>\n",
       "  <tbody>\n",
       "  </tbody>\n",
       "</table>\n",
       "</div>"
      ],
      "text/plain": [
       "Empty DataFrame\n",
       "Columns: [title, link, speech]\n",
       "Index: []"
      ]
     },
     "execution_count": 4,
     "metadata": {},
     "output_type": "execute_result"
    }
   ],
   "source": [
    "df"
   ]
  },
  {
   "cell_type": "code",
   "execution_count": null,
   "metadata": {},
   "outputs": [],
   "source": []
  }
 ],
 "metadata": {
  "kernelspec": {
   "display_name": "Python 3",
   "language": "python",
   "name": "python3"
  },
  "language_info": {
   "codemirror_mode": {
    "name": "ipython",
    "version": 3
   },
   "file_extension": ".py",
   "mimetype": "text/x-python",
   "name": "python",
   "nbconvert_exporter": "python",
   "pygments_lexer": "ipython3",
   "version": "3.7.4"
  }
 },
 "nbformat": 4,
 "nbformat_minor": 2
}

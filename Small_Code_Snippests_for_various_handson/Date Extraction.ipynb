{
 "cells": [
  {
   "cell_type": "code",
   "execution_count": 6,
   "metadata": {
    "ExecuteTime": {
     "end_time": "2020-03-15T12:33:39.051489Z",
     "start_time": "2020-03-15T12:33:37.916525Z"
    }
   },
   "outputs": [],
   "source": [
    "import pandas as pd\n",
    "import re\n",
    "import datefinder\n",
    "import codecs"
   ]
  },
  {
   "cell_type": "code",
   "execution_count": 35,
   "metadata": {
    "ExecuteTime": {
     "end_time": "2020-03-15T12:33:39.059498Z",
     "start_time": "2020-03-15T12:33:39.055491Z"
    }
   },
   "outputs": [],
   "source": [
    "file_ = r'C:\\Users\\solharsh\\Desktop\\Capstone NLP\\NLP Assignment RAW\\Text\\201002 PM.txt'\n",
    "#file_ = r'C:\\Users\\solharsh\\Desktop\\Capstone NLP\\NLP Assignment RAW\\Text\\201907 NS.txt'"
   ]
  },
  {
   "cell_type": "code",
   "execution_count": 36,
   "metadata": {
    "ExecuteTime": {
     "end_time": "2020-03-15T12:33:39.089495Z",
     "start_time": "2020-03-15T12:33:39.065496Z"
    }
   },
   "outputs": [],
   "source": [
    "def splitParagraphIntoSentences(paragraph):\n",
    "    sentenceEnders = re.compile('[.!?]')\n",
    "    sentenceList = sentenceEnders.split(paragraph)\n",
    "    return sentenceList"
   ]
  },
  {
   "cell_type": "code",
   "execution_count": 37,
   "metadata": {
    "ExecuteTime": {
     "end_time": "2020-03-15T12:33:39.112493Z",
     "start_time": "2020-03-15T12:33:39.095495Z"
    }
   },
   "outputs": [],
   "source": [
    "##name of speaker\n",
    "term = 'Pranab Mukherjee'"
   ]
  },
  {
   "cell_type": "code",
   "execution_count": 38,
   "metadata": {
    "ExecuteTime": {
     "end_time": "2020-03-15T12:33:39.133494Z",
     "start_time": "2020-03-15T12:33:39.117496Z"
    }
   },
   "outputs": [],
   "source": [
    "def date_extraction(sentence_list,term):\n",
    "    date_val = []\n",
    "    new_sent_list = []\n",
    "    date_ret_new = []    \n",
    "    for sentence in sentence_list:        \n",
    "        s = re.sub(\"[^a-zA-Z0-9\\s]\",\"\",str(sentence))\n",
    "        s = re.sub(r'\\b[\\\\n+]\\b',\" \",str(s).strip())\n",
    "        if term in s:\n",
    "            new_sent_list.append(sentence)\n",
    "    for sent in new_sent_list:\n",
    "        if term in sent:\n",
    "            matches = datefinder.find_dates(sent)\n",
    "            for match in matches:\n",
    "                date_val.append(match)\n",
    "    return date_val[0]"
   ]
  },
  {
   "cell_type": "code",
   "execution_count": 39,
   "metadata": {
    "ExecuteTime": {
     "end_time": "2020-03-15T12:33:39.152491Z",
     "start_time": "2020-03-15T12:33:39.136495Z"
    }
   },
   "outputs": [],
   "source": [
    "with codecs.open(file_, encoding='ANSI') as f:\n",
    "    text = f.read()\n",
    "sentences = splitParagraphIntoSentences(text)"
   ]
  },
  {
   "cell_type": "code",
   "execution_count": 40,
   "metadata": {
    "ExecuteTime": {
     "end_time": "2020-03-15T12:33:39.170491Z",
     "start_time": "2020-03-15T12:33:39.154500Z"
    }
   },
   "outputs": [],
   "source": [
    "sentence_list = []\n",
    "for s in sentences:\n",
    "    if len(s)>1:\n",
    "        sentence_list.append(s.strip())"
   ]
  },
  {
   "cell_type": "code",
   "execution_count": 41,
   "metadata": {
    "ExecuteTime": {
     "end_time": "2020-03-15T12:33:39.220490Z",
     "start_time": "2020-03-15T12:33:39.173491Z"
    }
   },
   "outputs": [
    {
     "data": {
      "text/plain": [
       "datetime.datetime(2010, 2, 26, 0, 0)"
      ]
     },
     "execution_count": 41,
     "metadata": {},
     "output_type": "execute_result"
    }
   ],
   "source": [
    "date_extraction(sentence_list,term)"
   ]
  },
  {
   "cell_type": "code",
   "execution_count": null,
   "metadata": {},
   "outputs": [],
   "source": []
  },
  {
   "cell_type": "code",
   "execution_count": null,
   "metadata": {},
   "outputs": [],
   "source": []
  },
  {
   "cell_type": "code",
   "execution_count": null,
   "metadata": {},
   "outputs": [],
   "source": []
  }
 ],
 "metadata": {
  "kernelspec": {
   "display_name": "Python 3",
   "language": "python",
   "name": "python3"
  },
  "language_info": {
   "codemirror_mode": {
    "name": "ipython",
    "version": 3
   },
   "file_extension": ".py",
   "mimetype": "text/x-python",
   "name": "python",
   "nbconvert_exporter": "python",
   "pygments_lexer": "ipython3",
   "version": "3.7.4"
  }
 },
 "nbformat": 4,
 "nbformat_minor": 2
}

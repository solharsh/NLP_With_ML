{
 "cells": [
  {
   "cell_type": "code",
   "execution_count": 36,
   "metadata": {},
   "outputs": [],
   "source": [
    "#How to convert text to word count vectors with CountVectorizer.\n",
    "#How to convert text to word frequency vectors with TfidfVectorizer.\n",
    "#How to convert text to unique integers with HashingVectorizer."
   ]
  },
  {
   "cell_type": "markdown",
   "metadata": {},
   "source": [
    "Bag-of-Words Model:\n",
    "\n",
    "/The model is simple in that it throws away all of the order information in the words and focuses on the occurrence of words in a document.\n",
    "\n"
   ]
  },
  {
   "cell_type": "markdown",
   "metadata": {},
   "source": [
    "Word Counts with CountVectorizer"
   ]
  },
  {
   "cell_type": "markdown",
   "metadata": {},
   "source": [
    "1. Create an instance of the CountVectorizer class.\n",
    "2. Call the fit() function in order to learn a vocabulary from one or more documents.\n",
    "3. Call the transform() function on one or more documents as needed to encode each as a vector."
   ]
  },
  {
   "cell_type": "code",
   "execution_count": 37,
   "metadata": {},
   "outputs": [],
   "source": [
    "from sklearn.feature_extraction.text import CountVectorizer"
   ]
  },
  {
   "cell_type": "code",
   "execution_count": 38,
   "metadata": {},
   "outputs": [],
   "source": [
    "# list of text documents\n",
    "text = [\"The quick brown fox jumped over the lazy dog.\"]"
   ]
  },
  {
   "cell_type": "code",
   "execution_count": 39,
   "metadata": {},
   "outputs": [],
   "source": [
    "# create the transform\n",
    "vectorizer = CountVectorizer()"
   ]
  },
  {
   "cell_type": "code",
   "execution_count": 40,
   "metadata": {},
   "outputs": [
    {
     "data": {
      "text/plain": [
       "CountVectorizer(analyzer='word', binary=False, decode_error='strict',\n",
       "                dtype=<class 'numpy.int64'>, encoding='utf-8', input='content',\n",
       "                lowercase=True, max_df=1.0, max_features=None, min_df=1,\n",
       "                ngram_range=(1, 1), preprocessor=None, stop_words=None,\n",
       "                strip_accents=None, token_pattern='(?u)\\\\b\\\\w\\\\w+\\\\b',\n",
       "                tokenizer=None, vocabulary=None)"
      ]
     },
     "execution_count": 40,
     "metadata": {},
     "output_type": "execute_result"
    }
   ],
   "source": [
    "# tokenize and build vocab\n",
    "vectorizer.fit(text)"
   ]
  },
  {
   "cell_type": "code",
   "execution_count": 41,
   "metadata": {},
   "outputs": [
    {
     "name": "stdout",
     "output_type": "stream",
     "text": [
      "{'the': 7, 'quick': 6, 'brown': 0, 'fox': 2, 'jumped': 3, 'over': 5, 'lazy': 4, 'dog': 1}\n"
     ]
    }
   ],
   "source": [
    "# summarize\n",
    "print(vectorizer.vocabulary_)"
   ]
  },
  {
   "cell_type": "code",
   "execution_count": 42,
   "metadata": {},
   "outputs": [],
   "source": [
    "# encode document\n",
    "vector = vectorizer.transform(text)"
   ]
  },
  {
   "cell_type": "code",
   "execution_count": 43,
   "metadata": {},
   "outputs": [
    {
     "name": "stdout",
     "output_type": "stream",
     "text": [
      "(1, 8)\n",
      "<class 'scipy.sparse.csr.csr_matrix'>\n",
      "[[1 1 1 1 1 1 1 2]]\n"
     ]
    }
   ],
   "source": [
    "# summarize encoded vector\n",
    "print(vector.shape)\n",
    "print(type(vector))\n",
    "print(vector.toarray())"
   ]
  },
  {
   "cell_type": "code",
   "execution_count": 44,
   "metadata": {},
   "outputs": [
    {
     "name": "stdout",
     "output_type": "stream",
     "text": [
      "[[0 0 0 0 0 0 0 1]]\n"
     ]
    }
   ],
   "source": [
    "# encode another document\n",
    "text2 = [\"the puppy\"]\n",
    "vector = vectorizer.transform(text2)\n",
    "print(vector.toarray())"
   ]
  },
  {
   "cell_type": "markdown",
   "metadata": {},
   "source": [
    "Word Frequencies with TfidfVectorizer"
   ]
  },
  {
   "cell_type": "markdown",
   "metadata": {},
   "source": [
    "Issue with word counts : words like “the” will appear many times and their large counts will not be very meaningful in the encoded vectors."
   ]
  },
  {
   "cell_type": "markdown",
   "metadata": {},
   "source": [
    "An alternative is to calculate word frequencies, and by far the most popular method is called TF-IDF. This is an acronym than stands for “Term Frequency – Inverse Document” Frequency which are the components of the resulting scores assigned to each word."
   ]
  },
  {
   "cell_type": "markdown",
   "metadata": {},
   "source": [
    "1. Term Frequency: This summarizes how often a given word appears within a document.\n",
    "\n",
    "2. Inverse Document Frequency: This downscales words that appear a lot across documents."
   ]
  },
  {
   "cell_type": "code",
   "execution_count": 45,
   "metadata": {},
   "outputs": [
    {
     "name": "stdout",
     "output_type": "stream",
     "text": [
      "{'the': 7, 'quick': 6, 'brown': 0, 'fox': 2, 'jumped': 3, 'over': 5, 'lazy': 4, 'dog': 1}\n",
      "[1.69314718 1.28768207 1.28768207 1.69314718 1.69314718 1.69314718\n",
      " 1.69314718 1.        ]\n",
      "(1, 8)\n",
      "[[0.36388646 0.27674503 0.27674503 0.36388646 0.36388646 0.36388646\n",
      "  0.36388646 0.42983441]]\n"
     ]
    }
   ],
   "source": [
    "from sklearn.feature_extraction.text import TfidfVectorizer\n",
    "# list of text documents\n",
    "text = [\"The quick brown fox jumped over the lazy dog.\",\n",
    "\"The dog.\",\n",
    "\"The fox\"]\n",
    "# create the transform\n",
    "vectorizer = TfidfVectorizer()\n",
    "# tokenize and build vocab\n",
    "vectorizer.fit(text)\n",
    "# summarize\n",
    "print(vectorizer.vocabulary_)\n",
    "print(vectorizer.idf_)\n",
    "# encode document\n",
    "vector = vectorizer.transform([text[0]])\n",
    "# summarize encoded vector\n",
    "print(vector.shape)\n",
    "print(vector.toarray())"
   ]
  },
  {
   "cell_type": "code",
   "execution_count": 46,
   "metadata": {},
   "outputs": [],
   "source": [
    "#The scores are normalized to values between 0 and 1 and the encoded document vectors can then be used directly with most machine learning algorithms."
   ]
  },
  {
   "cell_type": "markdown",
   "metadata": {},
   "source": [
    "## Hashing with HashingVectorizer"
   ]
  },
  {
   "cell_type": "markdown",
   "metadata": {},
   "source": [
    "### limitation of count and frequency: vocabulary can become very large."
   ]
  },
  {
   "cell_type": "markdown",
   "metadata": {},
   "source": [
    "A clever work around is to use a one way hash of words to convert them to integers. The clever part is that no vocabulary is required and you can choose an arbitrary-long fixed length vector. A downside is that the hash is a one-way function so there is no way to convert the encoding back to a word (which may not matter for many supervised learning tasks)."
   ]
  },
  {
   "cell_type": "code",
   "execution_count": 47,
   "metadata": {},
   "outputs": [
    {
     "name": "stdout",
     "output_type": "stream",
     "text": [
      "(1, 20)\n",
      "[[ 0.          0.          0.          0.          0.          0.33333333\n",
      "   0.         -0.33333333  0.33333333  0.          0.          0.33333333\n",
      "   0.          0.          0.         -0.33333333  0.          0.\n",
      "  -0.66666667  0.        ]]\n"
     ]
    }
   ],
   "source": [
    "from sklearn.feature_extraction.text import HashingVectorizer\n",
    "# list of text documents\n",
    "text = [\"The quick brown fox jumped over the lazy dog.\"]\n",
    "# create the transform\n",
    "vectorizer = HashingVectorizer(n_features=20) #An arbitrary fixed-length vector size of 20 was chosen. \n",
    "#(range of the hash function)\n",
    "# encode document\n",
    "vector = vectorizer.transform(text)\n",
    "# summarize encoded vector\n",
    "print(vector.shape)\n",
    "print(vector.toarray())"
   ]
  },
  {
   "cell_type": "code",
   "execution_count": 48,
   "metadata": {},
   "outputs": [
    {
     "data": {
      "text/plain": [
       "(5, 16)"
      ]
     },
     "execution_count": 48,
     "metadata": {},
     "output_type": "execute_result"
    }
   ],
   "source": [
    "#Tfidftransformer Usage\n",
    "import pandas as pd\n",
    " \n",
    "from sklearn.feature_extraction.text import TfidfTransformer\n",
    "from sklearn.feature_extraction.text import CountVectorizer\n",
    " \n",
    "# this is a very toy example, do not try this at home unless you want to understand the usage differences\n",
    "docs=[\"the house had a tiny little mouse\",\n",
    "      \"the cat saw the mouse\",\n",
    "      \"the mouse ran away from the house\",\n",
    "      \"the cat finally ate the mouse\",\n",
    "      \"the end of the mouse story\"\n",
    "     ]\n",
    "#create a CountVectorizer to count the number of words (term frequency), limit your vocabulary size, apply stop words and etc\n",
    "cv=CountVectorizer() ##instantiate CountVectorizer()\n",
    "\n",
    "# this steps generates word counts for the words in our docs\n",
    "word_count_vector=cv.fit_transform(docs)\n",
    "\n",
    "word_count_vector.shape"
   ]
  },
  {
   "cell_type": "code",
   "execution_count": 49,
   "metadata": {},
   "outputs": [
    {
     "data": {
      "text/plain": [
       "TfidfTransformer(norm='l2', smooth_idf=True, sublinear_tf=False, use_idf=True)"
      ]
     },
     "execution_count": 49,
     "metadata": {},
     "output_type": "execute_result"
    }
   ],
   "source": [
    "tfidf_transformer=TfidfTransformer(smooth_idf=True,use_idf=True)\n",
    "tfidf_transformer.fit(word_count_vector)"
   ]
  },
  {
   "cell_type": "code",
   "execution_count": 50,
   "metadata": {},
   "outputs": [
    {
     "data": {
      "text/html": [
       "<div>\n",
       "<style scoped>\n",
       "    .dataframe tbody tr th:only-of-type {\n",
       "        vertical-align: middle;\n",
       "    }\n",
       "\n",
       "    .dataframe tbody tr th {\n",
       "        vertical-align: top;\n",
       "    }\n",
       "\n",
       "    .dataframe thead th {\n",
       "        text-align: right;\n",
       "    }\n",
       "</style>\n",
       "<table border=\"1\" class=\"dataframe\">\n",
       "  <thead>\n",
       "    <tr style=\"text-align: right;\">\n",
       "      <th></th>\n",
       "      <th>idf_weights</th>\n",
       "    </tr>\n",
       "  </thead>\n",
       "  <tbody>\n",
       "    <tr>\n",
       "      <td>mouse</td>\n",
       "      <td>1.000000</td>\n",
       "    </tr>\n",
       "    <tr>\n",
       "      <td>the</td>\n",
       "      <td>1.000000</td>\n",
       "    </tr>\n",
       "    <tr>\n",
       "      <td>cat</td>\n",
       "      <td>1.693147</td>\n",
       "    </tr>\n",
       "    <tr>\n",
       "      <td>house</td>\n",
       "      <td>1.693147</td>\n",
       "    </tr>\n",
       "    <tr>\n",
       "      <td>ate</td>\n",
       "      <td>2.098612</td>\n",
       "    </tr>\n",
       "    <tr>\n",
       "      <td>away</td>\n",
       "      <td>2.098612</td>\n",
       "    </tr>\n",
       "    <tr>\n",
       "      <td>end</td>\n",
       "      <td>2.098612</td>\n",
       "    </tr>\n",
       "    <tr>\n",
       "      <td>finally</td>\n",
       "      <td>2.098612</td>\n",
       "    </tr>\n",
       "    <tr>\n",
       "      <td>from</td>\n",
       "      <td>2.098612</td>\n",
       "    </tr>\n",
       "    <tr>\n",
       "      <td>had</td>\n",
       "      <td>2.098612</td>\n",
       "    </tr>\n",
       "    <tr>\n",
       "      <td>little</td>\n",
       "      <td>2.098612</td>\n",
       "    </tr>\n",
       "    <tr>\n",
       "      <td>of</td>\n",
       "      <td>2.098612</td>\n",
       "    </tr>\n",
       "    <tr>\n",
       "      <td>ran</td>\n",
       "      <td>2.098612</td>\n",
       "    </tr>\n",
       "    <tr>\n",
       "      <td>saw</td>\n",
       "      <td>2.098612</td>\n",
       "    </tr>\n",
       "    <tr>\n",
       "      <td>story</td>\n",
       "      <td>2.098612</td>\n",
       "    </tr>\n",
       "    <tr>\n",
       "      <td>tiny</td>\n",
       "      <td>2.098612</td>\n",
       "    </tr>\n",
       "  </tbody>\n",
       "</table>\n",
       "</div>"
      ],
      "text/plain": [
       "         idf_weights\n",
       "mouse       1.000000\n",
       "the         1.000000\n",
       "cat         1.693147\n",
       "house       1.693147\n",
       "ate         2.098612\n",
       "away        2.098612\n",
       "end         2.098612\n",
       "finally     2.098612\n",
       "from        2.098612\n",
       "had         2.098612\n",
       "little      2.098612\n",
       "of          2.098612\n",
       "ran         2.098612\n",
       "saw         2.098612\n",
       "story       2.098612\n",
       "tiny        2.098612"
      ]
     },
     "execution_count": 50,
     "metadata": {},
     "output_type": "execute_result"
    }
   ],
   "source": [
    "# print idf values\n",
    "df_idf = pd.DataFrame(tfidf_transformer.idf_, index=cv.get_feature_names(),columns=[\"idf_weights\"])\n",
    " \n",
    "# sort ascending\n",
    "df_idf.sort_values(by=['idf_weights'])"
   ]
  },
  {
   "cell_type": "code",
   "execution_count": 51,
   "metadata": {},
   "outputs": [],
   "source": [
    "#The lower the IDF value of a word, the less unique it is to any particular document."
   ]
  },
  {
   "cell_type": "code",
   "execution_count": 52,
   "metadata": {},
   "outputs": [],
   "source": [
    "# count matrix\n",
    "count_vector=cv.transform(docs)\n",
    " \n",
    "# tf-idf scores\n",
    "tf_idf_vector=tfidf_transformer.transform(count_vector)"
   ]
  },
  {
   "cell_type": "code",
   "execution_count": 53,
   "metadata": {},
   "outputs": [
    {
     "data": {
      "text/html": [
       "<div>\n",
       "<style scoped>\n",
       "    .dataframe tbody tr th:only-of-type {\n",
       "        vertical-align: middle;\n",
       "    }\n",
       "\n",
       "    .dataframe tbody tr th {\n",
       "        vertical-align: top;\n",
       "    }\n",
       "\n",
       "    .dataframe thead th {\n",
       "        text-align: right;\n",
       "    }\n",
       "</style>\n",
       "<table border=\"1\" class=\"dataframe\">\n",
       "  <thead>\n",
       "    <tr style=\"text-align: right;\">\n",
       "      <th></th>\n",
       "      <th>tfidf</th>\n",
       "    </tr>\n",
       "  </thead>\n",
       "  <tbody>\n",
       "    <tr>\n",
       "      <td>had</td>\n",
       "      <td>0.493562</td>\n",
       "    </tr>\n",
       "    <tr>\n",
       "      <td>little</td>\n",
       "      <td>0.493562</td>\n",
       "    </tr>\n",
       "    <tr>\n",
       "      <td>tiny</td>\n",
       "      <td>0.493562</td>\n",
       "    </tr>\n",
       "    <tr>\n",
       "      <td>house</td>\n",
       "      <td>0.398203</td>\n",
       "    </tr>\n",
       "    <tr>\n",
       "      <td>mouse</td>\n",
       "      <td>0.235185</td>\n",
       "    </tr>\n",
       "    <tr>\n",
       "      <td>the</td>\n",
       "      <td>0.235185</td>\n",
       "    </tr>\n",
       "    <tr>\n",
       "      <td>ate</td>\n",
       "      <td>0.000000</td>\n",
       "    </tr>\n",
       "    <tr>\n",
       "      <td>away</td>\n",
       "      <td>0.000000</td>\n",
       "    </tr>\n",
       "    <tr>\n",
       "      <td>cat</td>\n",
       "      <td>0.000000</td>\n",
       "    </tr>\n",
       "    <tr>\n",
       "      <td>end</td>\n",
       "      <td>0.000000</td>\n",
       "    </tr>\n",
       "    <tr>\n",
       "      <td>finally</td>\n",
       "      <td>0.000000</td>\n",
       "    </tr>\n",
       "    <tr>\n",
       "      <td>from</td>\n",
       "      <td>0.000000</td>\n",
       "    </tr>\n",
       "    <tr>\n",
       "      <td>of</td>\n",
       "      <td>0.000000</td>\n",
       "    </tr>\n",
       "    <tr>\n",
       "      <td>ran</td>\n",
       "      <td>0.000000</td>\n",
       "    </tr>\n",
       "    <tr>\n",
       "      <td>saw</td>\n",
       "      <td>0.000000</td>\n",
       "    </tr>\n",
       "    <tr>\n",
       "      <td>story</td>\n",
       "      <td>0.000000</td>\n",
       "    </tr>\n",
       "  </tbody>\n",
       "</table>\n",
       "</div>"
      ],
      "text/plain": [
       "            tfidf\n",
       "had      0.493562\n",
       "little   0.493562\n",
       "tiny     0.493562\n",
       "house    0.398203\n",
       "mouse    0.235185\n",
       "the      0.235185\n",
       "ate      0.000000\n",
       "away     0.000000\n",
       "cat      0.000000\n",
       "end      0.000000\n",
       "finally  0.000000\n",
       "from     0.000000\n",
       "of       0.000000\n",
       "ran      0.000000\n",
       "saw      0.000000\n",
       "story    0.000000"
      ]
     },
     "execution_count": 53,
     "metadata": {},
     "output_type": "execute_result"
    }
   ],
   "source": [
    "feature_names = cv.get_feature_names()\n",
    " \n",
    "#get tfidf vector for first document\n",
    "first_document_vector=tf_idf_vector[0]\n",
    " \n",
    "#print the scores\n",
    "df = pd.DataFrame(first_document_vector.T.todense(), index=feature_names, columns=[\"tfidf\"])\n",
    "df.sort_values(by=[\"tfidf\"],ascending=False)"
   ]
  },
  {
   "cell_type": "markdown",
   "metadata": {},
   "source": [
    "## Tfidfvectorizer Usage"
   ]
  },
  {
   "cell_type": "code",
   "execution_count": 54,
   "metadata": {},
   "outputs": [],
   "source": [
    "#With Tfidfvectorizer you compute the word counts, idf and tf-idf values all at once. It’s really simple."
   ]
  },
  {
   "cell_type": "code",
   "execution_count": 55,
   "metadata": {},
   "outputs": [],
   "source": [
    "from sklearn.feature_extraction.text import TfidfVectorizer \n",
    " \n",
    "# settings that you use for count vectorizer will go here\n",
    "tfidf_vectorizer=TfidfVectorizer(use_idf=True)\n",
    " \n",
    "# just send in all your docs here\n",
    "tfidf_vectorizer_vectors=tfidf_vectorizer.fit_transform(docs)"
   ]
  },
  {
   "cell_type": "code",
   "execution_count": 56,
   "metadata": {},
   "outputs": [
    {
     "data": {
      "text/html": [
       "<div>\n",
       "<style scoped>\n",
       "    .dataframe tbody tr th:only-of-type {\n",
       "        vertical-align: middle;\n",
       "    }\n",
       "\n",
       "    .dataframe tbody tr th {\n",
       "        vertical-align: top;\n",
       "    }\n",
       "\n",
       "    .dataframe thead th {\n",
       "        text-align: right;\n",
       "    }\n",
       "</style>\n",
       "<table border=\"1\" class=\"dataframe\">\n",
       "  <thead>\n",
       "    <tr style=\"text-align: right;\">\n",
       "      <th></th>\n",
       "      <th>tfidf</th>\n",
       "    </tr>\n",
       "  </thead>\n",
       "  <tbody>\n",
       "    <tr>\n",
       "      <td>had</td>\n",
       "      <td>0.493562</td>\n",
       "    </tr>\n",
       "    <tr>\n",
       "      <td>little</td>\n",
       "      <td>0.493562</td>\n",
       "    </tr>\n",
       "    <tr>\n",
       "      <td>tiny</td>\n",
       "      <td>0.493562</td>\n",
       "    </tr>\n",
       "    <tr>\n",
       "      <td>house</td>\n",
       "      <td>0.398203</td>\n",
       "    </tr>\n",
       "    <tr>\n",
       "      <td>mouse</td>\n",
       "      <td>0.235185</td>\n",
       "    </tr>\n",
       "    <tr>\n",
       "      <td>the</td>\n",
       "      <td>0.235185</td>\n",
       "    </tr>\n",
       "    <tr>\n",
       "      <td>ate</td>\n",
       "      <td>0.000000</td>\n",
       "    </tr>\n",
       "    <tr>\n",
       "      <td>away</td>\n",
       "      <td>0.000000</td>\n",
       "    </tr>\n",
       "    <tr>\n",
       "      <td>cat</td>\n",
       "      <td>0.000000</td>\n",
       "    </tr>\n",
       "    <tr>\n",
       "      <td>end</td>\n",
       "      <td>0.000000</td>\n",
       "    </tr>\n",
       "    <tr>\n",
       "      <td>finally</td>\n",
       "      <td>0.000000</td>\n",
       "    </tr>\n",
       "    <tr>\n",
       "      <td>from</td>\n",
       "      <td>0.000000</td>\n",
       "    </tr>\n",
       "    <tr>\n",
       "      <td>of</td>\n",
       "      <td>0.000000</td>\n",
       "    </tr>\n",
       "    <tr>\n",
       "      <td>ran</td>\n",
       "      <td>0.000000</td>\n",
       "    </tr>\n",
       "    <tr>\n",
       "      <td>saw</td>\n",
       "      <td>0.000000</td>\n",
       "    </tr>\n",
       "    <tr>\n",
       "      <td>story</td>\n",
       "      <td>0.000000</td>\n",
       "    </tr>\n",
       "  </tbody>\n",
       "</table>\n",
       "</div>"
      ],
      "text/plain": [
       "            tfidf\n",
       "had      0.493562\n",
       "little   0.493562\n",
       "tiny     0.493562\n",
       "house    0.398203\n",
       "mouse    0.235185\n",
       "the      0.235185\n",
       "ate      0.000000\n",
       "away     0.000000\n",
       "cat      0.000000\n",
       "end      0.000000\n",
       "finally  0.000000\n",
       "from     0.000000\n",
       "of       0.000000\n",
       "ran      0.000000\n",
       "saw      0.000000\n",
       "story    0.000000"
      ]
     },
     "execution_count": 56,
     "metadata": {},
     "output_type": "execute_result"
    }
   ],
   "source": [
    "# get the first vector out (for the first document)\n",
    "first_vector_tfidfvectorizer=tfidf_vectorizer_vectors[0]\n",
    " \n",
    "# place tf-idf values in a pandas data frame\n",
    "df = pd.DataFrame(first_vector_tfidfvectorizer.T.todense(), index=tfidf_vectorizer.get_feature_names(), columns=[\"tfidf\"])\n",
    "df.sort_values(by=[\"tfidf\"],ascending=False)"
   ]
  },
  {
   "cell_type": "code",
   "execution_count": 57,
   "metadata": {},
   "outputs": [],
   "source": [
    "tfidf_vectorizer=TfidfVectorizer(use_idf=True)\n",
    " \n",
    "# just send in all your docs here\n",
    "fitted_vectorizer=tfidf_vectorizer.fit(docs)\n",
    "tfidf_vectorizer_vectors=fitted_vectorizer.transform(docs)"
   ]
  },
  {
   "cell_type": "markdown",
   "metadata": {},
   "source": [
    "Tfidftransformer vs. Tfidfvectorizer\n",
    "In summary, the main difference between the two modules are as follows:\n",
    "\n",
    "With Tfidftransformer you will systematically compute word counts using CountVectorizer and then compute the Inverse Document Frequency (IDF) values and only then compute the Tf-idf scores.\n",
    "\n",
    "With Tfidfvectorizer on the contrary, you will do all three steps at once. Under the hood, it computes the word counts, IDF values, and Tf-idf scores all using the same dataset."
   ]
  },
  {
   "cell_type": "markdown",
   "metadata": {},
   "source": [
    "# Basic Text Pre-Processing"
   ]
  },
  {
   "cell_type": "markdown",
   "metadata": {},
   "source": [
    "## Converting to lowercase"
   ]
  },
  {
   "cell_type": "code",
   "execution_count": 58,
   "metadata": {},
   "outputs": [
    {
     "name": "stdout",
     "output_type": "stream",
     "text": [
      "the 5 biggest countries by population in 2017 are china, india, united states, indonesia, and brazil.\n"
     ]
    }
   ],
   "source": [
    "input_str = \"The 5 biggest countries by population in 2017 are China, India, United States, Indonesia, and Brazil.\"\n",
    "input_str = input_str.lower()\n",
    "print(input_str)"
   ]
  },
  {
   "cell_type": "markdown",
   "metadata": {},
   "source": [
    "## Removing number using reg ex"
   ]
  },
  {
   "cell_type": "code",
   "execution_count": 59,
   "metadata": {},
   "outputs": [
    {
     "name": "stdout",
     "output_type": "stream",
     "text": [
      "Box A contains  red and  white balls, while Box B contains  red and  blue balls.\n"
     ]
    }
   ],
   "source": [
    "import re\n",
    "input_str = \"Box A contains 3 red and 5 white balls, while Box B contains 4 red and 2 blue balls.\"\n",
    "rem_num = re.sub(r'\\d+','',input_str)\n",
    "print(rem_num)"
   ]
  },
  {
   "cell_type": "markdown",
   "metadata": {},
   "source": [
    "## Remove punctuation"
   ]
  },
  {
   "cell_type": "code",
   "execution_count": 60,
   "metadata": {},
   "outputs": [
    {
     "name": "stdout",
     "output_type": "stream",
     "text": [
      "!\"#$%&'()*+,-./:;<=>?@[\\]^_`{|}~\n"
     ]
    },
    {
     "data": {
      "text/plain": [
       "'This is an example of string with punctuation'"
      ]
     },
     "execution_count": 60,
     "metadata": {},
     "output_type": "execute_result"
    }
   ],
   "source": [
    "import string\n",
    "input_str = \"This &is [an] example? {of} string. with.? punctuation!!!!\" # Sample string\n",
    "print(string.punctuation)\n",
    "def remove_punct(text):\n",
    "    rem_punct = \"\".join([word for word in text if word not in string.punctuation])\n",
    "    return rem_punct\n",
    "\n",
    "remove_punct(input_str)"
   ]
  },
  {
   "cell_type": "markdown",
   "metadata": {},
   "source": [
    "## Remove whitespaces"
   ]
  },
  {
   "cell_type": "code",
   "execution_count": 61,
   "metadata": {},
   "outputs": [
    {
     "data": {
      "text/plain": [
       "'a string example'"
      ]
     },
     "execution_count": 61,
     "metadata": {},
     "output_type": "execute_result"
    }
   ],
   "source": [
    "input_str = \" \\t a string example\\t \"\n",
    "input_str = input_str.strip()\n",
    "input_str"
   ]
  },
  {
   "cell_type": "markdown",
   "metadata": {},
   "source": [
    "## Remove stop words"
   ]
  },
  {
   "cell_type": "code",
   "execution_count": 133,
   "metadata": {},
   "outputs": [
    {
     "name": "stdout",
     "output_type": "stream",
     "text": [
      "['NLTK', 'leading', 'platform', 'building', 'Python', 'programs', 'work', 'human', 'language', 'data', '.']\n"
     ]
    }
   ],
   "source": [
    "import nltk \n",
    "stopword = nltk.corpus.stopwords.words('english')\n",
    "\n",
    "input_str = \"NLTK is a leading platform for building Python programs to work with human language data.\"\n",
    "\n",
    "from nltk.tokenize import word_tokenize\n",
    "tokens = word_tokenize(input_str)\n",
    "result = [i for i in tokens if not i in stopword]\n",
    "print (result)"
   ]
  },
  {
   "cell_type": "code",
   "execution_count": 135,
   "metadata": {},
   "outputs": [
    {
     "name": "stdout",
     "output_type": "stream",
     "text": [
      "present the union SAE PCP DNA اس ہفتے AAP BJP budget for  in #@////[[[[  wh.\n",
      "present the union SAE PCP DNA اس ہفتے AAP BJP budget for  in   wh\n",
      "present the union    اس ہفتے   budget for  in   wh\n",
      "the\n",
      "['the']\n",
      "\n"
     ]
    }
   ],
   "source": [
    "text = \"present the union SAE PCP DNA اس ہفتے AAP BJP budget for 201011 in #@////[[[[ 2009 wh.\"\n",
    "p = re.sub(r\"\\d+\",\"\",text)\n",
    "print(p)\n",
    "\n",
    "text_nopunct = \"\".join([w for w in p if w not in string.punctuation])\n",
    "print(text_nopunct)\n",
    "\n",
    "text_noACR = re.sub(r\"\\b[A-Z]{2,}\\b\", \"\", text_nopunct)\n",
    "print(text_noACR)\n",
    "\n",
    "text_noeng = \" \".join(w for w in nltk.wordpunct_tokenize(text_noACR) if w.lower() in words or not w.isalpha())\n",
    "print(text_noeng)\n",
    "\n",
    "tokens = re.split('\\W+', text_noeng)\n",
    "print(tokens)\n",
    "\n",
    "texts = \" \".join([wn.lemmatize(word) for word in tokens if word not in stopword])\n",
    "print(texts)\n",
    "\n",
    "\n",
    "#####\n",
    "#def clean_text(text):\n",
    "    #text_nopunct = \"\".join([w for w in text if w not in string.punctuation])\n",
    "    #text_noACR = re.sub(r\"\\b[A-Z]{2,}\\b\", \"\", text_nopunct)\n",
    "    #text_noeng = \" \".join(w for w in nltk.wordpunct_tokenize(text_noACR) if w.lower() in words or not w.isalpha())\n",
    "   # tokens = re.split('\\W+', text_noeng)\n",
    "  #  texts = \" \".join([wn.lemmatize(word) for word in tokens if word not in stopword])\n",
    " #   return texts\n",
    "\n",
    "#Speeches_Clean = Speeches.apply(lambda x: clean_text(x))\n",
    "####"
   ]
  },
  {
   "cell_type": "markdown",
   "metadata": {},
   "source": [
    "## Stemming\n",
    "Stemmer converts the tokens to simpler forms by removing the end part of tokens (pluralizers)."
   ]
  },
  {
   "cell_type": "code",
   "execution_count": 64,
   "metadata": {},
   "outputs": [
    {
     "name": "stdout",
     "output_type": "stream",
     "text": [
      "there\n",
      "are\n",
      "sever\n",
      "type\n",
      "of\n",
      "stem\n",
      "algorithm\n",
      ".\n",
      "eat\n",
      "eat\n",
      "eat\n",
      "ate\n"
     ]
    }
   ],
   "source": [
    "from nltk.stem import PorterStemmer\n",
    "stemmer= PorterStemmer()\n",
    "input_str=\"There are several types of stemming algorithms.\"\n",
    "input_str=word_tokenize(input_str)\n",
    "for word in input_str:\n",
    "    print(stemmer.stem(word))\n",
    "    \n",
    "    \n",
    "words = [\"eat\", \"eats\", \"eating\", \"ate\"]\n",
    "ps = PorterStemmer()\n",
    "for word in words:\n",
    "    print(ps.stem(word))"
   ]
  },
  {
   "cell_type": "code",
   "execution_count": 65,
   "metadata": {},
   "outputs": [
    {
     "name": "stderr",
     "output_type": "stream",
     "text": [
      "[nltk_data] Downloading package punkt to /tmp/...\n",
      "[nltk_data]   Unzipping tokenizers\\punkt.zip.\n"
     ]
    },
    {
     "name": "stdout",
     "output_type": "stream",
     "text": [
      "the:the\n",
      "children:children\n",
      "are:are\n",
      "playing:play\n",
      "and:and\n",
      "running:run\n",
      ".:.\n",
      "The:the\n",
      "weather:weather\n",
      "was:was\n",
      "better:better\n",
      "yesterday:yesterday\n",
      ".:.\n"
     ]
    }
   ],
   "source": [
    "from nltk.stem import SnowballStemmer\n",
    "from nltk.tokenize import word_tokenize\n",
    "# We need to download the 'punkt' package to use tokenizers\n",
    "nltk.download('punkt', download_dir='/tmp/')\n",
    "nltk.data.path.append(\"tmp\")\n",
    "ss = SnowballStemmer('english')\n",
    "sentence = \"the children are playing and running. The weather was better yesterday.\"\n",
    "words = word_tokenize(sentence)\n",
    "for word in words:\n",
    "    print(word + \":\" + ss.stem(word))"
   ]
  },
  {
   "cell_type": "markdown",
   "metadata": {},
   "source": [
    "## Lemmatization\n",
    "Lemmatizer uses dictionary root to map the tokens. It also works better when the token position tag (\"noun\", \"verb\", etc. ) is provided.The first example is without word tags."
   ]
  },
  {
   "cell_type": "code",
   "execution_count": 66,
   "metadata": {},
   "outputs": [
    {
     "name": "stderr",
     "output_type": "stream",
     "text": [
      "[nltk_data] Downloading package wordnet to /tmp/...\n",
      "[nltk_data]   Unzipping corpora\\wordnet.zip.\n"
     ]
    },
    {
     "name": "stdout",
     "output_type": "stream",
     "text": [
      "the:the\n",
      "children:child\n",
      "are:are\n",
      "playing:playing\n",
      "and:and\n",
      "running:running\n",
      ".:.\n",
      "the:the\n",
      "weather:weather\n",
      "was:wa\n",
      "better:better\n",
      "yesterday:yesterday\n",
      ".:.\n"
     ]
    }
   ],
   "source": [
    "# Download the wordnet package\n",
    "nltk.download('wordnet', download_dir='/tmp/')\n",
    "nltk.data.path.append(\"tmp\")\n",
    "from nltk.stem import WordNetLemmatizer\n",
    "from nltk.tokenize import word_tokenize\n",
    "wl = WordNetLemmatizer()\n",
    "sentence = \"the children are playing and running. the weather was better yesterday.\"\n",
    "words = word_tokenize(sentence)\n",
    "for word in words:\n",
    "    print(word + \":\" + wl.lemmatize(word))"
   ]
  },
  {
   "cell_type": "code",
   "execution_count": 63,
   "metadata": {},
   "outputs": [
    {
     "name": "stdout",
     "output_type": "stream",
     "text": [
      "been\n",
      "had\n",
      "done\n",
      "language\n",
      "city\n",
      "mouse\n"
     ]
    }
   ],
   "source": [
    "from nltk.stem import WordNetLemmatizer\n",
    "lemmatizer=WordNetLemmatizer()\n",
    "input_str=\"been had done languages cities mice\"\n",
    "input_str=word_tokenize(input_str)\n",
    "for word in input_str:\n",
    "    print(lemmatizer.lemmatize(word))"
   ]
  },
  {
   "cell_type": "markdown",
   "metadata": {},
   "source": [
    "Improved Lemmatization\n",
    "\n",
    "Let's use the token position tags this time. Lemmatizer does a better job when we use the tag information that is also calculated using NLTK's postition tags.\n"
   ]
  },
  {
   "cell_type": "code",
   "execution_count": 67,
   "metadata": {},
   "outputs": [
    {
     "name": "stderr",
     "output_type": "stream",
     "text": [
      "[nltk_data] Downloading package averaged_perceptron_tagger to /tmp/...\n",
      "[nltk_data]   Unzipping taggers\\averaged_perceptron_tagger.zip.\n"
     ]
    },
    {
     "name": "stdout",
     "output_type": "stream",
     "text": [
      "Tags [('the', 'DT'), ('children', 'NNS'), ('are', 'VBP'), ('playing', 'VBG'), ('and', 'CC'), ('running', 'VBG'), ('.', '.'), ('the', 'DT'), ('weather', 'NN'), ('was', 'VBD'), ('better', 'JJR'), ('yesterday', 'NN'), ('.', '.')]\n",
      "the the\n",
      "children child\n",
      "are be\n",
      "playing play\n",
      "and and\n",
      "running run\n",
      ". .\n",
      "the the\n",
      "weather weather\n",
      "was be\n",
      "better good\n",
      "yesterday yesterday\n",
      ". .\n"
     ]
    }
   ],
   "source": [
    "import nltk\n",
    "from nltk.corpus import wordnet\n",
    "# Download the tagging package\n",
    "nltk.download('averaged_perceptron_tagger', download_dir='/tmp/')\n",
    "nltk.data.path.append(\"tmp\")\n",
    "from nltk.stem import WordNetLemmatizer\n",
    "from nltk.tokenize import word_tokenize\n",
    "wl = WordNetLemmatizer()\n",
    "def get_wordnet_pos(tag):\n",
    "    if tag.startswith('J'):\n",
    "        return wordnet.ADJ\n",
    "    elif tag.startswith('V'):\n",
    "        return wordnet.VERB\n",
    "    elif tag.startswith('N'):\n",
    "        return wordnet.NOUN\n",
    "    elif tag.startswith('R'):\n",
    "        return wordnet.ADV\n",
    "    else:\n",
    "        return wordnet.NOUN\n",
    "sentence = \"the children are playing and running. the weather was better yesterday.\"\n",
    "words = word_tokenize(sentence)\n",
    "word_pos_tags = nltk.pos_tag(words)\n",
    "print(\"Tags\", word_pos_tags)\n",
    "for idx, tag in enumerate(word_pos_tags):\n",
    "    print(words[idx], wl.lemmatize(tag[0], get_wordnet_pos(tag[1])))"
   ]
  },
  {
   "cell_type": "markdown",
   "metadata": {},
   "source": [
    "## Part of speech tagging (POS)"
   ]
  },
  {
   "cell_type": "code",
   "execution_count": 64,
   "metadata": {},
   "outputs": [
    {
     "name": "stdout",
     "output_type": "stream",
     "text": [
      "[('Parts', 'NNS'), ('of', 'IN'), ('speech', 'NN'), ('examples', 'NNS'), ('an', 'DT'), ('article', 'NN'), ('to', 'TO'), ('write', 'VB'), ('interesting', 'VBG'), ('easily', 'RB'), ('and', 'CC'), ('of', 'IN')]\n"
     ]
    }
   ],
   "source": [
    "input_str=\"Parts of speech examples: an article, to write, interesting, easily, and, of\"\n",
    "from textblob import TextBlob\n",
    "result = TextBlob(input_str)\n",
    "print(result.tags)"
   ]
  },
  {
   "cell_type": "markdown",
   "metadata": {},
   "source": [
    "## Chunking (shallow parsing)"
   ]
  },
  {
   "cell_type": "markdown",
   "metadata": {},
   "source": [
    "Chunking is a natural language process that identifies constituent parts of sentences (nouns, verbs, adjectives, etc.) and links them to higher order units that have discrete grammatical meanings (noun groups or phrases, verb groups, etc.)"
   ]
  },
  {
   "cell_type": "code",
   "execution_count": 65,
   "metadata": {},
   "outputs": [
    {
     "name": "stdout",
     "output_type": "stream",
     "text": [
      "(S\n",
      "  Parts/NNS\n",
      "  of/IN\n",
      "  (NP speech/NN)\n",
      "  examples/NNS\n",
      "  (NP an/DT article/NN)\n",
      "  to/TO\n",
      "  write/VB\n",
      "  interesting/VBG\n",
      "  easily/RB\n",
      "  and/CC\n",
      "  of/IN)\n"
     ]
    }
   ],
   "source": [
    "reg_exp = \"NP: {<DT>?<JJ>*<NN>}\"\n",
    "rp = nltk.RegexpParser(reg_exp)\n",
    "result = rp.parse(result.tags)\n",
    "print(result)"
   ]
  },
  {
   "cell_type": "code",
   "execution_count": 66,
   "metadata": {},
   "outputs": [
    {
     "ename": "KeyboardInterrupt",
     "evalue": "",
     "output_type": "error",
     "traceback": [
      "\u001b[1;31m---------------------------------------------------------------------------\u001b[0m",
      "\u001b[1;31mKeyboardInterrupt\u001b[0m                         Traceback (most recent call last)",
      "\u001b[1;32m<ipython-input-66-39b549b0db90>\u001b[0m in \u001b[0;36m<module>\u001b[1;34m\u001b[0m\n\u001b[0;32m      1\u001b[0m \u001b[1;31m# It’s also possible to draw the sentence tree structure using code\u001b[0m\u001b[1;33m\u001b[0m\u001b[1;33m\u001b[0m\u001b[1;33m\u001b[0m\u001b[0m\n\u001b[1;32m----> 2\u001b[1;33m \u001b[0mresult\u001b[0m\u001b[1;33m.\u001b[0m\u001b[0mdraw\u001b[0m\u001b[1;33m(\u001b[0m\u001b[1;33m)\u001b[0m\u001b[1;33m\u001b[0m\u001b[1;33m\u001b[0m\u001b[0m\n\u001b[0m",
      "\u001b[1;32m~\\AppData\\Local\\Continuum\\anaconda3\\lib\\site-packages\\nltk\\tree.py\u001b[0m in \u001b[0;36mdraw\u001b[1;34m(self)\u001b[0m\n\u001b[0;32m    752\u001b[0m         \u001b[1;32mfrom\u001b[0m \u001b[0mnltk\u001b[0m\u001b[1;33m.\u001b[0m\u001b[0mdraw\u001b[0m\u001b[1;33m.\u001b[0m\u001b[0mtree\u001b[0m \u001b[1;32mimport\u001b[0m \u001b[0mdraw_trees\u001b[0m\u001b[1;33m\u001b[0m\u001b[1;33m\u001b[0m\u001b[0m\n\u001b[0;32m    753\u001b[0m \u001b[1;33m\u001b[0m\u001b[0m\n\u001b[1;32m--> 754\u001b[1;33m         \u001b[0mdraw_trees\u001b[0m\u001b[1;33m(\u001b[0m\u001b[0mself\u001b[0m\u001b[1;33m)\u001b[0m\u001b[1;33m\u001b[0m\u001b[1;33m\u001b[0m\u001b[0m\n\u001b[0m\u001b[0;32m    755\u001b[0m \u001b[1;33m\u001b[0m\u001b[0m\n\u001b[0;32m    756\u001b[0m     \u001b[1;32mdef\u001b[0m \u001b[0mpretty_print\u001b[0m\u001b[1;33m(\u001b[0m\u001b[0mself\u001b[0m\u001b[1;33m,\u001b[0m \u001b[0msentence\u001b[0m\u001b[1;33m=\u001b[0m\u001b[1;32mNone\u001b[0m\u001b[1;33m,\u001b[0m \u001b[0mhighlight\u001b[0m\u001b[1;33m=\u001b[0m\u001b[1;33m(\u001b[0m\u001b[1;33m)\u001b[0m\u001b[1;33m,\u001b[0m \u001b[0mstream\u001b[0m\u001b[1;33m=\u001b[0m\u001b[1;32mNone\u001b[0m\u001b[1;33m,\u001b[0m \u001b[1;33m**\u001b[0m\u001b[0mkwargs\u001b[0m\u001b[1;33m)\u001b[0m\u001b[1;33m:\u001b[0m\u001b[1;33m\u001b[0m\u001b[1;33m\u001b[0m\u001b[0m\n",
      "\u001b[1;32m~\\AppData\\Local\\Continuum\\anaconda3\\lib\\site-packages\\nltk\\draw\\tree.py\u001b[0m in \u001b[0;36mdraw_trees\u001b[1;34m(*trees)\u001b[0m\n\u001b[0;32m   1006\u001b[0m     \u001b[1;33m:\u001b[0m\u001b[0mrtype\u001b[0m\u001b[1;33m:\u001b[0m \u001b[1;32mNone\u001b[0m\u001b[1;33m\u001b[0m\u001b[1;33m\u001b[0m\u001b[0m\n\u001b[0;32m   1007\u001b[0m     \"\"\"\n\u001b[1;32m-> 1008\u001b[1;33m     \u001b[0mTreeView\u001b[0m\u001b[1;33m(\u001b[0m\u001b[1;33m*\u001b[0m\u001b[0mtrees\u001b[0m\u001b[1;33m)\u001b[0m\u001b[1;33m.\u001b[0m\u001b[0mmainloop\u001b[0m\u001b[1;33m(\u001b[0m\u001b[1;33m)\u001b[0m\u001b[1;33m\u001b[0m\u001b[1;33m\u001b[0m\u001b[0m\n\u001b[0m\u001b[0;32m   1009\u001b[0m     \u001b[1;32mreturn\u001b[0m\u001b[1;33m\u001b[0m\u001b[1;33m\u001b[0m\u001b[0m\n\u001b[0;32m   1010\u001b[0m \u001b[1;33m\u001b[0m\u001b[0m\n",
      "\u001b[1;32m~\\AppData\\Local\\Continuum\\anaconda3\\lib\\site-packages\\nltk\\draw\\tree.py\u001b[0m in \u001b[0;36mmainloop\u001b[1;34m(self, *args, **kwargs)\u001b[0m\n\u001b[0;32m    996\u001b[0m         \u001b[1;32mif\u001b[0m \u001b[0min_idle\u001b[0m\u001b[1;33m(\u001b[0m\u001b[1;33m)\u001b[0m\u001b[1;33m:\u001b[0m\u001b[1;33m\u001b[0m\u001b[1;33m\u001b[0m\u001b[0m\n\u001b[0;32m    997\u001b[0m             \u001b[1;32mreturn\u001b[0m\u001b[1;33m\u001b[0m\u001b[1;33m\u001b[0m\u001b[0m\n\u001b[1;32m--> 998\u001b[1;33m         \u001b[0mself\u001b[0m\u001b[1;33m.\u001b[0m\u001b[0m_top\u001b[0m\u001b[1;33m.\u001b[0m\u001b[0mmainloop\u001b[0m\u001b[1;33m(\u001b[0m\u001b[1;33m*\u001b[0m\u001b[0margs\u001b[0m\u001b[1;33m,\u001b[0m \u001b[1;33m**\u001b[0m\u001b[0mkwargs\u001b[0m\u001b[1;33m)\u001b[0m\u001b[1;33m\u001b[0m\u001b[1;33m\u001b[0m\u001b[0m\n\u001b[0m\u001b[0;32m    999\u001b[0m \u001b[1;33m\u001b[0m\u001b[0m\n\u001b[0;32m   1000\u001b[0m \u001b[1;33m\u001b[0m\u001b[0m\n",
      "\u001b[1;32m~\\AppData\\Local\\Continuum\\anaconda3\\lib\\tkinter\\__init__.py\u001b[0m in \u001b[0;36mmainloop\u001b[1;34m(self, n)\u001b[0m\n\u001b[0;32m   1281\u001b[0m     \u001b[1;32mdef\u001b[0m \u001b[0mmainloop\u001b[0m\u001b[1;33m(\u001b[0m\u001b[0mself\u001b[0m\u001b[1;33m,\u001b[0m \u001b[0mn\u001b[0m\u001b[1;33m=\u001b[0m\u001b[1;36m0\u001b[0m\u001b[1;33m)\u001b[0m\u001b[1;33m:\u001b[0m\u001b[1;33m\u001b[0m\u001b[1;33m\u001b[0m\u001b[0m\n\u001b[0;32m   1282\u001b[0m         \u001b[1;34m\"\"\"Call the mainloop of Tk.\"\"\"\u001b[0m\u001b[1;33m\u001b[0m\u001b[1;33m\u001b[0m\u001b[0m\n\u001b[1;32m-> 1283\u001b[1;33m         \u001b[0mself\u001b[0m\u001b[1;33m.\u001b[0m\u001b[0mtk\u001b[0m\u001b[1;33m.\u001b[0m\u001b[0mmainloop\u001b[0m\u001b[1;33m(\u001b[0m\u001b[0mn\u001b[0m\u001b[1;33m)\u001b[0m\u001b[1;33m\u001b[0m\u001b[1;33m\u001b[0m\u001b[0m\n\u001b[0m\u001b[0;32m   1284\u001b[0m     \u001b[1;32mdef\u001b[0m \u001b[0mquit\u001b[0m\u001b[1;33m(\u001b[0m\u001b[0mself\u001b[0m\u001b[1;33m)\u001b[0m\u001b[1;33m:\u001b[0m\u001b[1;33m\u001b[0m\u001b[1;33m\u001b[0m\u001b[0m\n\u001b[0;32m   1285\u001b[0m         \u001b[1;34m\"\"\"Quit the Tcl interpreter. All widgets will be destroyed.\"\"\"\u001b[0m\u001b[1;33m\u001b[0m\u001b[1;33m\u001b[0m\u001b[0m\n",
      "\u001b[1;31mKeyboardInterrupt\u001b[0m: "
     ]
    }
   ],
   "source": [
    "# It’s also possible to draw the sentence tree structure using code \n",
    "result.draw()"
   ]
  },
  {
   "cell_type": "markdown",
   "metadata": {},
   "source": [
    "# Bag Of Words (BoW) Representation"
   ]
  },
  {
   "cell_type": "code",
   "execution_count": 70,
   "metadata": {},
   "outputs": [
    {
     "name": "stdout",
     "output_type": "stream",
     "text": [
      "   but  good  interesting  long  movie  too\n",
      "0    1     1            0     1      1    1\n",
      "1    0     0            1     0      1    0\n"
     ]
    }
   ],
   "source": [
    "corpus = [\"good movie but too long\",\n",
    "          \"interesting movie\"]\n",
    "import pandas as pd\n",
    "from sklearn.feature_extraction.text import CountVectorizer\n",
    "count_vectorizer = CountVectorizer(binary=True)\n",
    "features = count_vectorizer.fit_transform(corpus)\n",
    "# Let's write the binary features to a data Pandas data frame\n",
    "df = pd.DataFrame(features.toarray(), columns=count_vectorizer.get_feature_names())\n",
    "print(df)"
   ]
  },
  {
   "cell_type": "markdown",
   "metadata": {},
   "source": [
    "Binary Feature Vectors:\n",
    "\n",
    "In this representation, each token has a value of 1 if it occurs in the sentence and 0 otherwise. We will use CountVectorizer() function of the Sklearn library.\n"
   ]
  },
  {
   "cell_type": "code",
   "execution_count": 71,
   "metadata": {},
   "outputs": [
    {
     "name": "stdout",
     "output_type": "stream",
     "text": [
      "   but  good  interesting  long  movie  too\n",
      "0    1     1            0     1      1    1\n",
      "1    0     0            1     0      1    0\n"
     ]
    }
   ],
   "source": [
    "import pandas as pd\n",
    "from sklearn.feature_extraction.text import CountVectorizer\n",
    "count_vectorizer = CountVectorizer(binary=True)\n",
    "features = count_vectorizer.fit_transform(corpus)\n",
    "# Let's write the binary features to a data Pandas data frame\n",
    "df = pd.DataFrame(features.toarray(), columns=count_vectorizer.get_feature_names())\n",
    "print(df)"
   ]
  },
  {
   "cell_type": "markdown",
   "metadata": {},
   "source": [
    "N-grams:\n",
    "\n",
    "N-grams use “N” consecutive words in this representation. Let's use 2 grams using our sample sentences. You can see our vocabulary size increased with the addition of new 2 grams.\n"
   ]
  },
  {
   "cell_type": "code",
   "execution_count": 72,
   "metadata": {},
   "outputs": [
    {
     "name": "stdout",
     "output_type": "stream",
     "text": [
      "   but  but too  good  good movie  interesting  interesting movie  long  \\\n",
      "0    1        1     1           1            0                  0     1   \n",
      "1    0        0     0           0            1                  1     0   \n",
      "\n",
      "   movie  movie but  too  too long  \n",
      "0      1          1    1         1  \n",
      "1      1          0    0         0  \n"
     ]
    }
   ],
   "source": [
    "import pandas as pd\n",
    "from sklearn.feature_extraction.text import CountVectorizer\n",
    "count_vectorizer = CountVectorizer(binary=True, ngram_range=(1, 2))\n",
    "features = count_vectorizer.fit_transform(corpus)\n",
    "# Let's write the binary features to a data Pandas data frame\n",
    "df = pd.DataFrame(features.toarray(), columns=count_vectorizer.get_feature_names())\n",
    "print(df)"
   ]
  },
  {
   "cell_type": "markdown",
   "metadata": {},
   "source": [
    "# TF-IDF\n",
    "\n",
    "TF-IDF is an important tool when performing text mining, topic modeling among and other Natural Language Processing techniques. It is becouse TF-IDF allows us to assess the relevenca of terms or words related to a set of documents (also known as curpus)\n",
    "\n",
    "To play around with them a bit, and see how to apply it, let's work with a very simple example, but capable ilustrate very clearly the main idea on how to use this score. We will use two sentences in this example. Each one will be a document in our corpus:\n"
   ]
  },
  {
   "cell_type": "code",
   "execution_count": 73,
   "metadata": {},
   "outputs": [],
   "source": [
    "docA = \"\"\"Python is a 2000 made-for-TV horror movie directed by Richard\n",
    "Clabaugh. The film features several cult favorite actors, including William\n",
    "Zabka of The Karate Kid fame, Wil Wheaton, Casper Van Dien, Jenny McCarthy,\n",
    "Keith Coogan, Robert Englund (best known for his role as Freddy Krueger in the\n",
    "A Nightmare on Elm Street series of films), Dana Barron, David Bowe, and Sean\n",
    "Whalen. The film concerns a genetically engineered snake, a python, that\n",
    "escapes and unleashes itself on a small town. It includes the classic final\n",
    "girl scenario evident in films like Friday the 13th. It was filmed in Los Angeles,\n",
    " California and Malibu, California. Python was followed by two sequels: Python\n",
    " II (2002) and Boa vs. Python (2004), both also made-for-TV films.\"\"\""
   ]
  },
  {
   "cell_type": "code",
   "execution_count": 74,
   "metadata": {},
   "outputs": [],
   "source": [
    "docB = \"\"\"The Colt Python is a .357 Magnum caliber revolver formerly\n",
    "manufactured by Colt's Manufacturing Company of Hartford, Connecticut.\n",
    "It is sometimes referred to as a \"Combat Magnum\".[1] It was first introduced\n",
    "in 1955, the same year as Smith &amp; Wesson's M29 .44 Magnum. The now discontinued\n",
    "Colt Python targeted the premium revolver market segment. Some firearm\n",
    "collectors and writers such as Jeff Cooper, Ian V. Hogg, Chuck Hawks, Leroy\n",
    "Thompson, Renee Smeets and Martin Dougherty have described the Python as the\n",
    "finest production revolver ever made.\"\"\""
   ]
  },
  {
   "cell_type": "markdown",
   "metadata": {},
   "source": [
    "Data Preprocessing\n",
    "\n",
    "We have to perform some preparation on these data in order to use them for our exercice. Our first task is to separate every word in the texts into single elements that, in the language used for natural language processing (NLP), is usually called tokens\n",
    "\n",
    "Most of text processing in NLP use tokens as their basic elemens.\n",
    "\n",
    "So, we will use a list of tokens instead, to create what is usually called \"Bag of Words (another commom term used in NLP):\n"
   ]
  },
  {
   "cell_type": "code",
   "execution_count": 75,
   "metadata": {},
   "outputs": [
    {
     "name": "stdout",
     "output_type": "stream",
     "text": [
      "bowA: ['Python', 'is', 'a', '2000', 'made-for-TV', 'horror', 'movie', 'directed', 'by', 'Richard\\nClabaugh.', 'The', 'film', 'features', 'several', 'cult', 'favorite', 'actors,', 'including', 'William\\nZabka', 'of', 'The', 'Karate', 'Kid', 'fame,', 'Wil', 'Wheaton,', 'Casper', 'Van', 'Dien,', 'Jenny', 'McCarthy,\\nKeith', 'Coogan,', 'Robert', 'Englund', '(best', 'known', 'for', 'his', 'role', 'as', 'Freddy', 'Krueger', 'in', 'the\\nA', 'Nightmare', 'on', 'Elm', 'Street', 'series', 'of', 'films),', 'Dana', 'Barron,', 'David', 'Bowe,', 'and', 'Sean\\nWhalen.', 'The', 'film', 'concerns', 'a', 'genetically', 'engineered', 'snake,', 'a', 'python,', 'that\\nescapes', 'and', 'unleashes', 'itself', 'on', 'a', 'small', 'town.', 'It', 'includes', 'the', 'classic', 'final\\ngirl', 'scenario', 'evident', 'in', 'films', 'like', 'Friday', 'the', '13th.', 'It', 'was', 'filmed', 'in', 'Los', 'Angeles,\\n', 'California', 'and', 'Malibu,', 'California.', 'Python', 'was', 'followed', 'by', 'two', 'sequels:', 'Python\\n', 'II', '(2002)', 'and', 'Boa', 'vs.', 'Python', '(2004),', 'both', 'also', 'made-for-TV', 'films.']\n",
      "bowB: ['The', 'Colt', 'Python', 'is', 'a', '.357', 'Magnum', 'caliber', 'revolver', 'formerly\\nmanufactured', 'by', \"Colt's\", 'Manufacturing', 'Company', 'of', 'Hartford,', 'Connecticut.\\nIt', 'is', 'sometimes', 'referred', 'to', 'as', 'a', '\"Combat', 'Magnum\".[1]', 'It', 'was', 'first', 'introduced\\nin', '1955,', 'the', 'same', 'year', 'as', 'Smith', '&amp;', \"Wesson's\", 'M29', '.44', 'Magnum.', 'The', 'now', 'discontinued\\nColt', 'Python', 'targeted', 'the', 'premium', 'revolver', 'market', 'segment.', 'Some', 'firearm\\ncollectors', 'and', 'writers', 'such', 'as', 'Jeff', 'Cooper,', 'Ian', 'V.', 'Hogg,', 'Chuck', 'Hawks,', 'Leroy\\nThompson,', 'Renee', 'Smeets', 'and', 'Martin', 'Dougherty', 'have', 'described', 'the', 'Python', 'as', 'the\\nfinest', 'production', 'revolver', 'ever', 'made.']\n"
     ]
    }
   ],
   "source": [
    "bowA = docA.split(\" \")\n",
    "bowB = docB.split(\" \")\n",
    "print(\"bowA: {}\".format(bowA))\n",
    "print(\"bowB: {}\".format(bowB))"
   ]
  },
  {
   "cell_type": "markdown",
   "metadata": {},
   "source": [
    "Now, let's join this to lists into a sinlge word set:"
   ]
  },
  {
   "cell_type": "code",
   "execution_count": 76,
   "metadata": {},
   "outputs": [
    {
     "name": "stdout",
     "output_type": "stream",
     "text": [
      "wordSet: {'on', 'several', 'II', 'series', 'Bowe,', 'genetically', 'same', 'and', 'writers', 'Angeles,\\n', 'California.', 'Smeets', 'Wil', '(2004),', 'Casper', 'Cooper,', '13th.', 'python,', 'revolver', 'in', 'Magnum', 'Street', 'Martin', 'including', 'fame,', 'vs.', 'described', 'Smith', 'itself', 'It', '.357', 'Connecticut.\\nIt', 'as', 'engineered', 'have', 'followed', 'that\\nescapes', 'Nightmare', 'The', 'market', \"Wesson's\", 'to', 'Sean\\nWhalen.', 'includes', 'first', 'formerly\\nmanufactured', 'favorite', 'William\\nZabka', 'cult', 'final\\ngirl', 'Colt', 'known', 'unleashes', 'Malibu,', 'California', 'premium', 'Dana', 'Jenny', 'Ian', 'V.', 'the\\nfinest', 'Kid', 'Van', 'features', 'of', 'Barron,', 'Magnum.', '\"Combat', 'introduced\\nin', 'Dien,', '.44', 'horror', 'now', 'a', 'actors,', 'Los', 'scenario', 'Hartford,', 'evident', 'Some', 'targeted', 'Python', 'Hawks,', 'the\\nA', 'Karate', 'Boa', 'Dougherty', 'the', '(best', 'was', 'directed', 'Magnum\".[1]', 'discontinued\\nColt', 'by', 'Freddy', 'his', 'Jeff', 'movie', 'role', 'Elm', 'small', 'segment.', 'Richard\\nClabaugh.', 'Coogan,', 'concerns', 'M29', 'Manufacturing', 'Leroy\\nThompson,', 'McCarthy,\\nKeith', 'films', 'for', 'Krueger', '&amp;', '(2002)', 'sequels:', 'ever', 'Hogg,', 'firearm\\ncollectors', 'is', 'Robert', 'also', 'caliber', 'Friday', 'made.', 'production', 'Englund', 'made-for-TV', 'two', \"Colt's\", 'referred', 'film', 'like', 'films),', 'town.', 'year', 'sometimes', '1955,', 'Renee', 'films.', 'filmed', 'classic', '2000', 'Python\\n', 'Chuck', 'snake,', 'both', 'such', 'David', 'Wheaton,', 'Company'}\n"
     ]
    }
   ],
   "source": [
    "wordSet = set(bowA).union(set(bowB))\n",
    "print(\"wordSet: {}\".format(wordSet))"
   ]
  },
  {
   "cell_type": "markdown",
   "metadata": {},
   "source": [
    "Now we will proceed to transform both lists into what is called a Bag of Words. it is a simplifyed representation used in natural language processing and information retrieval (IR). In this model, a text (such as a sentence or a document) is represented as the bag (multiset) of its words, disregarding grammar and even word order but keeping multiplicity. We will first initialize every token count with 0:\n"
   ]
  },
  {
   "cell_type": "code",
   "execution_count": 78,
   "metadata": {},
   "outputs": [
    {
     "name": "stdout",
     "output_type": "stream",
     "text": [
      "wordDictA: {'on': 0, 'several': 0, 'II': 0, 'series': 0, 'Bowe,': 0, 'genetically': 0, 'same': 0, 'and': 0, 'writers': 0, 'Angeles,\\n': 0, 'California.': 0, 'Smeets': 0, 'Wil': 0, '(2004),': 0, 'Casper': 0, 'Cooper,': 0, '13th.': 0, 'python,': 0, 'revolver': 0, 'in': 0, 'Magnum': 0, 'Street': 0, 'Martin': 0, 'including': 0, 'fame,': 0, 'vs.': 0, 'described': 0, 'Smith': 0, 'itself': 0, 'It': 0, '.357': 0, 'Connecticut.\\nIt': 0, 'as': 0, 'engineered': 0, 'have': 0, 'followed': 0, 'that\\nescapes': 0, 'Nightmare': 0, 'The': 0, 'market': 0, \"Wesson's\": 0, 'to': 0, 'Sean\\nWhalen.': 0, 'includes': 0, 'first': 0, 'formerly\\nmanufactured': 0, 'favorite': 0, 'William\\nZabka': 0, 'cult': 0, 'final\\ngirl': 0, 'Colt': 0, 'known': 0, 'unleashes': 0, 'Malibu,': 0, 'California': 0, 'premium': 0, 'Dana': 0, 'Jenny': 0, 'Ian': 0, 'V.': 0, 'the\\nfinest': 0, 'Kid': 0, 'Van': 0, 'features': 0, 'of': 0, 'Barron,': 0, 'Magnum.': 0, '\"Combat': 0, 'introduced\\nin': 0, 'Dien,': 0, '.44': 0, 'horror': 0, 'now': 0, 'a': 0, 'actors,': 0, 'Los': 0, 'scenario': 0, 'Hartford,': 0, 'evident': 0, 'Some': 0, 'targeted': 0, 'Python': 0, 'Hawks,': 0, 'the\\nA': 0, 'Karate': 0, 'Boa': 0, 'Dougherty': 0, 'the': 0, '(best': 0, 'was': 0, 'directed': 0, 'Magnum\".[1]': 0, 'discontinued\\nColt': 0, 'by': 0, 'Freddy': 0, 'his': 0, 'Jeff': 0, 'movie': 0, 'role': 0, 'Elm': 0, 'small': 0, 'segment.': 0, 'Richard\\nClabaugh.': 0, 'Coogan,': 0, 'concerns': 0, 'M29': 0, 'Manufacturing': 0, 'Leroy\\nThompson,': 0, 'McCarthy,\\nKeith': 0, 'films': 0, 'for': 0, 'Krueger': 0, '&amp;': 0, '(2002)': 0, 'sequels:': 0, 'ever': 0, 'Hogg,': 0, 'firearm\\ncollectors': 0, 'is': 0, 'Robert': 0, 'also': 0, 'caliber': 0, 'Friday': 0, 'made.': 0, 'production': 0, 'Englund': 0, 'made-for-TV': 0, 'two': 0, \"Colt's\": 0, 'referred': 0, 'film': 0, 'like': 0, 'films),': 0, 'town.': 0, 'year': 0, 'sometimes': 0, '1955,': 0, 'Renee': 0, 'films.': 0, 'filmed': 0, 'classic': 0, '2000': 0, 'Python\\n': 0, 'Chuck': 0, 'snake,': 0, 'both': 0, 'such': 0, 'David': 0, 'Wheaton,': 0, 'Company': 0}\n",
      "\n",
      "\n",
      "wordDictB: {'on': 0, 'several': 0, 'II': 0, 'series': 0, 'Bowe,': 0, 'genetically': 0, 'same': 0, 'and': 0, 'writers': 0, 'Angeles,\\n': 0, 'California.': 0, 'Smeets': 0, 'Wil': 0, '(2004),': 0, 'Casper': 0, 'Cooper,': 0, '13th.': 0, 'python,': 0, 'revolver': 0, 'in': 0, 'Magnum': 0, 'Street': 0, 'Martin': 0, 'including': 0, 'fame,': 0, 'vs.': 0, 'described': 0, 'Smith': 0, 'itself': 0, 'It': 0, '.357': 0, 'Connecticut.\\nIt': 0, 'as': 0, 'engineered': 0, 'have': 0, 'followed': 0, 'that\\nescapes': 0, 'Nightmare': 0, 'The': 0, 'market': 0, \"Wesson's\": 0, 'to': 0, 'Sean\\nWhalen.': 0, 'includes': 0, 'first': 0, 'formerly\\nmanufactured': 0, 'favorite': 0, 'William\\nZabka': 0, 'cult': 0, 'final\\ngirl': 0, 'Colt': 0, 'known': 0, 'unleashes': 0, 'Malibu,': 0, 'California': 0, 'premium': 0, 'Dana': 0, 'Jenny': 0, 'Ian': 0, 'V.': 0, 'the\\nfinest': 0, 'Kid': 0, 'Van': 0, 'features': 0, 'of': 0, 'Barron,': 0, 'Magnum.': 0, '\"Combat': 0, 'introduced\\nin': 0, 'Dien,': 0, '.44': 0, 'horror': 0, 'now': 0, 'a': 0, 'actors,': 0, 'Los': 0, 'scenario': 0, 'Hartford,': 0, 'evident': 0, 'Some': 0, 'targeted': 0, 'Python': 0, 'Hawks,': 0, 'the\\nA': 0, 'Karate': 0, 'Boa': 0, 'Dougherty': 0, 'the': 0, '(best': 0, 'was': 0, 'directed': 0, 'Magnum\".[1]': 0, 'discontinued\\nColt': 0, 'by': 0, 'Freddy': 0, 'his': 0, 'Jeff': 0, 'movie': 0, 'role': 0, 'Elm': 0, 'small': 0, 'segment.': 0, 'Richard\\nClabaugh.': 0, 'Coogan,': 0, 'concerns': 0, 'M29': 0, 'Manufacturing': 0, 'Leroy\\nThompson,': 0, 'McCarthy,\\nKeith': 0, 'films': 0, 'for': 0, 'Krueger': 0, '&amp;': 0, '(2002)': 0, 'sequels:': 0, 'ever': 0, 'Hogg,': 0, 'firearm\\ncollectors': 0, 'is': 0, 'Robert': 0, 'also': 0, 'caliber': 0, 'Friday': 0, 'made.': 0, 'production': 0, 'Englund': 0, 'made-for-TV': 0, 'two': 0, \"Colt's\": 0, 'referred': 0, 'film': 0, 'like': 0, 'films),': 0, 'town.': 0, 'year': 0, 'sometimes': 0, '1955,': 0, 'Renee': 0, 'films.': 0, 'filmed': 0, 'classic': 0, '2000': 0, 'Python\\n': 0, 'Chuck': 0, 'snake,': 0, 'both': 0, 'such': 0, 'David': 0, 'Wheaton,': 0, 'Company': 0}\n"
     ]
    }
   ],
   "source": [
    "wordDictA = dict.fromkeys(wordSet, 0) \n",
    "wordDictB = dict.fromkeys(wordSet, 0)\n",
    "print(\"wordDictA: {}\".format(wordDictA))\n",
    "print(\"\\n\\nwordDictB: {}\".format(wordDictB))"
   ]
  },
  {
   "cell_type": "markdown",
   "metadata": {},
   "source": [
    "Now we fill the bag of words with the correct token counting:"
   ]
  },
  {
   "cell_type": "code",
   "execution_count": 79,
   "metadata": {},
   "outputs": [
    {
     "name": "stdout",
     "output_type": "stream",
     "text": [
      "wordDictA: {'on': 2, 'several': 1, 'II': 1, 'series': 1, 'Bowe,': 1, 'genetically': 1, 'same': 0, 'and': 4, 'writers': 0, 'Angeles,\\n': 1, 'California.': 1, 'Smeets': 0, 'Wil': 1, '(2004),': 1, 'Casper': 1, 'Cooper,': 0, '13th.': 1, 'python,': 1, 'revolver': 0, 'in': 3, 'Magnum': 0, 'Street': 1, 'Martin': 0, 'including': 1, 'fame,': 1, 'vs.': 1, 'described': 0, 'Smith': 0, 'itself': 1, 'It': 2, '.357': 0, 'Connecticut.\\nIt': 0, 'as': 1, 'engineered': 1, 'have': 0, 'followed': 1, 'that\\nescapes': 1, 'Nightmare': 1, 'The': 3, 'market': 0, \"Wesson's\": 0, 'to': 0, 'Sean\\nWhalen.': 1, 'includes': 1, 'first': 0, 'formerly\\nmanufactured': 0, 'favorite': 1, 'William\\nZabka': 1, 'cult': 1, 'final\\ngirl': 1, 'Colt': 0, 'known': 1, 'unleashes': 1, 'Malibu,': 1, 'California': 1, 'premium': 0, 'Dana': 1, 'Jenny': 1, 'Ian': 0, 'V.': 0, 'the\\nfinest': 0, 'Kid': 1, 'Van': 1, 'features': 1, 'of': 2, 'Barron,': 1, 'Magnum.': 0, '\"Combat': 0, 'introduced\\nin': 0, 'Dien,': 1, '.44': 0, 'horror': 1, 'now': 0, 'a': 4, 'actors,': 1, 'Los': 1, 'scenario': 1, 'Hartford,': 0, 'evident': 1, 'Some': 0, 'targeted': 0, 'Python': 3, 'Hawks,': 0, 'the\\nA': 1, 'Karate': 1, 'Boa': 1, 'Dougherty': 0, 'the': 2, '(best': 1, 'was': 2, 'directed': 1, 'Magnum\".[1]': 0, 'discontinued\\nColt': 0, 'by': 2, 'Freddy': 1, 'his': 1, 'Jeff': 0, 'movie': 1, 'role': 1, 'Elm': 1, 'small': 1, 'segment.': 0, 'Richard\\nClabaugh.': 1, 'Coogan,': 1, 'concerns': 1, 'M29': 0, 'Manufacturing': 0, 'Leroy\\nThompson,': 0, 'McCarthy,\\nKeith': 1, 'films': 1, 'for': 1, 'Krueger': 1, '&amp;': 0, '(2002)': 1, 'sequels:': 1, 'ever': 0, 'Hogg,': 0, 'firearm\\ncollectors': 0, 'is': 1, 'Robert': 1, 'also': 1, 'caliber': 0, 'Friday': 1, 'made.': 0, 'production': 0, 'Englund': 1, 'made-for-TV': 2, 'two': 1, \"Colt's\": 0, 'referred': 0, 'film': 2, 'like': 1, 'films),': 1, 'town.': 1, 'year': 0, 'sometimes': 0, '1955,': 0, 'Renee': 0, 'films.': 1, 'filmed': 1, 'classic': 1, '2000': 1, 'Python\\n': 1, 'Chuck': 0, 'snake,': 1, 'both': 1, 'such': 0, 'David': 1, 'Wheaton,': 1, 'Company': 0}\n"
     ]
    }
   ],
   "source": [
    "for word in bowA:\n",
    "    wordDictA[word]+=1\n",
    "for word in bowB:\n",
    "    wordDictB[word]+=1\n",
    "print(\"wordDictA: {}\".format(wordDictA))"
   ]
  },
  {
   "cell_type": "code",
   "execution_count": 80,
   "metadata": {},
   "outputs": [
    {
     "name": "stdout",
     "output_type": "stream",
     "text": [
      "wordDictB: {'on': 0, 'several': 0, 'II': 0, 'series': 0, 'Bowe,': 0, 'genetically': 0, 'same': 1, 'and': 2, 'writers': 1, 'Angeles,\\n': 0, 'California.': 0, 'Smeets': 1, 'Wil': 0, '(2004),': 0, 'Casper': 0, 'Cooper,': 1, '13th.': 0, 'python,': 0, 'revolver': 3, 'in': 0, 'Magnum': 1, 'Street': 0, 'Martin': 1, 'including': 0, 'fame,': 0, 'vs.': 0, 'described': 1, 'Smith': 1, 'itself': 0, 'It': 1, '.357': 1, 'Connecticut.\\nIt': 1, 'as': 4, 'engineered': 0, 'have': 1, 'followed': 0, 'that\\nescapes': 0, 'Nightmare': 0, 'The': 2, 'market': 1, \"Wesson's\": 1, 'to': 1, 'Sean\\nWhalen.': 0, 'includes': 0, 'first': 1, 'formerly\\nmanufactured': 1, 'favorite': 0, 'William\\nZabka': 0, 'cult': 0, 'final\\ngirl': 0, 'Colt': 1, 'known': 0, 'unleashes': 0, 'Malibu,': 0, 'California': 0, 'premium': 1, 'Dana': 0, 'Jenny': 0, 'Ian': 1, 'V.': 1, 'the\\nfinest': 1, 'Kid': 0, 'Van': 0, 'features': 0, 'of': 1, 'Barron,': 0, 'Magnum.': 1, '\"Combat': 1, 'introduced\\nin': 1, 'Dien,': 0, '.44': 1, 'horror': 0, 'now': 1, 'a': 2, 'actors,': 0, 'Los': 0, 'scenario': 0, 'Hartford,': 1, 'evident': 0, 'Some': 1, 'targeted': 1, 'Python': 3, 'Hawks,': 1, 'the\\nA': 0, 'Karate': 0, 'Boa': 0, 'Dougherty': 1, 'the': 3, '(best': 0, 'was': 1, 'directed': 0, 'Magnum\".[1]': 1, 'discontinued\\nColt': 1, 'by': 1, 'Freddy': 0, 'his': 0, 'Jeff': 1, 'movie': 0, 'role': 0, 'Elm': 0, 'small': 0, 'segment.': 1, 'Richard\\nClabaugh.': 0, 'Coogan,': 0, 'concerns': 0, 'M29': 1, 'Manufacturing': 1, 'Leroy\\nThompson,': 1, 'McCarthy,\\nKeith': 0, 'films': 0, 'for': 0, 'Krueger': 0, '&amp;': 1, '(2002)': 0, 'sequels:': 0, 'ever': 1, 'Hogg,': 1, 'firearm\\ncollectors': 1, 'is': 2, 'Robert': 0, 'also': 0, 'caliber': 1, 'Friday': 0, 'made.': 1, 'production': 1, 'Englund': 0, 'made-for-TV': 0, 'two': 0, \"Colt's\": 1, 'referred': 1, 'film': 0, 'like': 0, 'films),': 0, 'town.': 0, 'year': 1, 'sometimes': 1, '1955,': 1, 'Renee': 1, 'films.': 0, 'filmed': 0, 'classic': 0, '2000': 0, 'Python\\n': 0, 'Chuck': 1, 'snake,': 0, 'both': 0, 'such': 1, 'David': 0, 'Wheaton,': 0, 'Company': 1}\n"
     ]
    }
   ],
   "source": [
    "print(\"wordDictB: {}\".format(wordDictB))"
   ]
  },
  {
   "cell_type": "markdown",
   "metadata": {},
   "source": [
    "Data Visualization\n",
    "\n",
    "It is always helpful to look at the quality of the data we are working with. Let's look at our bag of words to see if we did a good job counting the token frequency. Let's take a look at that in a more fancy way using the Pandas library:\n"
   ]
  },
  {
   "cell_type": "code",
   "execution_count": 81,
   "metadata": {},
   "outputs": [
    {
     "data": {
      "text/html": [
       "<div>\n",
       "<style scoped>\n",
       "    .dataframe tbody tr th:only-of-type {\n",
       "        vertical-align: middle;\n",
       "    }\n",
       "\n",
       "    .dataframe tbody tr th {\n",
       "        vertical-align: top;\n",
       "    }\n",
       "\n",
       "    .dataframe thead th {\n",
       "        text-align: right;\n",
       "    }\n",
       "</style>\n",
       "<table border=\"1\" class=\"dataframe\">\n",
       "  <thead>\n",
       "    <tr style=\"text-align: right;\">\n",
       "      <th></th>\n",
       "      <th>on</th>\n",
       "      <th>several</th>\n",
       "      <th>II</th>\n",
       "      <th>series</th>\n",
       "      <th>Bowe,</th>\n",
       "      <th>genetically</th>\n",
       "      <th>same</th>\n",
       "      <th>and</th>\n",
       "      <th>writers</th>\n",
       "      <th>Angeles,\\n</th>\n",
       "      <th>...</th>\n",
       "      <th>classic</th>\n",
       "      <th>2000</th>\n",
       "      <th>Python\\n</th>\n",
       "      <th>Chuck</th>\n",
       "      <th>snake,</th>\n",
       "      <th>both</th>\n",
       "      <th>such</th>\n",
       "      <th>David</th>\n",
       "      <th>Wheaton,</th>\n",
       "      <th>Company</th>\n",
       "    </tr>\n",
       "  </thead>\n",
       "  <tbody>\n",
       "    <tr>\n",
       "      <td>0</td>\n",
       "      <td>2</td>\n",
       "      <td>1</td>\n",
       "      <td>1</td>\n",
       "      <td>1</td>\n",
       "      <td>1</td>\n",
       "      <td>1</td>\n",
       "      <td>0</td>\n",
       "      <td>4</td>\n",
       "      <td>0</td>\n",
       "      <td>1</td>\n",
       "      <td>...</td>\n",
       "      <td>1</td>\n",
       "      <td>1</td>\n",
       "      <td>1</td>\n",
       "      <td>0</td>\n",
       "      <td>1</td>\n",
       "      <td>1</td>\n",
       "      <td>0</td>\n",
       "      <td>1</td>\n",
       "      <td>1</td>\n",
       "      <td>0</td>\n",
       "    </tr>\n",
       "    <tr>\n",
       "      <td>1</td>\n",
       "      <td>0</td>\n",
       "      <td>0</td>\n",
       "      <td>0</td>\n",
       "      <td>0</td>\n",
       "      <td>0</td>\n",
       "      <td>0</td>\n",
       "      <td>1</td>\n",
       "      <td>2</td>\n",
       "      <td>1</td>\n",
       "      <td>0</td>\n",
       "      <td>...</td>\n",
       "      <td>0</td>\n",
       "      <td>0</td>\n",
       "      <td>0</td>\n",
       "      <td>1</td>\n",
       "      <td>0</td>\n",
       "      <td>0</td>\n",
       "      <td>1</td>\n",
       "      <td>0</td>\n",
       "      <td>0</td>\n",
       "      <td>1</td>\n",
       "    </tr>\n",
       "  </tbody>\n",
       "</table>\n",
       "<p>2 rows × 150 columns</p>\n",
       "</div>"
      ],
      "text/plain": [
       "   on  several  II  series  Bowe,  genetically  same  and  writers  \\\n",
       "0   2        1   1       1      1            1     0    4        0   \n",
       "1   0        0   0       0      0            0     1    2        1   \n",
       "\n",
       "   Angeles,\\n  ...  classic  2000  Python\\n  Chuck  snake,  both  such  David  \\\n",
       "0           1  ...        1     1         1      0       1     1     0      1   \n",
       "1           0  ...        0     0         0      1       0     0     1      0   \n",
       "\n",
       "   Wheaton,  Company  \n",
       "0         1        0  \n",
       "1         0        1  \n",
       "\n",
       "[2 rows x 150 columns]"
      ]
     },
     "execution_count": 81,
     "metadata": {},
     "output_type": "execute_result"
    }
   ],
   "source": [
    "import pandas as pd\n",
    "pd.DataFrame([wordDictA, wordDictB])"
   ]
  },
  {
   "cell_type": "markdown",
   "metadata": {},
   "source": [
    "## Calculating Term Frequency (TF)\n",
    "\n",
    "Let''s create a function to calculate that and compute TF for each document:"
   ]
  },
  {
   "cell_type": "code",
   "execution_count": 83,
   "metadata": {},
   "outputs": [],
   "source": [
    "def computeTF(wordDict, bow):\n",
    "    tfDict = {}\n",
    "    bowCount = len(bow)\n",
    "    for word, count in wordDict.items():\n",
    "        tfDict[word] = count/float(bowCount)\n",
    "    return tfDict"
   ]
  },
  {
   "cell_type": "code",
   "execution_count": 91,
   "metadata": {},
   "outputs": [
    {
     "ename": "SyntaxError",
     "evalue": "invalid syntax (<ipython-input-91-700cea1ede21>, line 3)",
     "output_type": "error",
     "traceback": [
      "\u001b[1;36m  File \u001b[1;32m\"<ipython-input-91-700cea1ede21>\"\u001b[1;36m, line \u001b[1;32m3\u001b[0m\n\u001b[1;33m    for key, value in sorted(tfBowA.iteritems(), key=lambda (k,v): (v,k), reverse=True):\u001b[0m\n\u001b[1;37m                                                            ^\u001b[0m\n\u001b[1;31mSyntaxError\u001b[0m\u001b[1;31m:\u001b[0m invalid syntax\n"
     ]
    }
   ],
   "source": [
    "tfBowA = computeTF(wordDictA, bowA)\n",
    "items = 0\n",
    "for key, value in sorted(tfBowA.iteritems(), key=lambda (k,v): (v,k), reverse=True):\n",
    "    items += 1\n",
    "    print \"%s: %s\" % (key, value)\n",
    "    if items > 5:\n",
    "        break"
   ]
  },
  {
   "cell_type": "code",
   "execution_count": 88,
   "metadata": {},
   "outputs": [
    {
     "ename": "SyntaxError",
     "evalue": "invalid syntax (<ipython-input-88-f60f57c2d326>, line 3)",
     "output_type": "error",
     "traceback": [
      "\u001b[1;36m  File \u001b[1;32m\"<ipython-input-88-f60f57c2d326>\"\u001b[1;36m, line \u001b[1;32m3\u001b[0m\n\u001b[1;33m    for key, value in sorted(tfBowB.iteritems(), key=lambda (k,v): (v,k), reverse=True):\u001b[0m\n\u001b[1;37m                                                            ^\u001b[0m\n\u001b[1;31mSyntaxError\u001b[0m\u001b[1;31m:\u001b[0m invalid syntax\n"
     ]
    }
   ],
   "source": [
    "tfBowB = computeTF(wordDictB, bowB)\n",
    "items = 0\n",
    "for key, value in sorted(tfBowB.iteritems(), key=lambda (k,v): (v,k), reverse=True):\n",
    "    items += 1\n",
    "    print \"%s: %s\" % (key, value)\n",
    "    if items > 5:\n",
    "        break"
   ]
  },
  {
   "cell_type": "markdown",
   "metadata": {},
   "source": [
    "# Binary Term Frequency\n",
    "\n",
    "    - We will use Sklearn's CountVectorizer() function with binary=True parameter.\n",
    "    - Let's talk about fit() and transform() functions.\n",
    "        fit() function \"fits\" the text data and creates the vocabulary on the text.\n",
    "        transform() function calculates the needed vector numbers. They are, in this case, binary values 0s or 1s.\n",
    "    - We can get the feature vectors with this: features.toarray() This gives you a multi-dim numpy array.\n",
    "    - Then, we will put the result into a data frame for nice result visualization."
   ]
  },
  {
   "cell_type": "code",
   "execution_count": 93,
   "metadata": {},
   "outputs": [
    {
     "name": "stdout",
     "output_type": "stream",
     "text": [
      "Texts: ['good movie', 'bad acting', 'it was boring movie']\n",
      "--------------------------------------------------------\n",
      "   acting  bad  boring  good  it  movie  was\n",
      "0       0    0       0     1   0      1    0\n",
      "1       1    1       0     0   0      0    0\n",
      "2       0    0       1     0   1      1    1\n"
     ]
    }
   ],
   "source": [
    "from sklearn.feature_extraction.text import CountVectorizer\n",
    "import pandas as pd\n",
    "texts = [\"good movie\", \"bad acting\", \"it was boring movie\"]\n",
    "vectorizer = CountVectorizer(binary=True)\n",
    "vectorizer.fit(texts)\n",
    "features = vectorizer.transform(texts)\n",
    "df = pd.DataFrame(features.toarray(), columns=vectorizer.get_feature_names())\n",
    "print(\"Texts:\", texts)\n",
    "print(\"--------------------------------------------------------\")\n",
    "print(df)"
   ]
  },
  {
   "cell_type": "markdown",
   "metadata": {},
   "source": [
    "# Word counts\n",
    "\n",
    "    - We will use Sklearn's CountVectorizer() function.\n",
    "    - fit() function \"fits\" the text data and creates the vocabulary on the text.\n",
    "    - transform() function calculates the needed vector numbers. They are raw token/word counts for this example.\n",
    "    - We can get the feature vectors with this: features.toarray() This gives you a multi-dim numpy array.\n",
    "    - Then, we will put the result into a data frame for nice result visualization."
   ]
  },
  {
   "cell_type": "code",
   "execution_count": 95,
   "metadata": {},
   "outputs": [
    {
     "name": "stdout",
     "output_type": "stream",
     "text": [
      "Texts: ['good movie', 'bad acting', 'it was boring movie']\n",
      "--------------------------------------------------------\n",
      "   acting  bad  boring  good  it  movie  was\n",
      "0       0    0       0     1   0      1    0\n",
      "1       1    1       0     0   0      0    0\n",
      "2       0    0       1     0   1      1    1\n"
     ]
    }
   ],
   "source": [
    "from sklearn.feature_extraction.text import CountVectorizer\n",
    "import pandas as pd\n",
    "texts = [\"good movie\", \"bad acting\", \"it was boring movie\"]\n",
    "vectorizer = CountVectorizer()\n",
    "vectorizer.fit(texts)\n",
    "features = vectorizer.transform(texts)\n",
    "df = pd.DataFrame(features.toarray(), columns=vectorizer.get_feature_names())\n",
    "print(\"Texts:\", texts)\n",
    "print(\"--------------------------------------------------------\")\n",
    "print(df)"
   ]
  },
  {
   "cell_type": "markdown",
   "metadata": {},
   "source": [
    "# N-grams\n",
    "\n",
    "We can use N-grams in our feature vectors. This will help us getting token sequences. The example below uses 1-grams (regular tokens) and 2-grams (2 consecutive tokens). Pay attention to our new vocabulary, it gest BIGGER because of additional 2-grams."
   ]
  },
  {
   "cell_type": "code",
   "execution_count": 96,
   "metadata": {},
   "outputs": [
    {
     "name": "stdout",
     "output_type": "stream",
     "text": [
      "Texts: ['good movie', 'bad acting', 'it was boring movie']\n",
      "--------------------------------------------------------\n",
      "   acting  bad  bad acting  boring  boring movie  good  good movie  it  \\\n",
      "0       0    0           0       0             0     1           1   0   \n",
      "1       1    1           1       0             0     0           0   0   \n",
      "2       0    0           0       1             1     0           0   1   \n",
      "\n",
      "   it was  movie  was  was boring  \n",
      "0       0      1    0           0  \n",
      "1       0      0    0           0  \n",
      "2       1      1    1           1  \n"
     ]
    }
   ],
   "source": [
    "from sklearn.feature_extraction.text import CountVectorizer\n",
    "import pandas as pd\n",
    "texts = [\"good movie\", \"bad acting\", \"it was boring movie\"]\n",
    "# CountVectorizer(ngram_range = (ngram_low_limit, ngram_up_limit)) \n",
    "vectorizer = CountVectorizer(ngram_range=(1, 2))\n",
    "vectorizer.fit(texts)\n",
    "features = vectorizer.transform(texts)\n",
    "df = pd.DataFrame(features.toarray(), columns=vectorizer.get_feature_names())\n",
    "print(\"Texts:\", texts)\n",
    "print(\"--------------------------------------------------------\")\n",
    "print(df)"
   ]
  },
  {
   "cell_type": "markdown",
   "metadata": {},
   "source": [
    "# Term Frequencies\n",
    "\n",
    "    - We will use Sklearn's TfidfVectorizer() function with use_idf=False parameter.\n",
    "    - fit() function \"fits\" the text data and creates the vocabulary on the text.\n",
    "    - transform() function calculates term frequencies. SKlearn automatically applies L2 normalization to each vector.\n",
    "    - We can get the feature vectors with this: features.toarray() This gives you a multi-dim numpy array.\n",
    "    - Then, we will put the result into a data frame for nice result visualization."
   ]
  },
  {
   "cell_type": "code",
   "execution_count": 98,
   "metadata": {},
   "outputs": [
    {
     "name": "stdout",
     "output_type": "stream",
     "text": [
      "Texts: ['good movie', 'bad acting', 'it was boring movie']\n",
      "--------------------------------------------------------\n",
      "     acting       bad  boring      good   it     movie  was\n",
      "0  0.000000  0.000000     0.0  0.707107  0.0  0.707107  0.0\n",
      "1  0.707107  0.707107     0.0  0.000000  0.0  0.000000  0.0\n",
      "2  0.000000  0.000000     0.5  0.000000  0.5  0.500000  0.5\n"
     ]
    }
   ],
   "source": [
    "from sklearn.feature_extraction.text import TfidfVectorizer\n",
    "import pandas as pd\n",
    "\n",
    "texts = [\"good movie\", \"bad acting\", \"it was boring movie\"]\n",
    "vectorizer = TfidfVectorizer(use_idf=False)\n",
    "vectorizer.fit(texts)\n",
    "features = vectorizer.transform(texts)\n",
    "df = pd.DataFrame(features.toarray(), columns=vectorizer.get_feature_names())\n",
    "print(\"Texts:\", texts)\n",
    "print(\"--------------------------------------------------------\")\n",
    "print(df)"
   ]
  },
  {
   "cell_type": "markdown",
   "metadata": {},
   "source": [
    "# TF - IDF\n",
    "\n",
    "    - We will use Sklearn's TfidfVectorizer() function.\n",
    "    - fit() function \"fits\" the text data and creates the vocabulary on the text.\n",
    "    - transform() function calculates term freq. - inverse document frequencies (TF-IDF). SKlearn automatically applies L2 normalization to each vector.\n",
    "    - We can get the feature vectors with this: features.toarray() This gives you a multi-dim numpy array.\n",
    "    - Then, we will put the result into a data frame for nice result visualization."
   ]
  },
  {
   "cell_type": "code",
   "execution_count": 99,
   "metadata": {},
   "outputs": [
    {
     "name": "stdout",
     "output_type": "stream",
     "text": [
      "Texts: ['good movie', 'bad acting', 'it was boring movie']\n",
      "--------------------------------------------------------\n",
      "     acting       bad    boring      good        it     movie       was\n",
      "0  0.000000  0.000000  0.000000  0.795961  0.000000  0.605349  0.000000\n",
      "1  0.707107  0.707107  0.000000  0.000000  0.000000  0.000000  0.000000\n",
      "2  0.000000  0.000000  0.528635  0.000000  0.528635  0.402040  0.528635\n"
     ]
    }
   ],
   "source": [
    "from sklearn.feature_extraction.text import TfidfVectorizer\n",
    "import pandas as pd\n",
    "texts = [\"good movie\", \"bad acting\", \"it was boring movie\"]\n",
    "vectorizer = TfidfVectorizer()\n",
    "vectorizer.fit(texts)\n",
    "features = vectorizer.transform(texts)\n",
    "df = pd.DataFrame(features.toarray(), columns=vectorizer.get_feature_names())\n",
    "print(\"Texts:\", texts)\n",
    "print(\"--------------------------------------------------------\")\n",
    "print(df)"
   ]
  },
  {
   "cell_type": "markdown",
   "metadata": {},
   "source": [
    "## Vectorizing with limited feature size (smaller vocabulary)\n",
    "\n",
    "Sometimes we may need to reduce the size of our feature array for faster training and better generalization. In this case, we can use the max_features parameter. This will keep the most important features by the given feature size.\n"
   ]
  },
  {
   "cell_type": "code",
   "execution_count": 100,
   "metadata": {},
   "outputs": [
    {
     "name": "stdout",
     "output_type": "stream",
     "text": [
      "Texts: ['good movie', 'bad acting', 'it was boring movie']\n",
      "--------------------------------------------------------\n",
      "     acting       bad  movie\n",
      "0  0.000000  0.000000    1.0\n",
      "1  0.707107  0.707107    0.0\n",
      "2  0.000000  0.000000    1.0\n"
     ]
    }
   ],
   "source": [
    "from sklearn.feature_extraction.text import TfidfVectorizer\n",
    "from sklearn.feature_extraction.text import CountVectorizer\n",
    "import pandas as pd\n",
    "texts = [\"good movie\", \"bad acting\", \"it was boring movie\"]\n",
    "vectorizer = TfidfVectorizer(max_features=3)    # TF-IDF \n",
    "#vectorizer = CountVectorizer(max_features=3)  # Word counts\n",
    "vectorizer.fit(texts)\n",
    "features = vectorizer.transform(texts)\n",
    "df = pd.DataFrame(features.toarray(), columns=vectorizer.get_feature_names())\n",
    "\n",
    "print(\"Texts:\", texts)\n",
    "print(\"--------------------------------------------------------\")\n",
    "print(df)"
   ]
  },
  {
   "cell_type": "markdown",
   "metadata": {},
   "source": [
    "Additional Capstone"
   ]
  },
  {
   "cell_type": "code",
   "execution_count": 102,
   "metadata": {},
   "outputs": [
    {
     "ename": "NameError",
     "evalue": "name 'Speeches' is not defined",
     "output_type": "error",
     "traceback": [
      "\u001b[1;31m---------------------------------------------------------------------------\u001b[0m",
      "\u001b[1;31mNameError\u001b[0m                                 Traceback (most recent call last)",
      "\u001b[1;32m<ipython-input-102-97abccf183bd>\u001b[0m in \u001b[0;36m<module>\u001b[1;34m\u001b[0m\n\u001b[0;32m      5\u001b[0m     \u001b[1;32mreturn\u001b[0m \u001b[0mresults\u001b[0m\u001b[1;33m\u001b[0m\u001b[1;33m\u001b[0m\u001b[0m\n\u001b[0;32m      6\u001b[0m \u001b[1;33m\u001b[0m\u001b[0m\n\u001b[1;32m----> 7\u001b[1;33m \u001b[0mSpeech_POS\u001b[0m \u001b[1;33m=\u001b[0m \u001b[0mSpeeches\u001b[0m\u001b[1;33m.\u001b[0m\u001b[0mastype\u001b[0m\u001b[1;33m(\u001b[0m\u001b[0mstr\u001b[0m\u001b[1;33m)\u001b[0m\u001b[1;33m.\u001b[0m\u001b[0mapply\u001b[0m\u001b[1;33m(\u001b[0m\u001b[1;32mlambda\u001b[0m \u001b[0mx\u001b[0m\u001b[1;33m:\u001b[0m \u001b[0mPOS_Tag\u001b[0m\u001b[1;33m(\u001b[0m\u001b[0mx\u001b[0m\u001b[1;33m)\u001b[0m\u001b[1;33m)\u001b[0m\u001b[1;33m\u001b[0m\u001b[1;33m\u001b[0m\u001b[0m\n\u001b[0m",
      "\u001b[1;31mNameError\u001b[0m: name 'Speeches' is not defined"
     ]
    }
   ],
   "source": [
    "from textblob import TextBlob\n",
    "def POS_Tag(input_str):\n",
    "    result = TextBlob(input_str)\n",
    "    results = print(result.tags)\n",
    "    return results\n",
    "\n",
    "Speech_POS = Speeches.astype(str).apply(lambda x: POS_Tag(x))"
   ]
  },
  {
   "cell_type": "code",
   "execution_count": 103,
   "metadata": {},
   "outputs": [
    {
     "ename": "NameError",
     "evalue": "name 'Speech3' is not defined",
     "output_type": "error",
     "traceback": [
      "\u001b[1;31m---------------------------------------------------------------------------\u001b[0m",
      "\u001b[1;31mNameError\u001b[0m                                 Traceback (most recent call last)",
      "\u001b[1;32m<ipython-input-103-ed0795865ba7>\u001b[0m in \u001b[0;36m<module>\u001b[1;34m\u001b[0m\n\u001b[0;32m      1\u001b[0m \u001b[1;31m# put each word and the count into a dictionary\u001b[0m\u001b[1;33m\u001b[0m\u001b[1;33m\u001b[0m\u001b[1;33m\u001b[0m\u001b[0m\n\u001b[0;32m      2\u001b[0m \u001b[0mfreqDist\u001b[0m\u001b[1;33m=\u001b[0m\u001b[1;33m{\u001b[0m\u001b[1;33m}\u001b[0m\u001b[1;33m\u001b[0m\u001b[1;33m\u001b[0m\u001b[0m\n\u001b[1;32m----> 3\u001b[1;33m \u001b[1;32mfor\u001b[0m \u001b[0mt\u001b[0m \u001b[1;32min\u001b[0m \u001b[0msorted\u001b[0m\u001b[1;33m(\u001b[0m\u001b[0mset\u001b[0m\u001b[1;33m(\u001b[0m\u001b[0mSpeech3\u001b[0m\u001b[1;33m)\u001b[0m\u001b[1;33m)\u001b[0m\u001b[1;33m:\u001b[0m\u001b[1;33m\u001b[0m\u001b[1;33m\u001b[0m\u001b[0m\n\u001b[0m\u001b[0;32m      4\u001b[0m     \u001b[0mfreqDist\u001b[0m\u001b[1;33m[\u001b[0m\u001b[0mt\u001b[0m\u001b[1;33m]\u001b[0m\u001b[1;33m=\u001b[0m\u001b[0mSpeech3\u001b[0m\u001b[1;33m.\u001b[0m\u001b[0mcount\u001b[0m\u001b[1;33m(\u001b[0m\u001b[0mt\u001b[0m\u001b[1;33m)\u001b[0m\u001b[1;33m\u001b[0m\u001b[1;33m\u001b[0m\u001b[0m\n\u001b[0;32m      5\u001b[0m \u001b[1;33m\u001b[0m\u001b[0m\n",
      "\u001b[1;31mNameError\u001b[0m: name 'Speech3' is not defined"
     ]
    }
   ],
   "source": [
    "# put each word and the count into a dictionary\n",
    "freqDist={}\n",
    "for t in sorted(set(Speech3)):\n",
    "    freqDist[t]=Speech3.count(t)\n",
    "    \n",
    "len(dict(list(freqDist.items())))\n",
    "(dict(list(freqDist.items())))"
   ]
  },
  {
   "cell_type": "code",
   "execution_count": 104,
   "metadata": {},
   "outputs": [
    {
     "ename": "NameError",
     "evalue": "name 'Speech3' is not defined",
     "output_type": "error",
     "traceback": [
      "\u001b[1;31m---------------------------------------------------------------------------\u001b[0m",
      "\u001b[1;31mNameError\u001b[0m                                 Traceback (most recent call last)",
      "\u001b[1;32m<ipython-input-104-d5987a99ed53>\u001b[0m in \u001b[0;36m<module>\u001b[1;34m\u001b[0m\n\u001b[0;32m     14\u001b[0m \u001b[1;33m\u001b[0m\u001b[0m\n\u001b[0;32m     15\u001b[0m \u001b[1;31m# to use the function\u001b[0m\u001b[1;33m\u001b[0m\u001b[1;33m\u001b[0m\u001b[1;33m\u001b[0m\u001b[0m\n\u001b[1;32m---> 16\u001b[1;33m \u001b[0mbags\u001b[0m\u001b[1;33m=\u001b[0m\u001b[0mbagOfWords\u001b[0m\u001b[1;33m(\u001b[0m\u001b[0mSpeech3\u001b[0m\u001b[1;33m)\u001b[0m\u001b[1;33m\u001b[0m\u001b[1;33m\u001b[0m\u001b[0m\n\u001b[0m\u001b[0;32m     17\u001b[0m \u001b[0mprint\u001b[0m\u001b[1;33m(\u001b[0m\u001b[1;33m{\u001b[0m\u001b[0mk\u001b[0m\u001b[1;33m:\u001b[0m \u001b[0mbags\u001b[0m\u001b[1;33m[\u001b[0m\u001b[0mk\u001b[0m\u001b[1;33m]\u001b[0m \u001b[1;32mfor\u001b[0m \u001b[0mk\u001b[0m \u001b[1;32min\u001b[0m \u001b[0mlist\u001b[0m\u001b[1;33m(\u001b[0m\u001b[0mbags\u001b[0m\u001b[1;33m.\u001b[0m\u001b[0mkeys\u001b[0m\u001b[1;33m(\u001b[0m\u001b[1;33m)\u001b[0m\u001b[1;33m)\u001b[0m\u001b[1;33m}\u001b[0m\u001b[1;33m,\u001b[0m\u001b[1;34m' of '\u001b[0m\u001b[1;33m,\u001b[0m \u001b[0mlen\u001b[0m\u001b[1;33m(\u001b[0m\u001b[0mbags\u001b[0m\u001b[1;33m)\u001b[0m\u001b[1;33m,\u001b[0m \u001b[1;34m' words'\u001b[0m\u001b[1;33m)\u001b[0m\u001b[1;33m\u001b[0m\u001b[1;33m\u001b[0m\u001b[0m\n",
      "\u001b[1;31mNameError\u001b[0m: name 'Speech3' is not defined"
     ]
    }
   ],
   "source": [
    "def bagOfWords(tokens):\n",
    "    '''\n",
    "    Given list of tokens, return a dictionary where \n",
    "         keys  = words in the text\n",
    "         value = count of the words in the text    \n",
    "    '''    \n",
    "    # put each word and the count into a dictionary\n",
    "    freqDist={}\n",
    "    for t in sorted(set(tokens)):\n",
    "        freqDist[t]=tokens.count(t)\n",
    "        \n",
    "    return freqDist\n",
    "\n",
    "\n",
    "# to use the function\n",
    "bags=bagOfWords(Speech3)\n",
    "print({k: bags[k] for k in list(bags.keys())},' of ', len(bags), ' words')"
   ]
  },
  {
   "cell_type": "markdown",
   "metadata": {},
   "source": [
    "#### The following function bagOfWord will return a dictionary of words in the text and the frequency on how often each the word has been utilized in the text."
   ]
  },
  {
   "cell_type": "code",
   "execution_count": 105,
   "metadata": {},
   "outputs": [
    {
     "ename": "NameError",
     "evalue": "name 'bags' is not defined",
     "output_type": "error",
     "traceback": [
      "\u001b[1;31m---------------------------------------------------------------------------\u001b[0m",
      "\u001b[1;31mNameError\u001b[0m                                 Traceback (most recent call last)",
      "\u001b[1;32m<ipython-input-105-84e9c69826fd>\u001b[0m in \u001b[0;36m<module>\u001b[1;34m\u001b[0m\n\u001b[0;32m      1\u001b[0m \u001b[1;31m#It would be interesting to see the most frequent words in the text.\u001b[0m\u001b[1;33m\u001b[0m\u001b[1;33m\u001b[0m\u001b[1;33m\u001b[0m\u001b[0m\n\u001b[1;32m----> 2\u001b[1;33m \u001b[0msortedBags\u001b[0m \u001b[1;33m=\u001b[0m \u001b[0msorted\u001b[0m\u001b[1;33m(\u001b[0m\u001b[0mbags\u001b[0m\u001b[1;33m.\u001b[0m\u001b[0mitems\u001b[0m\u001b[1;33m(\u001b[0m\u001b[1;33m)\u001b[0m\u001b[1;33m,\u001b[0m \u001b[0mkey\u001b[0m\u001b[1;33m=\u001b[0m\u001b[1;32mlambda\u001b[0m \u001b[0mx\u001b[0m\u001b[1;33m:\u001b[0m \u001b[0mx\u001b[0m\u001b[1;33m[\u001b[0m\u001b[1;36m1\u001b[0m\u001b[1;33m]\u001b[0m\u001b[1;33m,\u001b[0m \u001b[0mreverse\u001b[0m\u001b[1;33m=\u001b[0m\u001b[1;32mTrue\u001b[0m\u001b[1;33m)\u001b[0m\u001b[1;33m\u001b[0m\u001b[1;33m\u001b[0m\u001b[0m\n\u001b[0m\u001b[0;32m      3\u001b[0m \u001b[0msortedBags\u001b[0m\u001b[1;33m[\u001b[0m\u001b[1;33m:\u001b[0m\u001b[1;36m50\u001b[0m\u001b[1;33m]\u001b[0m\u001b[1;33m\u001b[0m\u001b[1;33m\u001b[0m\u001b[0m\n",
      "\u001b[1;31mNameError\u001b[0m: name 'bags' is not defined"
     ]
    }
   ],
   "source": [
    "#It would be interesting to see the most frequent words in the text.\n",
    "sortedBags = sorted(bags.items(), key=lambda x: x[1], reverse=True)\n",
    "sortedBags[:50]"
   ]
  },
  {
   "cell_type": "code",
   "execution_count": 106,
   "metadata": {},
   "outputs": [
    {
     "ename": "NameError",
     "evalue": "name 'bigram' is not defined",
     "output_type": "error",
     "traceback": [
      "\u001b[1;31m---------------------------------------------------------------------------\u001b[0m",
      "\u001b[1;31mNameError\u001b[0m                                 Traceback (most recent call last)",
      "\u001b[1;32m<ipython-input-106-780a18fda32b>\u001b[0m in \u001b[0;36m<module>\u001b[1;34m\u001b[0m\n\u001b[0;32m      1\u001b[0m \u001b[0mbigramCount\u001b[0m\u001b[1;33m=\u001b[0m\u001b[1;33m{\u001b[0m\u001b[1;33m}\u001b[0m\u001b[1;33m\u001b[0m\u001b[1;33m\u001b[0m\u001b[0m\n\u001b[1;32m----> 2\u001b[1;33m \u001b[1;32mfor\u001b[0m \u001b[0mt\u001b[0m \u001b[1;32min\u001b[0m \u001b[0msorted\u001b[0m\u001b[1;33m(\u001b[0m\u001b[0mset\u001b[0m\u001b[1;33m(\u001b[0m\u001b[0mbigram\u001b[0m\u001b[1;33m)\u001b[0m\u001b[1;33m)\u001b[0m\u001b[1;33m:\u001b[0m\u001b[1;33m\u001b[0m\u001b[1;33m\u001b[0m\u001b[0m\n\u001b[0m\u001b[0;32m      3\u001b[0m     \u001b[0mbigramCount\u001b[0m\u001b[1;33m[\u001b[0m\u001b[0mt\u001b[0m\u001b[1;33m]\u001b[0m\u001b[1;33m=\u001b[0m\u001b[0mbigram\u001b[0m\u001b[1;33m.\u001b[0m\u001b[0mcount\u001b[0m\u001b[1;33m(\u001b[0m\u001b[0mt\u001b[0m\u001b[1;33m)\u001b[0m\u001b[1;33m\u001b[0m\u001b[1;33m\u001b[0m\u001b[0m\n\u001b[0;32m      4\u001b[0m \u001b[0msortedBigram\u001b[0m \u001b[1;33m=\u001b[0m \u001b[0msorted\u001b[0m\u001b[1;33m(\u001b[0m\u001b[0mbigramCount\u001b[0m\u001b[1;33m.\u001b[0m\u001b[0mitems\u001b[0m\u001b[1;33m(\u001b[0m\u001b[1;33m)\u001b[0m\u001b[1;33m,\u001b[0m \u001b[0mkey\u001b[0m\u001b[1;33m=\u001b[0m\u001b[1;32mlambda\u001b[0m \u001b[0mx\u001b[0m\u001b[1;33m:\u001b[0m \u001b[0mx\u001b[0m\u001b[1;33m[\u001b[0m\u001b[1;36m1\u001b[0m\u001b[1;33m]\u001b[0m\u001b[1;33m,\u001b[0m \u001b[0mreverse\u001b[0m\u001b[1;33m=\u001b[0m\u001b[1;32mTrue\u001b[0m\u001b[1;33m)\u001b[0m\u001b[1;33m\u001b[0m\u001b[1;33m\u001b[0m\u001b[0m\n\u001b[0;32m      5\u001b[0m \u001b[0msortedBigram\u001b[0m\u001b[1;33m[\u001b[0m\u001b[1;33m:\u001b[0m\u001b[1;36m10\u001b[0m\u001b[1;33m]\u001b[0m\u001b[1;33m\u001b[0m\u001b[1;33m\u001b[0m\u001b[0m\n",
      "\u001b[1;31mNameError\u001b[0m: name 'bigram' is not defined"
     ]
    }
   ],
   "source": [
    "bigramCount={}\n",
    "for t in sorted(set(bigram)):\n",
    "    bigramCount[t]=bigram.count(t)\n",
    "sortedBigram = sorted(bigramCount.items(), key=lambda x: x[1], reverse=True)\n",
    "sortedBigram[:10]"
   ]
  },
  {
   "cell_type": "markdown",
   "metadata": {},
   "source": [
    "# CountVectorizer With Custom StopWords"
   ]
  },
  {
   "cell_type": "code",
   "execution_count": 109,
   "metadata": {},
   "outputs": [
    {
     "data": {
      "text/plain": [
       "(5, 40)"
      ]
     },
     "execution_count": 109,
     "metadata": {},
     "output_type": "execute_result"
    }
   ],
   "source": [
    "cat_in_the_hat_docs=[\n",
    "      \"One Cent, Two Cents, Old Cent, New Cent: All About Money (Cat in the Hat's Learning Library\",\n",
    "      \"Inside Your Outside: All About the Human Body (Cat in the Hat's Learning Library)\",\n",
    "      \"Oh, The Things You Can Do That Are Good for You: All About Staying Healthy (Cat in the Hat's Learning Library)\",\n",
    "      \"On Beyond Bugs: All About Insects (Cat in the Hat's Learning Library)\",\n",
    "      \"There's No Place Like Space: All About Our Solar System (Cat in the Hat's Learning Library)\" \n",
    "     ]\n",
    "cv = CountVectorizer(cat_in_the_hat_docs,stop_words=[\"all\",\"in\",\"the\",\"is\",\"and\"])\n",
    "count_vector=cv.fit_transform(cat_in_the_hat_docs)\n",
    "count_vector.shape\n"
   ]
  },
  {
   "cell_type": "code",
   "execution_count": 110,
   "metadata": {},
   "outputs": [
    {
     "data": {
      "text/plain": [
       "['all', 'in', 'the', 'is', 'and']"
      ]
     },
     "execution_count": 110,
     "metadata": {},
     "output_type": "execute_result"
    }
   ],
   "source": [
    "#any stop words that we explicitly specified?\n",
    "cv.stop_words\n"
   ]
  },
  {
   "cell_type": "code",
   "execution_count": 111,
   "metadata": {},
   "outputs": [
    {
     "data": {
      "text/plain": [
       "set()"
      ]
     },
     "execution_count": 111,
     "metadata": {},
     "output_type": "execute_result"
    }
   ],
   "source": [
    "\n",
    "#any stop words internally stopped by countvectorizer?\n",
    "cv.stop_words_"
   ]
  },
  {
   "cell_type": "markdown",
   "metadata": {},
   "source": [
    "# CountVectorizer With Predefined StopWords"
   ]
  },
  {
   "cell_type": "code",
   "execution_count": 112,
   "metadata": {},
   "outputs": [],
   "source": [
    "cv = CountVectorizer(cat_in_the_hat_docs,stop_words=\"english\")\n",
    "count_vector=cv.fit_transform(cat_in_the_hat_docs)\n"
   ]
  },
  {
   "cell_type": "code",
   "execution_count": 113,
   "metadata": {},
   "outputs": [
    {
     "data": {
      "text/plain": [
       "(5, 24)"
      ]
     },
     "execution_count": 113,
     "metadata": {},
     "output_type": "execute_result"
    }
   ],
   "source": [
    "# the shape should be smaller\n",
    "count_vector.shape\n"
   ]
  },
  {
   "cell_type": "code",
   "execution_count": 114,
   "metadata": {},
   "outputs": [
    {
     "data": {
      "text/plain": [
       "'english'"
      ]
     },
     "execution_count": 114,
     "metadata": {},
     "output_type": "execute_result"
    }
   ],
   "source": [
    "#any stop words that we explicitly specified?\n",
    "cv.stop_words\n"
   ]
  },
  {
   "cell_type": "code",
   "execution_count": 115,
   "metadata": {},
   "outputs": [
    {
     "data": {
      "text/plain": [
       "set()"
      ]
     },
     "execution_count": 115,
     "metadata": {},
     "output_type": "execute_result"
    }
   ],
   "source": [
    "\n",
    "#any stop words internally stopped by countvectorizer?\n",
    "cv.stop_words_"
   ]
  },
  {
   "cell_type": "code",
   "execution_count": 116,
   "metadata": {},
   "outputs": [
    {
     "data": {
      "text/plain": [
       "{'cent': 3,\n",
       " 'cents': 4,\n",
       " 'old': 17,\n",
       " 'new': 15,\n",
       " 'money': 14,\n",
       " 'cat': 2,\n",
       " 'hat': 6,\n",
       " 'learning': 11,\n",
       " 'library': 12,\n",
       " 'inside': 10,\n",
       " 'outside': 18,\n",
       " 'human': 8,\n",
       " 'body': 0,\n",
       " 'oh': 16,\n",
       " 'things': 23,\n",
       " 'good': 5,\n",
       " 'staying': 22,\n",
       " 'healthy': 7,\n",
       " 'bugs': 1,\n",
       " 'insects': 9,\n",
       " 'place': 19,\n",
       " 'like': 13,\n",
       " 'space': 21,\n",
       " 'solar': 20}"
      ]
     },
     "execution_count": 116,
     "metadata": {},
     "output_type": "execute_result"
    }
   ],
   "source": [
    "# much smaller vocabulary with stopwords applied\n",
    "cv.vocabulary_"
   ]
  },
  {
   "cell_type": "code",
   "execution_count": 117,
   "metadata": {},
   "outputs": [],
   "source": [
    "# ignore terms that appeared in less than n documents (can be proportion or absolute counts)\n",
    "cv = CountVectorizer(cat_in_the_hat_docs,min_df=2)\n",
    "count_vector=cv.fit_transform(cat_in_the_hat_docs)"
   ]
  },
  {
   "cell_type": "code",
   "execution_count": 118,
   "metadata": {},
   "outputs": [
    {
     "data": {
      "text/plain": [
       "{'are',\n",
       " 'beyond',\n",
       " 'body',\n",
       " 'bugs',\n",
       " 'can',\n",
       " 'cent',\n",
       " 'cents',\n",
       " 'do',\n",
       " 'for',\n",
       " 'good',\n",
       " 'healthy',\n",
       " 'human',\n",
       " 'insects',\n",
       " 'inside',\n",
       " 'like',\n",
       " 'money',\n",
       " 'new',\n",
       " 'no',\n",
       " 'oh',\n",
       " 'old',\n",
       " 'on',\n",
       " 'one',\n",
       " 'our',\n",
       " 'outside',\n",
       " 'place',\n",
       " 'solar',\n",
       " 'space',\n",
       " 'staying',\n",
       " 'system',\n",
       " 'that',\n",
       " 'there',\n",
       " 'things',\n",
       " 'two',\n",
       " 'you',\n",
       " 'your'}"
      ]
     },
     "execution_count": 118,
     "metadata": {},
     "output_type": "execute_result"
    }
   ],
   "source": [
    "#any stop words internally stopped by countvectorizer?\n",
    "cv.stop_words_"
   ]
  },
  {
   "cell_type": "code",
   "execution_count": 119,
   "metadata": {},
   "outputs": [
    {
     "data": {
      "text/plain": [
       "(5, 8)"
      ]
     },
     "execution_count": 119,
     "metadata": {},
     "output_type": "execute_result"
    }
   ],
   "source": [
    "count_vector.shape"
   ]
  },
  {
   "cell_type": "code",
   "execution_count": 120,
   "metadata": {},
   "outputs": [],
   "source": [
    "# use proportion here. Ignore terms that occurred in less than 25% of the documents\n",
    "cv = CountVectorizer(cat_in_the_hat_docs,min_df=0.25)\n",
    "count_vector=cv.fit_transform(cat_in_the_hat_docs)"
   ]
  },
  {
   "cell_type": "code",
   "execution_count": 121,
   "metadata": {},
   "outputs": [
    {
     "data": {
      "text/plain": [
       "(5, 8)"
      ]
     },
     "execution_count": 121,
     "metadata": {},
     "output_type": "execute_result"
    }
   ],
   "source": [
    "count_vector.shape\n"
   ]
  },
  {
   "cell_type": "code",
   "execution_count": 122,
   "metadata": {},
   "outputs": [
    {
     "data": {
      "text/plain": [
       "{'all': 1,\n",
       " 'about': 0,\n",
       " 'cat': 2,\n",
       " 'in': 4,\n",
       " 'the': 7,\n",
       " 'hat': 3,\n",
       " 'learning': 5,\n",
       " 'library': 6}"
      ]
     },
     "execution_count": 122,
     "metadata": {},
     "output_type": "execute_result"
    }
   ],
   "source": [
    "cv.vocabulary_\n"
   ]
  },
  {
   "cell_type": "code",
   "execution_count": 123,
   "metadata": {},
   "outputs": [
    {
     "data": {
      "text/plain": [
       "{'are',\n",
       " 'beyond',\n",
       " 'body',\n",
       " 'bugs',\n",
       " 'can',\n",
       " 'cent',\n",
       " 'cents',\n",
       " 'do',\n",
       " 'for',\n",
       " 'good',\n",
       " 'healthy',\n",
       " 'human',\n",
       " 'insects',\n",
       " 'inside',\n",
       " 'like',\n",
       " 'money',\n",
       " 'new',\n",
       " 'no',\n",
       " 'oh',\n",
       " 'old',\n",
       " 'on',\n",
       " 'one',\n",
       " 'our',\n",
       " 'outside',\n",
       " 'place',\n",
       " 'solar',\n",
       " 'space',\n",
       " 'staying',\n",
       " 'system',\n",
       " 'that',\n",
       " 'there',\n",
       " 'things',\n",
       " 'two',\n",
       " 'you',\n",
       " 'your'}"
      ]
     },
     "execution_count": 123,
     "metadata": {},
     "output_type": "execute_result"
    }
   ],
   "source": [
    "\n",
    "#any stop words internally stopped by countvectorizer?\n",
    "cv.stop_words_"
   ]
  },
  {
   "cell_type": "code",
   "execution_count": 124,
   "metadata": {},
   "outputs": [],
   "source": [
    "# CountVectorizer with MAX_DF as StopWords"
   ]
  },
  {
   "cell_type": "code",
   "execution_count": 125,
   "metadata": {},
   "outputs": [],
   "source": [
    "# ignore terms that appeared in more than n documents (can be proportion or absolute counts)\n",
    "# use proportion here\n",
    "cv = CountVectorizer(cat_in_the_hat_docs,max_df=0.50)\n",
    "count_vector=cv.fit_transform(cat_in_the_hat_docs)"
   ]
  },
  {
   "cell_type": "code",
   "execution_count": 126,
   "metadata": {},
   "outputs": [
    {
     "data": {
      "text/plain": [
       "{'one': 21,\n",
       " 'cent': 5,\n",
       " 'two': 32,\n",
       " 'cents': 6,\n",
       " 'old': 19,\n",
       " 'new': 16,\n",
       " 'money': 15,\n",
       " 'inside': 13,\n",
       " 'your': 34,\n",
       " 'outside': 23,\n",
       " 'human': 11,\n",
       " 'body': 2,\n",
       " 'oh': 18,\n",
       " 'things': 31,\n",
       " 'you': 33,\n",
       " 'can': 4,\n",
       " 'do': 7,\n",
       " 'that': 29,\n",
       " 'are': 0,\n",
       " 'good': 9,\n",
       " 'for': 8,\n",
       " 'staying': 27,\n",
       " 'healthy': 10,\n",
       " 'on': 20,\n",
       " 'beyond': 1,\n",
       " 'bugs': 3,\n",
       " 'insects': 12,\n",
       " 'there': 30,\n",
       " 'no': 17,\n",
       " 'place': 24,\n",
       " 'like': 14,\n",
       " 'space': 26,\n",
       " 'our': 22,\n",
       " 'solar': 25,\n",
       " 'system': 28}"
      ]
     },
     "execution_count": 126,
     "metadata": {},
     "output_type": "execute_result"
    }
   ],
   "source": [
    "cv.vocabulary_\n"
   ]
  },
  {
   "cell_type": "code",
   "execution_count": 127,
   "metadata": {},
   "outputs": [
    {
     "data": {
      "text/plain": [
       "{'about', 'all', 'cat', 'hat', 'in', 'learning', 'library', 'the'}"
      ]
     },
     "execution_count": 127,
     "metadata": {},
     "output_type": "execute_result"
    }
   ],
   "source": [
    "cv.stop_words_\n"
   ]
  },
  {
   "cell_type": "code",
   "execution_count": 128,
   "metadata": {},
   "outputs": [],
   "source": [
    "# ignore terms that appeared in more than n documents (can be proportion or absolute counts)\n",
    "# use absolute values here - suitable when you know number of documents ahead of time and are dealing with only a handful\n",
    "cv = CountVectorizer(cat_in_the_hat_docs,max_df=4)\n",
    "count_vector=cv.fit_transform(cat_in_the_hat_docs)"
   ]
  },
  {
   "cell_type": "code",
   "execution_count": 129,
   "metadata": {},
   "outputs": [
    {
     "data": {
      "text/plain": [
       "{'about', 'all', 'cat', 'hat', 'in', 'learning', 'library', 'the'}"
      ]
     },
     "execution_count": 129,
     "metadata": {},
     "output_type": "execute_result"
    }
   ],
   "source": [
    "cv.stop_words_\n"
   ]
  },
  {
   "cell_type": "code",
   "execution_count": 136,
   "metadata": {},
   "outputs": [
    {
     "ename": "FileNotFoundError",
     "evalue": "[Errno 2] No such file or directory: 'PrideandPrejudice.txt'",
     "output_type": "error",
     "traceback": [
      "\u001b[1;31m---------------------------------------------------------------------------\u001b[0m",
      "\u001b[1;31mFileNotFoundError\u001b[0m                         Traceback (most recent call last)",
      "\u001b[1;32m<ipython-input-136-c940f4024aeb>\u001b[0m in \u001b[0;36m<module>\u001b[1;34m\u001b[0m\n\u001b[0;32m      5\u001b[0m \u001b[1;31m# Read input file, note the encoding is specified here\u001b[0m\u001b[1;33m\u001b[0m\u001b[1;33m\u001b[0m\u001b[1;33m\u001b[0m\u001b[0m\n\u001b[0;32m      6\u001b[0m \u001b[1;31m# It may be different in your text file\u001b[0m\u001b[1;33m\u001b[0m\u001b[1;33m\u001b[0m\u001b[1;33m\u001b[0m\u001b[0m\n\u001b[1;32m----> 7\u001b[1;33m \u001b[0mfile\u001b[0m \u001b[1;33m=\u001b[0m \u001b[0mopen\u001b[0m\u001b[1;33m(\u001b[0m\u001b[1;34m'PrideandPrejudice.txt'\u001b[0m\u001b[1;33m,\u001b[0m \u001b[0mencoding\u001b[0m\u001b[1;33m=\u001b[0m\u001b[1;34m\"utf8\"\u001b[0m\u001b[1;33m)\u001b[0m\u001b[1;33m\u001b[0m\u001b[1;33m\u001b[0m\u001b[0m\n\u001b[0m\u001b[0;32m      8\u001b[0m \u001b[0ma\u001b[0m\u001b[1;33m=\u001b[0m \u001b[0mfile\u001b[0m\u001b[1;33m.\u001b[0m\u001b[0mread\u001b[0m\u001b[1;33m(\u001b[0m\u001b[1;33m)\u001b[0m\u001b[1;33m\u001b[0m\u001b[1;33m\u001b[0m\u001b[0m\n\u001b[0;32m      9\u001b[0m \u001b[1;31m# Stopwords\u001b[0m\u001b[1;33m\u001b[0m\u001b[1;33m\u001b[0m\u001b[1;33m\u001b[0m\u001b[0m\n",
      "\u001b[1;31mFileNotFoundError\u001b[0m: [Errno 2] No such file or directory: 'PrideandPrejudice.txt'"
     ]
    }
   ],
   "source": [
    "import collections\n",
    "import pandas as pd\n",
    "import matplotlib.pyplot as plt\n",
    "%matplotlib inline\n",
    "# Read input file, note the encoding is specified here \n",
    "# It may be different in your text file\n",
    "file = open('PrideandPrejudice.txt', encoding=\"utf8\")\n",
    "a= file.read()\n",
    "# Stopwords\n",
    "stopwords = set(line.strip() for line in open('stopwords.txt'))\n",
    "stopwords = stopwords.union(set(['mr','mrs','one','two','said']))\n",
    "# Instantiate a dictionary, and for every word in the file, \n",
    "# Add to the dictionary if it doesn't exist. If it does, increase the count.\n",
    "wordcount = {}\n",
    "# To eliminate duplicates, remember to split by punctuation, and use case demiliters.\n",
    "for word in a.lower().split():\n",
    "    word = word.replace(\".\",\"\")\n",
    "    word = word.replace(\",\",\"\")\n",
    "    word = word.replace(\":\",\"\")\n",
    "    word = word.replace(\"\\\"\",\"\")\n",
    "    word = word.replace(\"!\",\"\")\n",
    "    word = word.replace(\"â€œ\",\"\")\n",
    "    word = word.replace(\"â€˜\",\"\")\n",
    "    word = word.replace(\"*\",\"\")\n",
    "    if word not in stopwords:\n",
    "        if word not in wordcount:\n",
    "            wordcount[word] = 1\n",
    "        else:\n",
    "            wordcount[word] += 1\n",
    "# Print most common word\n",
    "n_print = int(input(\"How many most common words to print: \"))\n",
    "print(\"\\nOK. The {} most common words are as follows\\n\".format(n_print))\n",
    "word_counter = collections.Counter(wordcount)\n",
    "for word, count in word_counter.most_common(n_print):\n",
    "    print(word, \": \", count)\n",
    "# Close the file\n",
    "file.close()\n",
    "# Create a data frame of the most common words \n",
    "# Draw a bar chart\n",
    "lst = word_counter.most_common(n_print)\n",
    "df = pd.DataFrame(lst, columns = ['Word', 'Count'])\n",
    "df.plot.bar(x='Word',y='Count')"
   ]
  },
  {
   "cell_type": "code",
   "execution_count": 145,
   "metadata": {},
   "outputs": [
    {
     "data": {
      "text/plain": [
       "'hello '"
      ]
     },
     "execution_count": 145,
     "metadata": {},
     "output_type": "execute_result"
    }
   ],
   "source": [
    "h = 'hello 1234' \n",
    "p = re.sub('\\d+','', h)\n",
    "p"
   ]
  },
  {
   "cell_type": "code",
   "execution_count": 1,
   "metadata": {},
   "outputs": [],
   "source": [
    "import numpy as np\n",
    "import pandas as pd\n",
    "import matplotlib.pyplot as plt\n",
    "import seaborn as sns"
   ]
  },
  {
   "cell_type": "code",
   "execution_count": 2,
   "metadata": {},
   "outputs": [
    {
     "data": {
      "text/html": [
       "<div>\n",
       "<style scoped>\n",
       "    .dataframe tbody tr th:only-of-type {\n",
       "        vertical-align: middle;\n",
       "    }\n",
       "\n",
       "    .dataframe tbody tr th {\n",
       "        vertical-align: top;\n",
       "    }\n",
       "\n",
       "    .dataframe thead th {\n",
       "        text-align: right;\n",
       "    }\n",
       "</style>\n",
       "<table border=\"1\" class=\"dataframe\">\n",
       "  <thead>\n",
       "    <tr style=\"text-align: right;\">\n",
       "      <th></th>\n",
       "      <th>total_bill</th>\n",
       "      <th>tip</th>\n",
       "      <th>sex</th>\n",
       "      <th>smoker</th>\n",
       "      <th>day</th>\n",
       "      <th>time</th>\n",
       "      <th>size</th>\n",
       "    </tr>\n",
       "  </thead>\n",
       "  <tbody>\n",
       "    <tr>\n",
       "      <td>0</td>\n",
       "      <td>16.99</td>\n",
       "      <td>1.01</td>\n",
       "      <td>Female</td>\n",
       "      <td>No</td>\n",
       "      <td>Sun</td>\n",
       "      <td>Dinner</td>\n",
       "      <td>2</td>\n",
       "    </tr>\n",
       "    <tr>\n",
       "      <td>1</td>\n",
       "      <td>10.34</td>\n",
       "      <td>1.66</td>\n",
       "      <td>Male</td>\n",
       "      <td>No</td>\n",
       "      <td>Sun</td>\n",
       "      <td>Dinner</td>\n",
       "      <td>3</td>\n",
       "    </tr>\n",
       "    <tr>\n",
       "      <td>2</td>\n",
       "      <td>21.01</td>\n",
       "      <td>3.50</td>\n",
       "      <td>Male</td>\n",
       "      <td>No</td>\n",
       "      <td>Sun</td>\n",
       "      <td>Dinner</td>\n",
       "      <td>3</td>\n",
       "    </tr>\n",
       "    <tr>\n",
       "      <td>3</td>\n",
       "      <td>23.68</td>\n",
       "      <td>3.31</td>\n",
       "      <td>Male</td>\n",
       "      <td>No</td>\n",
       "      <td>Sun</td>\n",
       "      <td>Dinner</td>\n",
       "      <td>2</td>\n",
       "    </tr>\n",
       "    <tr>\n",
       "      <td>4</td>\n",
       "      <td>24.59</td>\n",
       "      <td>3.61</td>\n",
       "      <td>Female</td>\n",
       "      <td>No</td>\n",
       "      <td>Sun</td>\n",
       "      <td>Dinner</td>\n",
       "      <td>4</td>\n",
       "    </tr>\n",
       "  </tbody>\n",
       "</table>\n",
       "</div>"
      ],
      "text/plain": [
       "   total_bill   tip     sex smoker  day    time  size\n",
       "0       16.99  1.01  Female     No  Sun  Dinner     2\n",
       "1       10.34  1.66    Male     No  Sun  Dinner     3\n",
       "2       21.01  3.50    Male     No  Sun  Dinner     3\n",
       "3       23.68  3.31    Male     No  Sun  Dinner     2\n",
       "4       24.59  3.61  Female     No  Sun  Dinner     4"
      ]
     },
     "execution_count": 2,
     "metadata": {},
     "output_type": "execute_result"
    }
   ],
   "source": [
    "tips = sns.load_dataset(\"tips\")\n",
    "tips.head()\n"
   ]
  },
  {
   "cell_type": "code",
   "execution_count": 3,
   "metadata": {},
   "outputs": [
    {
     "data": {
      "text/html": [
       "<div>\n",
       "<style scoped>\n",
       "    .dataframe tbody tr th:only-of-type {\n",
       "        vertical-align: middle;\n",
       "    }\n",
       "\n",
       "    .dataframe tbody tr th {\n",
       "        vertical-align: top;\n",
       "    }\n",
       "\n",
       "    .dataframe thead th {\n",
       "        text-align: right;\n",
       "    }\n",
       "</style>\n",
       "<table border=\"1\" class=\"dataframe\">\n",
       "  <thead>\n",
       "    <tr style=\"text-align: right;\">\n",
       "      <th></th>\n",
       "      <th>total_bill</th>\n",
       "      <th>tip</th>\n",
       "      <th>size</th>\n",
       "    </tr>\n",
       "  </thead>\n",
       "  <tbody>\n",
       "    <tr>\n",
       "      <td>count</td>\n",
       "      <td>244.000000</td>\n",
       "      <td>244.000000</td>\n",
       "      <td>244.000000</td>\n",
       "    </tr>\n",
       "    <tr>\n",
       "      <td>mean</td>\n",
       "      <td>19.785943</td>\n",
       "      <td>2.998279</td>\n",
       "      <td>2.569672</td>\n",
       "    </tr>\n",
       "    <tr>\n",
       "      <td>std</td>\n",
       "      <td>8.902412</td>\n",
       "      <td>1.383638</td>\n",
       "      <td>0.951100</td>\n",
       "    </tr>\n",
       "    <tr>\n",
       "      <td>min</td>\n",
       "      <td>3.070000</td>\n",
       "      <td>1.000000</td>\n",
       "      <td>1.000000</td>\n",
       "    </tr>\n",
       "    <tr>\n",
       "      <td>25%</td>\n",
       "      <td>13.347500</td>\n",
       "      <td>2.000000</td>\n",
       "      <td>2.000000</td>\n",
       "    </tr>\n",
       "    <tr>\n",
       "      <td>50%</td>\n",
       "      <td>17.795000</td>\n",
       "      <td>2.900000</td>\n",
       "      <td>2.000000</td>\n",
       "    </tr>\n",
       "    <tr>\n",
       "      <td>75%</td>\n",
       "      <td>24.127500</td>\n",
       "      <td>3.562500</td>\n",
       "      <td>3.000000</td>\n",
       "    </tr>\n",
       "    <tr>\n",
       "      <td>max</td>\n",
       "      <td>50.810000</td>\n",
       "      <td>10.000000</td>\n",
       "      <td>6.000000</td>\n",
       "    </tr>\n",
       "  </tbody>\n",
       "</table>\n",
       "</div>"
      ],
      "text/plain": [
       "       total_bill         tip        size\n",
       "count  244.000000  244.000000  244.000000\n",
       "mean    19.785943    2.998279    2.569672\n",
       "std      8.902412    1.383638    0.951100\n",
       "min      3.070000    1.000000    1.000000\n",
       "25%     13.347500    2.000000    2.000000\n",
       "50%     17.795000    2.900000    2.000000\n",
       "75%     24.127500    3.562500    3.000000\n",
       "max     50.810000   10.000000    6.000000"
      ]
     },
     "execution_count": 3,
     "metadata": {},
     "output_type": "execute_result"
    }
   ],
   "source": [
    "tips.describe()\n"
   ]
  },
  {
   "cell_type": "markdown",
   "metadata": {},
   "source": [
    "# Univariate plots\n",
    "These plots are based on a single variable and show the frequency of uniques values of a given variable."
   ]
  },
  {
   "cell_type": "code",
   "execution_count": 4,
   "metadata": {},
   "outputs": [
    {
     "data": {
      "image/png": "[encoded data removed]",
      "text/plain": [
       "<Figure size 432x288 with 1 Axes>"
      ]
     },
     "metadata": {
      "needs_background": "light"
     },
     "output_type": "display_data"
    }
   ],
   "source": [
    "sns.distplot(tips['tip'], kde=False, bins=10);"
   ]
  },
  {
   "cell_type": "code",
   "execution_count": 8,
   "metadata": {},
   "outputs": [
    {
     "data": {
      "image/png": "[encoded data removed]",
      "text/plain": [
       "<Figure size 432x288 with 1 Axes>"
      ]
     },
     "metadata": {
      "needs_background": "light"
     },
     "output_type": "display_data"
    }
   ],
   "source": [
    "sns.distplot(tips['tip'],hist=False, bins=10); #Kerner Density Estimate (KDE) \n",
    "#estimate the probability density function of a continuous random variable. \n",
    "#It is used when you need to know the distribution of the variable."
   ]
  },
  {
   "cell_type": "markdown",
   "metadata": {},
   "source": [
    "# Bivariate Plots\n"
   ]
  },
  {
   "cell_type": "code",
   "execution_count": 9,
   "metadata": {},
   "outputs": [
    {
     "data": {
      "image/png": "[encoded data removed]",
      "text/plain": [
       "<Figure size 360x360 with 1 Axes>"
      ]
     },
     "metadata": {
      "needs_background": "light"
     },
     "output_type": "display_data"
    }
   ],
   "source": [
    "sns.relplot(x=\"total_bill\", y=\"tip\", data=tips);"
   ]
  },
  {
   "cell_type": "code",
   "execution_count": 10,
   "metadata": {},
   "outputs": [
    {
     "data": {
      "image/png": "[encoded data removed]",
      "text/plain": [
       "<Figure size 432.875x360 with 1 Axes>"
      ]
     },
     "metadata": {
      "needs_background": "light"
     },
     "output_type": "display_data"
    }
   ],
   "source": [
    "sns.relplot(x=\"total_bill\", y=\"tip\", hue=\"smoker\", data=tips);"
   ]
  },
  {
   "cell_type": "code",
   "execution_count": 11,
   "metadata": {},
   "outputs": [
    {
     "data": {
      "text/plain": [
       "<seaborn.axisgrid.FacetGrid at 0x224f091e588>"
      ]
     },
     "execution_count": 11,
     "metadata": {},
     "output_type": "execute_result"
    },
    {
     "data": {
      "image/png": "[encoded data removed]",
      "text/plain": [
       "<Figure size 360x360 with 1 Axes>"
      ]
     },
     "metadata": {
      "needs_background": "light"
     },
     "output_type": "display_data"
    }
   ],
   "source": [
    "sns.relplot(x=\"total_bill\", y=\"tip\", kind=\"line\", data=tips)"
   ]
  },
  {
   "cell_type": "code",
   "execution_count": 12,
   "metadata": {},
   "outputs": [
    {
     "data": {
      "text/plain": [
       "<seaborn.axisgrid.FacetGrid at 0x224f096b948>"
      ]
     },
     "execution_count": 12,
     "metadata": {},
     "output_type": "execute_result"
    },
    {
     "data": {
      "image/png": "[encoded data removed]",
      "text/plain": [
       "<Figure size 360x360 with 1 Axes>"
      ]
     },
     "metadata": {
      "needs_background": "light"
     },
     "output_type": "display_data"
    }
   ],
   "source": [
    "sns.relplot(x=\"total_bill\", y=\"tip\", sort=False, kind=\"line\", data=tips)\n"
   ]
  },
  {
   "cell_type": "markdown",
   "metadata": {},
   "source": [
    "# Categorical data types\n"
   ]
  },
  {
   "cell_type": "code",
   "execution_count": 13,
   "metadata": {},
   "outputs": [
    {
     "data": {
      "image/png": "[encoded data removed]",
      "text/plain": [
       "<Figure size 360x360 with 1 Axes>"
      ]
     },
     "metadata": {
      "needs_background": "light"
     },
     "output_type": "display_data"
    }
   ],
   "source": [
    "#Scatterplot\n",
    "sns.catplot(x=\"sex\", y=\"tip\", data=tips);"
   ]
  },
  {
   "cell_type": "code",
   "execution_count": 14,
   "metadata": {},
   "outputs": [
    {
     "data": {
      "image/png": "[encoded data removed]",
      "text/plain": [
       "<Figure size 432.625x360 with 1 Axes>"
      ]
     },
     "metadata": {
      "needs_background": "light"
     },
     "output_type": "display_data"
    }
   ],
   "source": [
    "sns.catplot(x=\"day\", y=\"total_bill\", hue=\"sex\", kind=\"swarm\", data=tips);\n"
   ]
  },
  {
   "cell_type": "code",
   "execution_count": 15,
   "metadata": {},
   "outputs": [
    {
     "data": {
      "image/png": "[encoded data removed]",
      "text/plain": [
       "<Figure size 360x360 with 1 Axes>"
      ]
     },
     "metadata": {
      "needs_background": "light"
     },
     "output_type": "display_data"
    }
   ],
   "source": [
    "sns.catplot(x=\"smoker\", y=\"tip\", order=[\"No\", \"Yes\"], data=tips);\n"
   ]
  },
  {
   "cell_type": "code",
   "execution_count": 16,
   "metadata": {},
   "outputs": [
    {
     "data": {
      "image/png": "[encoded data removed]",
      "text/plain": [
       "<Figure size 360x360 with 1 Axes>"
      ]
     },
     "metadata": {
      "needs_background": "light"
     },
     "output_type": "display_data"
    }
   ],
   "source": [
    "sns.catplot(x=\"day\", y=\"total_bill\", kind=\"box\", data=tips);\n"
   ]
  },
  {
   "cell_type": "code",
   "execution_count": 17,
   "metadata": {},
   "outputs": [
    {
     "data": {
      "image/png": "[encoded data removed]",
      "text/plain": [
       "<Figure size 432.625x360 with 1 Axes>"
      ]
     },
     "metadata": {
      "needs_background": "light"
     },
     "output_type": "display_data"
    }
   ],
   "source": [
    "sns.catplot(x=\"day\", y=\"total_bill\", hue=\"sex\", kind=\"box\", data=tips);\n"
   ]
  },
  {
   "cell_type": "code",
   "execution_count": 18,
   "metadata": {},
   "outputs": [
    {
     "data": {
      "image/png": "[encoded data removed]",
      "text/plain": [
       "<Figure size 432.625x360 with 1 Axes>"
      ]
     },
     "metadata": {
      "needs_background": "light"
     },
     "output_type": "display_data"
    }
   ],
   "source": [
    "sns.catplot(x=\"day\", y=\"total_bill\", hue=\"sex\",\n",
    "            kind=\"violin\", data=tips);\n"
   ]
  },
  {
   "cell_type": "code",
   "execution_count": 19,
   "metadata": {},
   "outputs": [
    {
     "data": {
      "image/png": "[encoded data removed]",
      "text/plain": [
       "<Figure size 432.625x360 with 1 Axes>"
      ]
     },
     "metadata": {
      "needs_background": "light"
     },
     "output_type": "display_data"
    }
   ],
   "source": [
    "sns.catplot(x=\"day\", y=\"total_bill\", hue=\"sex\", kind=\"point\", data=tips);\n"
   ]
  },
  {
   "cell_type": "code",
   "execution_count": 24,
   "metadata": {},
   "outputs": [
    {
     "data": {
      "text/plain": [
       "['.ipynb_checkpoints',\n",
       " 'Capstone NLP',\n",
       " 'Data class imbalance (Up-Down Sampling).ipynb',\n",
       " 'Data Science',\n",
       " 'Date Extraction.ipynb',\n",
       " 'Date1.ipynb',\n",
       " 'desktop.ini',\n",
       " 'Ensemble Classifiers.ipynb',\n",
       " 'GitHub',\n",
       " 'Imputing with Pandas and Scikit-learn.ipynb',\n",
       " 'ML Mastery_NLP_1.ipynb',\n",
       " 'myfile.txt',\n",
       " 'NLP Capstone LDA.ipynb',\n",
       " 'NLP Capstone Sentiment Analysis of Finance Minister Speeches.ipynb',\n",
       " 'Numpy and Pandas Tutorial.ipynb',\n",
       " 'Personal Documents',\n",
       " 'Python Tutorial.ipynb',\n",
       " 'Recommender System via Surprise.ipynb',\n",
       " 'Speeches.png',\n",
       " 'SPS',\n",
       " 'Untitled.ipynb']"
      ]
     },
     "execution_count": 24,
     "metadata": {},
     "output_type": "execute_result"
    }
   ],
   "source": [
    "import os\n",
    "path = r\"C:\\Users\\solharsh\\Desktop\"\n",
    "os.listdir(path)"
   ]
  },
  {
   "cell_type": "code",
   "execution_count": 28,
   "metadata": {},
   "outputs": [
    {
     "name": "stdout",
     "output_type": "stream",
     "text": [
      "['hello', 'I', 'Harsh', 'period', 'I', 'used', 'stay', 'Indore', 'period', 'I', 'graduated', 'Jigsaw', 'Academy', 'period', 'I', 'love', 'coffee', 'period', 'I', 'love', 'watching', 'movies', 'series', 'period', 'I', 'fan', 'sci-fi', 'thriller', 'genre', 'period', 'I', 'love', 'eating', 'street', 'food', 'period', 'I', 'love', 'hangout', 'Sundays', 'Saturdays', 'period', 'I', 'good', 'learning', 'new', 'concepts', 'period', 'I', 'bad', 'dancing', 'period', 'I', 'like', 'make', 'machine', 'learning', 'models', 'I', 'interested', 'big', 'data', 'NLP', 'period', 'I', 'great', 'listener', 'good', 'public', 'speaker', 'period', 'I', 'love', 'drinking', 'whiskey', 'period', 'I', 'like', 'go', 'dinner', 'period', 'hello', 'period', 'hello', 'I', 'best', 'person', 'ever', 'born', 'planet,', 'I', 'best', 'person', 'ever', 'born', 'planet', 'period', 'I', 'best', 'person', 'ever', 'born', 'planet', 'I', 'Am', 'A', 'Maverick', 'Be', 'A', 'Maverick', 'like', 'Logan', 'Paul,', 'ophthalmologist', 'period']\n",
      "[('I', 19), ('period', 17), ('love', 5), ('hello', 3), ('like', 3), ('best', 3), ('person', 3), ('ever', 3), ('born', 3), ('good', 2), ('learning', 2), ('planet', 2), ('A', 2), ('Maverick', 2), ('Harsh', 1), ('used', 1), ('stay', 1), ('Indore', 1), ('graduated', 1), ('Jigsaw', 1), ('Academy', 1), ('coffee', 1), ('watching', 1), ('movies', 1), ('series', 1), ('fan', 1), ('sci-fi', 1), ('thriller', 1), ('genre', 1), ('eating', 1), ('street', 1), ('food', 1), ('hangout', 1), ('Sundays', 1), ('Saturdays', 1), ('new', 1), ('concepts', 1), ('bad', 1), ('dancing', 1), ('make', 1), ('machine', 1), ('models', 1), ('interested', 1), ('big', 1), ('data', 1), ('NLP', 1), ('great', 1), ('listener', 1), ('public', 1), ('speaker', 1), ('drinking', 1), ('whiskey', 1), ('go', 1), ('dinner', 1), ('planet,', 1), ('Am', 1), ('Be', 1), ('Logan', 1), ('Paul,', 1), ('ophthalmologist', 1)]\n",
      "[\"hello I am Harsh period I used to stay in Indore period I have graduated from Jigsaw Academy period I love coffee period I love watching movies and series period I am a fan of sci-fi and thriller genre period I love eating street food period I love to hangout on Sundays and Saturdays period I am good in learning new concepts period I am very bad in dancing period I like to make machine learning models and I am interested in big data and NLP period I am a great listener and a good public speaker period I love drinking whiskey period I don't like to go out for dinner period hello how are you doing period hello I am the best person ever born on this planet, I am the best person to ever be born on this planet period I am the best person ever born on this planet I Am A Maverick Be A Maverick be like Logan Paul, be a ophthalmologist period\"]\n",
      "###################################################################################\n",
      "[0]\n",
      "###################################################################################\n",
      "[\"hello I am Harsh period I used to stay in Indore period I have graduated from Jigsaw Academy period I love coffee period I love watching movies and series period I am a fan of sci-fi and thriller genre period I love eating street food period I love to hangout on Sundays and Saturdays period I am good in learning new concepts period I am very bad in dancing period I like to make machine learning models and I am interested in big data and NLP period I am a great listener and a good public speaker period I love drinking whiskey period I don't like to go out for dinner period hello how are you doing period hello I am the best person ever born on this planet, I am the best person to ever be born on this planet period I am the best person ever born on this planet I Am A Maverick Be A Maverick be like Logan Paul, be a ophthalmologist period\"]\n",
      "###################################################################################\n",
      "[\"hello I am Harsh period I used to stay in Indore period I have graduated from Jigsaw Academy period I love coffee period I love watching movies and series period I am a fan of sci-fi and thriller genre period I love eating street food period I love to hangout on Sundays and Saturdays period I am good in learning new concepts period I am very bad in dancing period I like to make machine learning models and I am interested in big data and NLP period I am a great listener and a good public speaker period I love drinking whiskey period I don't like to go out for dinner period hello how are you doing period hello I am the best person ever born on this planet, I am the best person to ever be born on this planet period I am the best person ever born on this planet I Am A Maverick Be A Maverick be like Logan Paul, be a ophthalmologist period\"]\n"
     ]
    },
    {
     "name": "stderr",
     "output_type": "stream",
     "text": [
      "[nltk_data] Downloading package stopwords to\n",
      "[nltk_data]     C:\\Users\\solharsh\\AppData\\Roaming\\nltk_data...\n",
      "[nltk_data]   Package stopwords is already up-to-date!\n"
     ]
    }
   ],
   "source": [
    "import numpy as np\n",
    "import pandas as pd\n",
    "from bs4 import BeautifulSoup\n",
    "import nltk\n",
    "import urllib.request\n",
    "from nltk.corpus import stopwords\n",
    "from nltk.tokenize import word_tokenize, sent_tokenize\n",
    "from string import punctuation\n",
    "from heapq import nlargest\n",
    "nltk.download(\"stopwords\")\n",
    "from collections import defaultdict\n",
    "\n",
    "\n",
    "file = open(\"myfile.txt\", \"r\")\n",
    "text1 = file.readlines()\n",
    "text=text1[0]\n",
    "# tokenize the text\n",
    "tokens =[t for t in text.split()]\n",
    "\n",
    "clean_token =tokens[:]\n",
    "#define irrelevant words that include stop words , punctuations and numbers\n",
    "stopword = set(stopwords.words('english') + list(punctuation) + list(\"0123456789\") )\n",
    "for token in tokens:\n",
    "    if token in stopword:\n",
    "        clean_token.remove(token)\n",
    "\n",
    "print(clean_token)\n",
    "\n",
    "freq = nltk.FreqDist(clean_token)\n",
    "top_words=[]\n",
    "top_words=freq.most_common(100)\n",
    "print(top_words)\n",
    "\n",
    "sentences = sent_tokenize(text)\n",
    "print(sentences)\n",
    "\n",
    "print(\"###################################################################################\")\n",
    "ranking = defaultdict(int)\n",
    "for i, sent in enumerate(sentences):\n",
    "    for word in word_tokenize(sent.lower()):\n",
    "        if word in freq:\n",
    "            ranking[i]+=freq[word]\n",
    "    top_sentences = nlargest(10, ranking, ranking.get)\n",
    "print(top_sentences)\n",
    "print(\"###################################################################################\")\n",
    "\n",
    "print(sentences)\n",
    "print(\"###################################################################################\")\n",
    "\n",
    "sorted_sentences = [sentences[j] for j in sorted(top_sentences)]\n",
    "print(sorted_sentences)"
   ]
  },
  {
   "cell_type": "code",
   "execution_count": null,
   "metadata": {},
   "outputs": [],
   "source": []
  }
 ],
 "metadata": {
  "kernelspec": {
   "display_name": "Python 3",
   "language": "python",
   "name": "python3"
  },
  "language_info": {
   "codemirror_mode": {
    "name": "ipython",
    "version": 3
   },
   "file_extension": ".py",
   "mimetype": "text/x-python",
   "name": "python",
   "nbconvert_exporter": "python",
   "pygments_lexer": "ipython3",
   "version": "3.7.4"
  }
 },
 "nbformat": 4,
 "nbformat_minor": 2
}

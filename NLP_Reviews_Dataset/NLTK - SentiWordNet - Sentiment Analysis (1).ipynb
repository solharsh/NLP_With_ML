{
 "cells": [
  {
   "cell_type": "code",
   "execution_count": 1,
   "metadata": {},
   "outputs": [
    {
     "name": "stderr",
     "output_type": "stream",
     "text": [
      "[nltk_data] Downloading package punkt to\n",
      "[nltk_data]     C:\\Users\\solharsh\\AppData\\Roaming\\nltk_data...\n",
      "[nltk_data]   Package punkt is already up-to-date!\n",
      "[nltk_data] Downloading package wordnet to\n",
      "[nltk_data]     C:\\Users\\solharsh\\AppData\\Roaming\\nltk_data...\n",
      "[nltk_data]   Package wordnet is already up-to-date!\n",
      "[nltk_data] Downloading package sentiwordnet to\n",
      "[nltk_data]     C:\\Users\\solharsh\\AppData\\Roaming\\nltk_data...\n",
      "[nltk_data]   Package sentiwordnet is already up-to-date!\n"
     ]
    }
   ],
   "source": [
    "import nltk\n",
    "from nltk.tokenize import word_tokenize\n",
    "from nltk.stem import SnowballStemmer\n",
    "# We need to download the 'punkt' package to use tokenizers\n",
    "nltk.download('punkt')\n",
    "nltk.download('wordnet')\n",
    "nltk.download('sentiwordnet')\n",
    "from nltk.corpus import sentiwordnet as swn"
   ]
  },
  {
   "cell_type": "markdown",
   "metadata": {},
   "source": [
    "# SentiWordNet word scores:\n",
    "\n",
    "We will go through some sample sentences, look at word's sentiments. Steps are:\n",
    "\n",
    "    Tokenize each sentence\n",
    "    Lemmatize each token and check its sentiment"
   ]
  },
  {
   "cell_type": "code",
   "execution_count": 2,
   "metadata": {},
   "outputs": [
    {
     "name": "stdout",
     "output_type": "stream",
     "text": [
      "<lashkar-e-taiba.n.01: PosScore=0.0 NegScore=0.0>\n",
      "<go.n.01: PosScore=0.0 NegScore=0.0>\n",
      "<home.n.01: PosScore=0.0 NegScore=0.0>\n",
      "<car.n.01: PosScore=0.0 NegScore=0.0>\n",
      "<be.v.01: PosScore=0.25 NegScore=0.125>\n",
      "<fast.n.01: PosScore=0.0 NegScore=0.0>\n",
      "<be.v.01: PosScore=0.25 NegScore=0.125>\n",
      "<fail.v.01: PosScore=0.0 NegScore=0.125>\n",
      "<class.n.01: PosScore=0.0 NegScore=0.0>\n",
      "<weather.n.01: PosScore=0.0 NegScore=0.0>\n",
      "<be.v.01: PosScore=0.25 NegScore=0.125>\n",
      "<warm.v.01: PosScore=0.25 NegScore=0.0>\n",
      "<today.n.01: PosScore=0.125 NegScore=0.0>\n"
     ]
    }
   ],
   "source": [
    "# Initialize stemmer. \n",
    "ss = SnowballStemmer('english')\n",
    "# Our sample sentences here.\n",
    "sentences = [\"Let's go home.\",\n",
    "    \"My car is expensive and fast\",\n",
    "    \"This movie is exciting.\",\n",
    "    \"You failed this class\",\n",
    "    \"The weather is warm today!\"\n",
    "    ]\n",
    "for sentence in sentences:\n",
    "    tokens = word_tokenize(sentence)\n",
    "    for word in tokens:\n",
    "        lemma = ss.stem(word)\n",
    "        synsets = list(swn.senti_synsets(lemma))\n",
    "       # if it is not in the sentiment library, pass. \n",
    "        if not synsets:\n",
    "            continue\n",
    "        # Pick the first result\n",
    "        synset = synsets[0]\n",
    "        print(synset)"
   ]
  },
  {
   "cell_type": "markdown",
   "metadata": {},
   "source": [
    "# SentiWordNet sentiments applied to sentences:\n",
    "\n",
    "It is nice to have these individual words having sentiments, but what about sentences? How can we evaluate sentences?\n",
    "\n",
    "    Let's implement something very simple. We can take difference between positive and negative score for each token in the sentence and sum them.\n",
    "    The result will be the overall score for our sentence.\n",
    "    We will update the previous code slightly."
   ]
  },
  {
   "cell_type": "code",
   "execution_count": 3,
   "metadata": {},
   "outputs": [
    {
     "name": "stdout",
     "output_type": "stream",
     "text": [
      "Sentence: Let's go home. Sentiment Score: 0.0\n",
      "Sentence: My car is expensive and fast Sentiment Score: 0.125\n",
      "Sentence: This movie is exciting. Sentiment Score: 0.125\n",
      "Sentence: You failed this class Sentiment Score: -0.125\n",
      "Sentence: The weather is warm today! Sentiment Score: 0.5\n"
     ]
    }
   ],
   "source": [
    "sentence_sentiments = []\n",
    "\n",
    "for sentence in sentences:\n",
    "    sentence_sentiment = 0\n",
    "    tokens = word_tokenize(sentence)\n",
    "    for word in tokens:\n",
    "        lemma = ss.stem(word)\n",
    "        synsets = list(swn.senti_synsets(lemma))\n",
    "        # if it is not in the sentiment library, pass. \n",
    "        if not synsets:\n",
    "            continue\n",
    "        # Pick the first result\n",
    "        synset = synsets[0]\n",
    "        # Let's add up token scores.\n",
    "        sentence_sentiment += synset.pos_score() - synset.neg_score()\n",
    "    print(\"Sentence:\", sentence, \"Sentiment Score:\", sentence_sentiment)"
   ]
  },
  {
   "cell_type": "markdown",
   "metadata": {},
   "source": [
    "Many words have relatively different sentiment depending on the local context.\n",
    "We disregard the relationship between words."
   ]
  },
  {
   "cell_type": "code",
   "execution_count": null,
   "metadata": {},
   "outputs": [],
   "source": []
  }
 ],
 "metadata": {
  "kernelspec": {
   "display_name": "Python 3",
   "language": "python",
   "name": "python3"
  },
  "language_info": {
   "codemirror_mode": {
    "name": "ipython",
    "version": 3
   },
   "file_extension": ".py",
   "mimetype": "text/x-python",
   "name": "python",
   "nbconvert_exporter": "python",
   "pygments_lexer": "ipython3",
   "version": "3.7.4"
  }
 },
 "nbformat": 4,
 "nbformat_minor": 2
}
